{
 "cells": [
  {
   "cell_type": "code",
   "execution_count": 14,
   "metadata": {
    "collapsed": false
   },
   "outputs": [
    {
     "ename": "TypeError",
     "evalue": "__init__() got an unexpected keyword argument 'max'",
     "output_type": "error",
     "traceback": [
      "\u001b[0;31m---------------------------------------------------------------------------\u001b[0m",
      "\u001b[0;31mTypeError\u001b[0m                                 Traceback (most recent call last)",
      "\u001b[0;32m<ipython-input-14-5fcf7f5b04bd>\u001b[0m in \u001b[0;36m<module>\u001b[0;34m()\u001b[0m\n\u001b[1;32m     22\u001b[0m \u001b[0mlineNo\u001b[0m \u001b[0;34m=\u001b[0m \u001b[0;36m0\u001b[0m \u001b[0;31m# count lines\u001b[0m\u001b[0;34m\u001b[0m\u001b[0m\n\u001b[1;32m     23\u001b[0m \u001b[0mnum_lines\u001b[0m \u001b[0;34m=\u001b[0m \u001b[0msum\u001b[0m\u001b[0;34m(\u001b[0m\u001b[0;36m1\u001b[0m \u001b[0;32mfor\u001b[0m \u001b[0mline\u001b[0m \u001b[0;32min\u001b[0m \u001b[0mopen\u001b[0m\u001b[0;34m(\u001b[0m\u001b[0mdata_filepath\u001b[0m\u001b[0;34m,\u001b[0m \u001b[0;34m'r'\u001b[0m\u001b[0;34m)\u001b[0m\u001b[0;34m)\u001b[0m \u001b[0;31m# total lines\u001b[0m\u001b[0;34m\u001b[0m\u001b[0m\n\u001b[0;32m---> 24\u001b[0;31m \u001b[0mbar\u001b[0m \u001b[0;34m=\u001b[0m \u001b[0mprogressbar\u001b[0m\u001b[0;34m.\u001b[0m\u001b[0mProgressBar\u001b[0m\u001b[0;34m(\u001b[0m\u001b[0mmax\u001b[0m\u001b[0;34m=\u001b[0m\u001b[0mnum_lines\u001b[0m\u001b[0;34m)\u001b[0m\u001b[0;34m\u001b[0m\u001b[0m\n\u001b[0m\u001b[1;32m     25\u001b[0m \u001b[0;34m\u001b[0m\u001b[0m\n\u001b[1;32m     26\u001b[0m \u001b[0;32mwith\u001b[0m \u001b[0mopen\u001b[0m\u001b[0;34m(\u001b[0m\u001b[0mdata_filepath\u001b[0m\u001b[0;34m,\u001b[0m \u001b[0;34m'r'\u001b[0m\u001b[0;34m)\u001b[0m \u001b[0;32mas\u001b[0m \u001b[0mdata_file\u001b[0m\u001b[0;34m:\u001b[0m\u001b[0;34m\u001b[0m\u001b[0m\n",
      "\u001b[0;31mTypeError\u001b[0m: __init__() got an unexpected keyword argument 'max'"
     ]
    }
   ],
   "source": [
    "from __future__ import print_function\n",
    "\n",
    "import os, sys\n",
    "rdkit_path = '/home/sshschem/rdkit' # rdkit path for jupyter\n",
    "sys.path.append(rdkit_path)\n",
    "\n",
    "import re\n",
    "import cPickle, gzip\n",
    "import progressbar\n",
    "from rdkit.Chem import AllChem\n",
    "\n",
    "data_directory = 'data'\n",
    "data_filename = '2001-2013_USPTOapplications_reactionSmiles_feb2014filters.rsmi'\n",
    "removed_mapping_filename = '2001-2013_rsmi_filtered_removed_mapping.pkl.gz'\n",
    "length_data_filename = 'length_data.pkl.gz'\n",
    "\n",
    "data_filepath = os.path.join(data_directory, data_filename)\n",
    "removed_mapping_filepath = os.path.join(data_directory, removed_mapping_filename)\n",
    "length_data_filepath = length_data_filename\n",
    "\n",
    "length_list = [] # list of tuple (reactants length, products length)\n",
    "lineNo = 0 # count lines\n",
    "num_lines = sum(1 for line in open(data_filepath, 'r')) # total lines\n",
    "bar = progressbar.ProgressBar(redirect_stdout=True, max_value=num_lines)\n",
    "\n",
    "with open(data_filepath, 'r') as data_file:\n",
    "    with gzip.open(removed_mapping_filepath, 'wb+') as output_file:\n",
    "        for i, line in enumerate(data_file):\n",
    "            rsmi = re.split(re.compile(r'[ \\t]'), line)\n",
    "            rxn = AllChem.ReactionFromSmarts(rsmi[0], useSmiles=True)\n",
    "            AllChem.RemoveMappingNumbersFromReactions(rxn)\n",
    "            output_smiles = AllChem.ReactionToSmiles(rxn)\n",
    "            length_list.append((output_smiles.rfind('>'), \\\n",
    "                                len(output_smiles)-output_smiles.rfind('>')-1))\n",
    "            cPickle.dump((output_smiles, rsmi[2]+rsmi[1]), output_file, 2)\n",
    "            bar.update(i)\n",
    "\n",
    "# save length tuple list for later use\n",
    "with open(length_data_filename, 'wb+') as f:\n",
    "    cPickle.dump(length_list, f, 2)"
   ]
  },
  {
   "cell_type": "code",
   "execution_count": null,
   "metadata": {
    "collapsed": true
   },
   "outputs": [],
   "source": []
  }
 ],
 "metadata": {
  "kernelspec": {
   "display_name": "Python 2",
   "language": "python",
   "name": "python2"
  },
  "language_info": {
   "codemirror_mode": {
    "name": "ipython",
    "version": 2
   },
   "file_extension": ".py",
   "mimetype": "text/x-python",
   "name": "python",
   "nbconvert_exporter": "python",
   "pygments_lexer": "ipython2",
   "version": "2.7.12"
  }
 },
 "nbformat": 4,
 "nbformat_minor": 1
}
