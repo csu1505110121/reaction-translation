{
 "cells": [
  {
   "cell_type": "markdown",
   "metadata": {},
   "source": [
    "Import saved reaction datas"
   ]
  },
  {
   "cell_type": "code",
   "execution_count": 1,
   "metadata": {
    "collapsed": true
   },
   "outputs": [],
   "source": [
    "from __future__ import print_function\n",
    "\n",
    "import os\n",
    "import re\n",
    "import cPickle, gzip\n",
    "import progressbar\n",
    "from rdkit.Chem import AllChem"
   ]
  },
  {
   "cell_type": "code",
   "execution_count": 2,
   "metadata": {
    "collapsed": false
   },
   "outputs": [
    {
     "name": "stderr",
     "output_type": "stream",
     "text": [
      " 99% (1088828 of 1094235) |################ | Elapsed Time: 0:00:13 ETA: 0:00:00"
     ]
    }
   ],
   "source": [
    "data_directory = 'data'\n",
    "processed_data_filename = 'processed_data.pkl.gz'\n",
    "processed_data_filepath = os.path.join(data_directory, processed_data_filename)\n",
    "data_length = 1094235\n",
    "\n",
    "bar = progressbar.ProgressBar(max_value=data_length)\n",
    "\n",
    "rsmi_data = []\n",
    "\n",
    "with gzip.open(processed_data_filepath, 'rb') as data_file:\n",
    "    i = 1\n",
    "    while 1:\n",
    "        try:\n",
    "            line, ref = cPickle.load(data_file)\n",
    "            rsmi_data.append((line, ref))\n",
    "        except EOFError:\n",
    "            break\n",
    "            \n",
    "        bar.update(i)\n",
    "        i += 1"
   ]
  },
  {
   "cell_type": "code",
   "execution_count": 15,
   "metadata": {
    "collapsed": false
   },
   "outputs": [
    {
     "name": "stderr",
     "output_type": "stream",
     "text": [
      " 99% (1094226 of 1094235) |################ | Elapsed Time: 3:45:15 ETA: 0:00:00"
     ]
    }
   ],
   "source": [
    "import parser.Smipar as Smipar\n",
    "\n",
    "bar = progressbar.ProgressBar(max_value=data_length)\n",
    "\n",
    "_PAD = \"_PAD\"\n",
    "_GO = \"_GO\"\n",
    "_EOS = \"_EOS\"\n",
    "_START_VOCAB = [_PAD, _GO, _EOS]\n",
    "\n",
    "PAD_ID = 0\n",
    "GO_ID = 1\n",
    "EOS_ID = 2\n",
    "\n",
    "vocab_reactants = {}\n",
    "vocab_products = {}\n",
    "\n",
    "for i, rsmi in enumerate(rsmi_data):\n",
    "    \n",
    "    rsmi = rsmi[0]\n",
    "    \n",
    "    reactant_list = []\n",
    "    agent_list = []\n",
    "    product_list = []\n",
    "\n",
    "    split_rsmi = rsmi.split('>')\n",
    "    reactants = split_rsmi[0].split('.')\n",
    "    agents = split_rsmi[1].split('.')\n",
    "    products = split_rsmi[2].split('.')\n",
    "\n",
    "    for reactant in reactants:\n",
    "        reactant_list += Smipar.parser_list(reactant)\n",
    "        reactant_list += '.'\n",
    "    for agent in agents:\n",
    "        agent_list += Smipar.parser_list(agent)\n",
    "        agent_list += '.'\n",
    "    for product in products:\n",
    "        product_list += Smipar.parser_list(product)\n",
    "        product_list += '.'\n",
    "      \n",
    "    reactant_list.pop() # to pop last '.'\n",
    "    agent_list.pop()\n",
    "    product_list.pop()\n",
    "    \n",
    "    reactant_list += '>'\n",
    "    reactant_list += agent_list\n",
    "    \n",
    "    for reactant_token in reactant_list:\n",
    "        if reactant_token in vocab_reactants:\n",
    "            vocab_reactants[reactant_token] += 1\n",
    "        else:\n",
    "            vocab_reactants[reactant_token] = 1\n",
    "    \n",
    "    for product_token in product_list:\n",
    "        if product_token in vocab_products:\n",
    "            vocab_products[product_token] += 1\n",
    "        else:\n",
    "            vocab_products[product_token] = 1\n",
    "            \n",
    "    bar.update(i)"
   ]
  },
  {
   "cell_type": "code",
   "execution_count": 18,
   "metadata": {
    "collapsed": false
   },
   "outputs": [],
   "source": [
    "reactants_token_list = _START_VOCAB \\\n",
    "        + sorted(vocab_reactants, key=vocab_reactants.get, reverse=True)\n",
    "\n",
    "products_token_list = _START_VOCAB \\\n",
    "        + sorted(vocab_products, key=vocab_products.get, reverse=True)\n",
    "    \n",
    "with gzip.open('data/vocab/vocab_dict.pkl.gz', 'wb') as dict_file:\n",
    "    cPickle.dump((vocab_reactants, vocab_products), dict_file, 2)\n",
    "    \n",
    "with gzip.open('data/vocab/vocab_list.pkl.gz', 'wb') as list_file:\n",
    "    cPickle.dump((reactants_token_list, products_token_list), list_file, 2)"
   ]
  },
  {
   "cell_type": "code",
   "execution_count": 3,
   "metadata": {
    "collapsed": false
   },
   "outputs": [],
   "source": [
    "# data reloader\n",
    "\n",
    "with gzip.open('data/vocab/vocab_dict.pkl.gz', 'rb') as dict_file:\n",
    "    vocab_reactants, vocab_products = cPickle.load(dict_file)\n",
    "\n",
    "with gzip.open('data/vocab/vocab_list.pkl.gz', 'rb') as list_file:\n",
    "    reactants_token_list, products_token_list = cPickle.load(list_file)"
   ]
  },
  {
   "cell_type": "code",
   "execution_count": 11,
   "metadata": {
    "collapsed": false
   },
   "outputs": [
    {
     "name": "stdout",
     "output_type": "stream",
     "text": [
      "326\n",
      "['_PAD', '_GO', '_EOS', u'C', u'c', u'(', u')', u'O', u'1', '.', u'=', u'N', u'2', u'n', u'Cl', '>', u'F', u'3', u'[O-]', u'S', u'Br', u'[Na+]', u'-', u'#', u'[K+]', u'4', u'[N+]', u'[C@H]', u'[C@@H]', u'[nH]', u's', u'[OH-]', u'[H-]', u'I', u'o', u'/', u'P', u'[Cl-]', u'B', u'[Si]', u'[Li+]', u'[Cs+]', u'[NH4+]', u'[N-]', u'5', u'[H]', u'[Li]', u'[Br-]', u'[BH4-]', u'[Cu]', u'[Al+3]', u'[I-]', u'[P-]', u'[Mg+]', u'[Pd]', u'[Pd+2]', u'[BH-]', u'\\\\', u'[C@]', u'[F-]', u'[Sn]', u'[C@@]', u'[BH3-]', u'[Na]', u'[Fe]', u'[SiH]', u'[P+]', u'[n+]', u'[Zn]', u'[B-]', u'[C-]', u'[nH+]', u'[NH3+]', u'[K]', u'[Cu+2]', u'[Mg]', u'6', u'[Al+]', u'[S-]', u'[Mn]', u'[Al]', u'[Mg+2]', u'[Zn+2]', u'[Pt]', u'[Ti+4]', u'[Cr]', u'[AlH]', u'[Ca+2]', u'[SiH2]', u'[NH2+]', u'[Zn+]', u'b', u'[Ni]', u'[S+]', u'[Ru]', u'[NH-]', u'[SH]', u'[PH]', u'[O+]', u'[Se]']\n",
      "[u'[Gd+3]', u'[Ru-2]', u'[Dy+3]', u'[CuH]', u'[Tl]', u'[Ti+]', u'[Sb-]', u'[Ag-2]', u'[SH2+]', u'[Gd]', u'[PH4]', u'[Sb+3]', u'[Ho+3]', u'[Bi+2]', u'[Sn+6]']\n",
      "--------\n",
      "197\n",
      "['_PAD', '_GO', '_EOS', u'c', u'C', u'(', u')', u'1', u'O', u'2', u'=', u'N', u'n', u'3', u'F', u'Cl', u'-', u'4', u'S', u'[C@H]', u'[C@@H]', u's', u'Br', u'#', u'[nH]', u'o', '.', u'[O-]', u'[N+]', u'5', u'/', u'I', u'[Si]', u'\\\\', u'[C@]', u'B', u'[C@@]', u'P', u'6', u'[N-]', u'[n+]', u'[Cl-]', u'[Br-]', u'[Na+]', u'[Sn]', u'[NH4+]', u'[OH-]', u'[I-]', u'[SiH]', u'[SiH2]', u'[P+]', u'[S@@]', u'[SH]', u'[Li+]', u'[NH2+]', u'7', u'[NH+]', u'[S@]', u'[NH3+]', u'[K+]', u'[se]', u'[PH]', u'[S+]', u'[Na]', u'[C-]', u'[NH-]', u'[nH+]', u'[Se]', u'[Mg+]', u'[B-]', u'[NH2-]', u'[Li]', u'[Ca]', u'[Zn+]', u'[P-]', u'[S-]', u'[s+]', u'[Mg]', u'[K]', u'[Zn]', u'[Ca+2]', u'[n-]', u'[SiH3]', u'[I+]', u'[Mg+2]', u'[Ag+]', u'[Sr+2]', u'[PH2]', u'[Ag]', u'[F-]', u'[Te]', u'[Zn+2]', u'[Ti]', u'[Cr]', u'[SnH4]', u'[CH2-]', u'[Zr+2]', u'[sH+]', u'[C+]', u'[o+]']\n",
      "[u'[Au]', u'[IH]', u'b', u'[BH3-]', u'[AlH3]', u'[Ti+]', u'[Mn]', u'[N@H+]', u'[BH-]', u'[PH3]', u'[TaH3]', u'[OH+]', u'[TeH]', u'[Ag-]', u'[Cu+3]']\n"
     ]
    }
   ],
   "source": [
    "print(len(reactants_token_list))\n",
    "print(reactants_token_list[:100])\n",
    "print(reactants_token_list[-15:])\n",
    "\n",
    "print('--------')\n",
    "\n",
    "print(len(products_token_list))\n",
    "print(products_token_list[:100])\n",
    "print(products_token_list[-15:])"
   ]
  },
  {
   "cell_type": "code",
   "execution_count": 8,
   "metadata": {
    "collapsed": false
   },
   "outputs": [
    {
     "name": "stdout",
     "output_type": "stream",
     "text": [
      "C 14349258\n",
      "c 13448060\n",
      "( 6852744\n",
      ") 6852744\n",
      "O 5543060\n",
      "1 4637546\n",
      ". 3210541\n",
      "= 2950216\n",
      "N 2150475\n",
      "2 2133048\n",
      "n 1262323\n",
      "Cl 1230744\n",
      "> 1094234\n",
      "F 955206\n",
      "3 673958\n",
      "[O-] 456584\n",
      "S 325640\n",
      "--------\n",
      "c 11326705\n",
      "C 7796306\n",
      "( 4698161\n",
      ") 4698161\n",
      "1 2880258\n",
      "O 2704185\n",
      "2 2081720\n",
      "= 1636582\n",
      "N 1521848\n",
      "n 1131947\n",
      "3 935410\n",
      "F 660949\n",
      "Cl 326621\n",
      "- 311248\n",
      "4 290488\n",
      "S 185083\n",
      "[C@H] 126285\n"
     ]
    }
   ],
   "source": [
    "for token in reactants_token_list[3:20]:\n",
    "    print(token, vocab_reactants.get(token))\n",
    "    \n",
    "print('--------')\n",
    "\n",
    "for token in products_token_list[3:20]:\n",
    "    print(token, vocab_products.get(token))"
   ]
  },
  {
   "cell_type": "code",
   "execution_count": 9,
   "metadata": {
    "collapsed": false
   },
   "outputs": [
    {
     "name": "stdout",
     "output_type": "stream",
     "text": [
      "71097704\n",
      "44304102\n"
     ]
    }
   ],
   "source": [
    "print(sum(vocab_reactants.itervalues()))\n",
    "print(sum(vocab_products.itervalues()))"
   ]
  },
  {
   "cell_type": "code",
   "execution_count": null,
   "metadata": {
    "collapsed": true
   },
   "outputs": [],
   "source": []
  }
 ],
 "metadata": {
  "kernelspec": {
   "display_name": "Python 2",
   "language": "python",
   "name": "python2"
  },
  "language_info": {
   "codemirror_mode": {
    "name": "ipython",
    "version": 2
   },
   "file_extension": ".py",
   "mimetype": "text/x-python",
   "name": "python",
   "nbconvert_exporter": "python",
   "pygments_lexer": "ipython2",
   "version": "2.7.12"
  }
 },
 "nbformat": 4,
 "nbformat_minor": 1
}
