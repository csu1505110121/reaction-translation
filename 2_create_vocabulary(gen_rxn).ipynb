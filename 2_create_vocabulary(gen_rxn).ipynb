{
 "cells": [
  {
   "cell_type": "code",
   "execution_count": 1,
   "metadata": {
    "collapsed": true
   },
   "outputs": [],
   "source": [
    "from __future__ import print_function\n",
    "\n",
    "import os\n",
    "import re\n",
    "import cPickle, gzip\n",
    "import progressbar\n",
    "from rdkit.Chem import AllChem"
   ]
  },
  {
   "cell_type": "code",
   "execution_count": 4,
   "metadata": {
    "collapsed": false
   },
   "outputs": [
    {
     "name": "stdout",
     "output_type": "stream",
     "text": [
      "865118\n"
     ]
    }
   ],
   "source": [
    "with gzip.open('gen_rxn/data/all_rxns.pkl.gz', 'rb') as f:\n",
    "    rxn_all = cPickle.load(f)\n",
    "\n",
    "data_length = len(rxn_all)\n",
    "print(data_length)"
   ]
  },
  {
   "cell_type": "code",
   "execution_count": 6,
   "metadata": {
    "collapsed": false
   },
   "outputs": [
    {
     "name": "stderr",
     "output_type": "stream",
     "text": [
      " 99% (865116 of 865118) |################## | Elapsed Time: 1:35:56 ETA: 0:00:00"
     ]
    }
   ],
   "source": [
    "import parser.Smipar as Smipar\n",
    "\n",
    "bar = progressbar.ProgressBar(max_value=data_length)\n",
    "\n",
    "_PAD = \"_PAD\"\n",
    "_GO = \"_GO\"\n",
    "_EOS = \"_EOS\"\n",
    "_START_VOCAB = [_PAD, _GO, _EOS]\n",
    "\n",
    "PAD_ID = 0\n",
    "GO_ID = 1\n",
    "EOS_ID = 2\n",
    "\n",
    "vocab_reactants = {}\n",
    "vocab_products = {}\n",
    "\n",
    "for i, rsmi in enumerate(rxn_all):\n",
    "    \n",
    "    reactant_list = []\n",
    "    agent_list = []\n",
    "    product_list = []\n",
    "\n",
    "    split_rsmi = rsmi.split('>')\n",
    "    reactants = split_rsmi[0].split('.')\n",
    "    agents = split_rsmi[1].split('.')\n",
    "    products = split_rsmi[2].split('.')\n",
    "\n",
    "    for reactant in reactants:\n",
    "        reactant_list += Smipar.parser_list(reactant)\n",
    "        reactant_list += '.'\n",
    "    for agent in agents:\n",
    "        agent_list += Smipar.parser_list(agent)\n",
    "        agent_list += '.'\n",
    "    for product in products:\n",
    "        product_list += Smipar.parser_list(product)\n",
    "        product_list += '.'\n",
    "      \n",
    "    reactant_list.pop() # to pop last '.'\n",
    "    agent_list.pop()\n",
    "    product_list.pop()\n",
    "    \n",
    "    reactant_list += '>'\n",
    "    reactant_list += agent_list\n",
    "    \n",
    "    for reactant_token in reactant_list:\n",
    "        if reactant_token in vocab_reactants:\n",
    "            vocab_reactants[reactant_token] += 1\n",
    "        else:\n",
    "            vocab_reactants[reactant_token] = 1\n",
    "    \n",
    "    for product_token in product_list:\n",
    "        if product_token in vocab_products:\n",
    "            vocab_products[product_token] += 1\n",
    "        else:\n",
    "            vocab_products[product_token] = 1\n",
    "            \n",
    "    bar.update(i)"
   ]
  },
  {
   "cell_type": "code",
   "execution_count": 7,
   "metadata": {
    "collapsed": true
   },
   "outputs": [],
   "source": [
    "reactants_token_list = _START_VOCAB \\\n",
    "        + sorted(vocab_reactants, key=vocab_reactants.get, reverse=True)\n",
    "\n",
    "products_token_list = _START_VOCAB \\\n",
    "        + sorted(vocab_products, key=vocab_products.get, reverse=True)"
   ]
  },
  {
   "cell_type": "code",
   "execution_count": 8,
   "metadata": {
    "collapsed": false
   },
   "outputs": [
    {
     "name": "stdout",
     "output_type": "stream",
     "text": [
      "57\n",
      "['_PAD', '_GO', '_EOS', u'C', u'1', u'c', u')', u'(', u'O', u'2', '.', u'=', '>', u'Cl', u'3', u'Br', u'[Na+]', u'N', u'[O-]', u'[P+]', u'I', u'[H]', u'[H-]', u'S', u'[OH-]', u'B', u'[Br-]', u'#', u'[K+]', u'[Na]', u'[K]', u'[BH4-]', u'[I-]', u'[Cl-]', u'[Hg+2]', u'[O+]', u'4', u'[Mg+]', u'[Li]', u'[Cr]', u'P', u'[Pd]', u'[Mn]', u'[Zn]', u'n', u'[Pt]', u'[Ni]', u'[Al+3]', u'[Li+]', u'[Os]', u'[Hg]', u'[C-]', u'[Ba+2]', u'5', u'[N-]', u'[N+]', u'6']\n",
      "--------\n",
      "25\n",
      "['_PAD', '_GO', '_EOS', u'C', u'1', u')', u'(', u'2', u'O', u'=', u'3', u'c', u'Br', u'N', u'Cl', u'4', u'I', '.', u'5', u'B', u'S', u'#', u'6', u'7', u'8']\n"
     ]
    }
   ],
   "source": [
    "print(len(reactants_token_list))\n",
    "print(reactants_token_list[:100])\n",
    "\n",
    "print('--------')\n",
    "\n",
    "print(len(products_token_list))\n",
    "print(products_token_list[:100])"
   ]
  },
  {
   "cell_type": "code",
   "execution_count": 9,
   "metadata": {
    "collapsed": true
   },
   "outputs": [],
   "source": [
    "# compare with vocabulary from another database\n",
    "\n",
    "with gzip.open('data/vocab/vocab_list.pkl.gz', 'rb') as list_file:\n",
    "    big_reactants_token_list, big_products_token_list = cPickle.load(list_file)"
   ]
  },
  {
   "cell_type": "code",
   "execution_count": 10,
   "metadata": {
    "collapsed": false
   },
   "outputs": [
    {
     "name": "stdout",
     "output_type": "stream",
     "text": [
      "--------\n"
     ]
    }
   ],
   "source": [
    "for token in reactants_token_list:\n",
    "    if token not in big_reactants_token_list:\n",
    "        print(token)\n",
    "print('--------')\n",
    "for token in products_token_list:\n",
    "    if token not in big_products_token_list:\n",
    "        print(token)"
   ]
  },
  {
   "cell_type": "code",
   "execution_count": null,
   "metadata": {
    "collapsed": true
   },
   "outputs": [],
   "source": []
  }
 ],
 "metadata": {
  "kernelspec": {
   "display_name": "Python 2",
   "language": "python",
   "name": "python2"
  },
  "language_info": {
   "codemirror_mode": {
    "name": "ipython",
    "version": 2
   },
   "file_extension": ".py",
   "mimetype": "text/x-python",
   "name": "python",
   "nbconvert_exporter": "python",
   "pygments_lexer": "ipython2",
   "version": "2.7.12"
  }
 },
 "nbformat": 4,
 "nbformat_minor": 1
}
