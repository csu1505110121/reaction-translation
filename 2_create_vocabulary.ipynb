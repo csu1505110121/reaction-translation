{
 "cells": [
  {
   "cell_type": "markdown",
   "metadata": {},
   "source": [
    "Import saved reaction datas"
   ]
  },
  {
   "cell_type": "code",
   "execution_count": 1,
   "metadata": {
    "collapsed": true
   },
   "outputs": [],
   "source": [
    "from __future__ import print_function\n",
    "\n",
    "import os\n",
    "import re\n",
    "import cPickle, gzip\n",
    "import progressbar\n",
    "\n",
    "from rdkit import Chem\n",
    "from rdkit.Chem import AllChem"
   ]
  },
  {
   "cell_type": "code",
   "execution_count": 2,
   "metadata": {
    "collapsed": false
   },
   "outputs": [
    {
     "name": "stderr",
     "output_type": "stream",
     "text": [
      "100% (1094235 of 1094235) |################| Elapsed Time: 0:00:13 Time: 0:00:13\n"
     ]
    }
   ],
   "source": [
    "data_directory = 'data'\n",
    "processed_data_filename = 'processed_data.pkl.gz'\n",
    "processed_data_filepath = os.path.join(data_directory, processed_data_filename)\n",
    "data_length = 1094235\n",
    "\n",
    "bar = progressbar.ProgressBar(max_value=data_length)\n",
    "\n",
    "rsmi_data = []\n",
    "\n",
    "with gzip.open(processed_data_filepath, 'rb') as data_file:\n",
    "    i = 1\n",
    "    while 1:\n",
    "        try:\n",
    "            line, ref = cPickle.load(data_file)\n",
    "            rsmi_data.append((line, ref))\n",
    "        except EOFError:\n",
    "            break\n",
    "            \n",
    "        bar.update(i)\n",
    "        i += 1\n",
    "        \n",
    "bar.finish()"
   ]
  },
  {
   "cell_type": "code",
   "execution_count": 3,
   "metadata": {
    "collapsed": true
   },
   "outputs": [],
   "source": [
    "def cano(smiles): # canonicalize smiles by MolToSmiles function\n",
    "    return Chem.MolToSmiles(Chem.MolFromSmiles(smiles)) if (smiles != '') else ''"
   ]
  },
  {
   "cell_type": "code",
   "execution_count": 5,
   "metadata": {
    "collapsed": false
   },
   "outputs": [
    {
     "name": "stderr",
     "output_type": "stream",
     "text": [
      "100% (1094235 of 1094235) |################| Elapsed Time: 3:59:09 Time: 3:59:09\n"
     ]
    }
   ],
   "source": [
    "import parser.Smipar as Smipar\n",
    "\n",
    "bar = progressbar.ProgressBar(max_value=data_length)\n",
    "\n",
    "_PAD = \"_PAD\"\n",
    "_GO = \"_GO\"\n",
    "_EOS = \"_EOS\"\n",
    "_START_VOCAB = [_PAD, _GO, _EOS]\n",
    "\n",
    "PAD_ID = 0\n",
    "GO_ID = 1\n",
    "EOS_ID = 2\n",
    "\n",
    "vocab_reactants = {}\n",
    "vocab_products = {}\n",
    "\n",
    "error_rsmi = {}\n",
    "\n",
    "for i, rsmi in enumerate(rsmi_data):\n",
    "    \n",
    "    rsmi = rsmi[0]\n",
    "    \n",
    "    reactant_list = []\n",
    "    agent_list = []\n",
    "    product_list = []\n",
    "    \n",
    "    try:\n",
    "        split_rsmi = rsmi.split('>')\n",
    "        reactants = cano(split_rsmi[0]).split('.')\n",
    "        agents = cano(split_rsmi[1]).split('.')\n",
    "        products = cano(split_rsmi[2]).split('.')\n",
    "\n",
    "        for reactant in reactants:\n",
    "            reactant_list += Smipar.parser_list(reactant)\n",
    "            reactant_list += '.'\n",
    "        for agent in agents:\n",
    "            agent_list += Smipar.parser_list(agent)\n",
    "            agent_list += '.'\n",
    "        for product in products:\n",
    "            product_list += Smipar.parser_list(product)\n",
    "            product_list += '.'\n",
    "\n",
    "        reactant_list.pop() # to pop last '.'\n",
    "        agent_list.pop()\n",
    "        product_list.pop()\n",
    "\n",
    "        reactant_list += '>'\n",
    "        reactant_list += agent_list\n",
    "\n",
    "        for reactant_token in reactant_list:\n",
    "            if reactant_token in vocab_reactants:\n",
    "                vocab_reactants[reactant_token] += 1\n",
    "            else:\n",
    "                vocab_reactants[reactant_token] = 1\n",
    "\n",
    "        for product_token in product_list:\n",
    "            if product_token in vocab_products:\n",
    "                vocab_products[product_token] += 1\n",
    "            else:\n",
    "                vocab_products[product_token] = 1\n",
    "    except:\n",
    "        error_rsmi.update({i: rsmi})\n",
    "    \n",
    "    bar.update(i)\n",
    "    \n",
    "bar.finish()"
   ]
  },
  {
   "cell_type": "code",
   "execution_count": 11,
   "metadata": {
    "collapsed": false
   },
   "outputs": [
    {
     "data": {
      "text/plain": [
       "360"
      ]
     },
     "execution_count": 11,
     "metadata": {},
     "output_type": "execute_result"
    }
   ],
   "source": [
    "len(error_rsmi)"
   ]
  },
  {
   "cell_type": "code",
   "execution_count": 6,
   "metadata": {
    "collapsed": false
   },
   "outputs": [],
   "source": [
    "reactants_token_list = _START_VOCAB \\\n",
    "        + sorted(vocab_reactants, key=vocab_reactants.get, reverse=True)\n",
    "\n",
    "products_token_list = _START_VOCAB \\\n",
    "        + sorted(vocab_products, key=vocab_products.get, reverse=True)\n",
    "    \n",
    "with gzip.open('data/vocab/vocab_dict.pkl.gz', 'wb') as dict_file:\n",
    "    cPickle.dump((vocab_reactants, vocab_products), dict_file, 2)\n",
    "    \n",
    "with gzip.open('data/vocab/vocab_list.pkl.gz', 'wb') as list_file:\n",
    "    cPickle.dump((reactants_token_list, products_token_list), list_file, 2)"
   ]
  },
  {
   "cell_type": "code",
   "execution_count": 7,
   "metadata": {
    "collapsed": false
   },
   "outputs": [],
   "source": [
    "# data reloader\n",
    "\n",
    "with gzip.open('data/vocab/vocab_dict.pkl.gz', 'rb') as dict_file:\n",
    "    vocab_reactants, vocab_products = cPickle.load(dict_file)\n",
    "\n",
    "with gzip.open('data/vocab/vocab_list.pkl.gz', 'rb') as list_file:\n",
    "    reactants_token_list, products_token_list = cPickle.load(list_file)"
   ]
  },
  {
   "cell_type": "code",
   "execution_count": 8,
   "metadata": {
    "collapsed": false
   },
   "outputs": [
    {
     "name": "stdout",
     "output_type": "stream",
     "text": [
      "311\n",
      "['_PAD', '_GO', '_EOS', u'C', u'c', u'(', u')', u'O', u'1', '.', u'=', u'2', u'N', u'n', u'Cl', '>', u'F', u'3', u'[O-]', u'S', u'-', u'Br', u'[Na+]', u'#', u'[K+]', u'4', u'[N+]', u'[nH]', u's', u'[OH-]', u'[H-]', u'I', u'o', u'P', u'B', u'[Cl-]', u'[Si]', u'[Li+]', u'[Cs+]', u'[NH4+]', u'[N-]', u'5', u'[H]', u'[Li]', u'[Br-]', u'[BH4-]', u'[Cu]', u'[Al+3]', u'[I-]', u'[P-]', u'[Mg+]', u'[Pd]', u'[Pd+2]', u'[BH-]', u'[F-]', u'[Sn]', u'[BH3-]', u'[Na]', u'[Fe]', u'[SiH]', u'[P+]', u'[n+]', u'[Zn]', u'[B-]', u'[C-]', u'[nH+]', u'[NH3+]', u'[K]', u'[Cu+2]', u'[Mg]', u'6', u'[Al+]', u'[S-]', u'[Mn]', u'[Al]', u'[Mg+2]', u'[Zn+2]', u'[Pt]', u'[Ti+4]', u'[Cr]', u'[AlH]', u'[I+3]', u'[Ca+2]', u'[Cl+]', u'[SiH2]', u'[NH2+]', u'[Zn+]', u'[Ni]', u'[S+]', u'[Ru]', u'[Cl+3]', u'[PH]', u'[SH]', u'[NH-]', u'[O+]', u'[Se]', u'[Os]', u'[NH+]', u'[Ag+]', u'[SnH]']\n",
      "[u'[CH3+]', u'[Gd+3]', u'[Ru-2]', u'[IH2+2]', u'[Dy+3]', u'[CuH]', u'[Tl]', u'[Ti+]', u'[Ag-2]', u'[SH2+]', u'[Gd]', u'[PH4]', u'[Sb+3]', u'[Ho+3]', u'[Sn+6]']\n",
      "--------\n",
      "180\n",
      "['_PAD', '_GO', '_EOS', u'c', u'C', u'(', u')', u'1', u'O', u'2', u'=', u'N', u'n', u'3', u'F', u'-', u'Cl', u'4', u'S', u'[nH]', u's', u'Br', u'#', u'o', '.', u'[O-]', u'[N+]', u'5', u'I', u'[Si]', u'B', u'P', u'6', u'[N-]', u'[n+]', u'[Cl-]', u'[Br-]', u'[Na+]', u'[Sn]', u'[NH4+]', u'[OH-]', u'[I-]', u'[SiH]', u'[SiH2]', u'[P+]', u'[SH]', u'[Li+]', u'[NH2+]', u'7', u'[NH+]', u'[NH3+]', u'[se]', u'[K+]', u'[PH]', u'[S+]', u'[Na]', u'[C-]', u'[NH-]', u'[nH+]', u'[Mg+]', u'[Se]', u'[B-]', u'[NH2-]', u'[Li]', u'[Ca]', u'[Zn+]', u'[P-]', u'[S-]', u'[s+]', u'[Mg]', u'[K]', u'[n-]', u'[Ca+2]', u'[Zn]', u'[SiH3]', u'[I+]', u'[Ag+]', u'[Sr+2]', u'[PH2]', u'[Mg+2]', u'[Cl+3]', u'[Ag]', u'[F-]', u'[Zn+2]', u'[Ti]', u'[Cr]', u'[C+]', u'[SnH4]', u'[CH2-]', u'[Zr+2]', u'[sH+]', u'[Te]', u'[o+]', u'[As]', u'[Pd]', u'[Ru]', u'[PH3+]', u'[IH2]', u'[PH+]', u'[Sr]']\n",
      "[u'[BH3-]', u'[oH+]', u'[Pd+2]', u'[Au]', u'[IH]', u'[AlH3]', u'[Ti+]', u'[Mn]', u'[BH-]', u'[PH3]', u'[Au-]', u'[TaH3]', u'[Cl+]', u'[Ag-]', u'[Cu+3]']\n"
     ]
    }
   ],
   "source": [
    "print(len(reactants_token_list))\n",
    "print(reactants_token_list[:100])\n",
    "print(reactants_token_list[-15:])\n",
    "\n",
    "print('--------')\n",
    "\n",
    "print(len(products_token_list))\n",
    "print(products_token_list[:100])\n",
    "print(products_token_list[-15:])"
   ]
  },
  {
   "cell_type": "code",
   "execution_count": 9,
   "metadata": {
    "collapsed": false
   },
   "outputs": [
    {
     "name": "stdout",
     "output_type": "stream",
     "text": [
      "C 14348134\n",
      "c 13693318\n",
      "( 6842501\n",
      ") 6842501\n",
      "O 5526281\n",
      "1 4629064\n",
      ". 3209210\n",
      "= 2845895\n",
      "2 2131286\n",
      "N 2031518\n",
      "n 1347535\n",
      "Cl 1228733\n",
      "> 1093874\n",
      "F 954930\n",
      "3 676466\n",
      "[O-] 463321\n",
      "S 324056\n",
      "--------\n",
      "c 11601344\n",
      "C 7763270\n",
      "( 4688274\n",
      ") 4688274\n",
      "1 2869962\n",
      "O 2691996\n",
      "2 2082412\n",
      "= 1528896\n",
      "N 1383581\n",
      "n 1236040\n",
      "3 935880\n",
      "F 660705\n",
      "- 348700\n",
      "Cl 326498\n",
      "4 295640\n",
      "S 182413\n",
      "[nH] 121866\n"
     ]
    }
   ],
   "source": [
    "for token in reactants_token_list[3:20]:\n",
    "    print(token, vocab_reactants.get(token))\n",
    "    \n",
    "print('--------')\n",
    "\n",
    "for token in products_token_list[3:20]:\n",
    "    print(token, vocab_products.get(token))"
   ]
  },
  {
   "cell_type": "code",
   "execution_count": 10,
   "metadata": {
    "collapsed": false
   },
   "outputs": [
    {
     "name": "stdout",
     "output_type": "stream",
     "text": [
      "70907758\n",
      "44141777\n"
     ]
    }
   ],
   "source": [
    "print(sum(vocab_reactants.itervalues()))\n",
    "print(sum(vocab_products.itervalues()))"
   ]
  }
 ],
 "metadata": {
  "kernelspec": {
   "display_name": "Python 2",
   "language": "python",
   "name": "python2"
  },
  "language_info": {
   "codemirror_mode": {
    "name": "ipython",
    "version": 2
   },
   "file_extension": ".py",
   "mimetype": "text/x-python",
   "name": "python",
   "nbconvert_exporter": "python",
   "pygments_lexer": "ipython2",
   "version": "2.7.12"
  }
 },
 "nbformat": 4,
 "nbformat_minor": 1
}
