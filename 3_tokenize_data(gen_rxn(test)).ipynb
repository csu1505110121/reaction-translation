{
 "cells": [
  {
   "cell_type": "code",
   "execution_count": null,
   "metadata": {
    "collapsed": true
   },
   "outputs": [],
   "source": [
    "from __future__ import print_function\n",
    "\n",
    "import os\n",
    "import re\n",
    "import cPickle, gzip\n",
    "import progressbar\n",
    "\n",
    "from rdkit import Chem\n",
    "from rdkit.Chem import AllChem\n",
    "import parser.Smipar as Smipar"
   ]
  },
  {
   "cell_type": "code",
   "execution_count": null,
   "metadata": {
    "collapsed": true
   },
   "outputs": [],
   "source": [
    "# data reloader\n",
    "\n",
    "with gzip.open('data/vocab/vocab_dict.pkl.gz', 'rb') as dict_file:\n",
    "    vocab_reactants, vocab_products = cPickle.load(dict_file)\n",
    "\n",
    "with gzip.open('data/vocab/vocab_list.pkl.gz', 'rb') as list_file:\n",
    "    reactants_token_list, products_token_list = cPickle.load(list_file)"
   ]
  },
  {
   "cell_type": "code",
   "execution_count": null,
   "metadata": {
    "collapsed": true
   },
   "outputs": [],
   "source": [
    "def cano(smiles): # canonicalize smiles by MolToSmiles function\n",
    "    return Chem.MolToSmiles(Chem.MolFromSmiles(smiles)) if (smiles != '') else ''"
   ]
  },
  {
   "cell_type": "code",
   "execution_count": null,
   "metadata": {
    "collapsed": false
   },
   "outputs": [],
   "source": [
    "for i in range(13, 17):\n",
    "    with gzip.open('gen_rxn(test)/data/all_rxns_14.pkl.gz', 'rb') as f:\n",
    "        rxn_all = cPickle.load(f)\n",
    "\n",
    "    data_length = len(rxn_all)\n",
    "    print(data_length)\n",
    "\n",
    "    bar = progressbar.ProgressBar(max_value=data_length)\n",
    "\n",
    "    token_len = []\n",
    "\n",
    "    with gzip.open('data/test/test_14.pkl.gz', 'wb') as training_file:\n",
    "\n",
    "        saved_count = 0\n",
    "\n",
    "        for i, rsmi in enumerate(rxn_all):\n",
    "\n",
    "            reactant_list = []\n",
    "            agent_list = []\n",
    "            product_list = []\n",
    "\n",
    "            if bool(re.search('5|6|7|8|9|1\\d', rsmi)): continue\n",
    "\n",
    "            try:\n",
    "                split_rsmi = rsmi.split('>')\n",
    "                reactants = cano(split_rsmi[0]).split('.')\n",
    "                agents = cano(split_rsmi[1]).split('.')\n",
    "                products = cano(split_rsmi[2]).split('.')\n",
    "\n",
    "                for reactant in reactants:\n",
    "                    reactant_list += Smipar.parser_list(reactant)\n",
    "                    reactant_list += '.'\n",
    "                for agent in agents:\n",
    "                    agent_list += Smipar.parser_list(agent)\n",
    "                    agent_list += '.'\n",
    "                for product in products:\n",
    "                    product_list += Smipar.parser_list(product)\n",
    "                    product_list += '.'\n",
    "\n",
    "                reactant_list.pop() # to pop last '.'\n",
    "                agent_list.pop()\n",
    "                product_list.pop()\n",
    "\n",
    "                reactant_list += '>'\n",
    "                reactant_list += agent_list\n",
    "\n",
    "                token_len.append((len(reactant_list), len(product_list)))\n",
    "\n",
    "                cPickle.dump(([reactants_token_list.index(r) for r in reactant_list],\n",
    "                              [products_token_list.index(p) for p in product_list]), training_file, 2)\n",
    "                saved_count += 1\n",
    "\n",
    "            except:\n",
    "                pass\n",
    "\n",
    "            bar.update(i)\n",
    "\n",
    "    bar.finish()\n",
    "\n",
    "    print(saved_count)"
   ]
  },
  {
   "cell_type": "code",
   "execution_count": null,
   "metadata": {
    "collapsed": true
   },
   "outputs": [],
   "source": []
  }
 ],
 "metadata": {
  "kernelspec": {
   "display_name": "Python 2",
   "language": "python",
   "name": "python2"
  },
  "language_info": {
   "codemirror_mode": {
    "name": "ipython",
    "version": 2
   },
   "file_extension": ".py",
   "mimetype": "text/x-python",
   "name": "python",
   "nbconvert_exporter": "python",
   "pygments_lexer": "ipython2",
   "version": "2.7.12"
  }
 },
 "nbformat": 4,
 "nbformat_minor": 1
}
