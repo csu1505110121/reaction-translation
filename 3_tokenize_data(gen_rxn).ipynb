{
 "cells": [
  {
   "cell_type": "code",
   "execution_count": 1,
   "metadata": {
    "collapsed": true
   },
   "outputs": [],
   "source": [
    "from __future__ import print_function\n",
    "\n",
    "import os\n",
    "import re\n",
    "import cPickle, gzip\n",
    "import progressbar\n",
    "from rdkit.Chem import AllChem\n",
    "import parser.Smipar as Smipar"
   ]
  },
  {
   "cell_type": "code",
   "execution_count": 2,
   "metadata": {
    "collapsed": false
   },
   "outputs": [
    {
     "name": "stdout",
     "output_type": "stream",
     "text": [
      "865118\n"
     ]
    }
   ],
   "source": [
    "with gzip.open('gen_rxn/data/all_rxns.pkl.gz', 'rb') as f:\n",
    "    rxn_all = cPickle.load(f)\n",
    "\n",
    "data_length = len(rxn_all)\n",
    "print(data_length)"
   ]
  },
  {
   "cell_type": "code",
   "execution_count": 3,
   "metadata": {
    "collapsed": true
   },
   "outputs": [],
   "source": [
    "# data reloader\n",
    "\n",
    "with gzip.open('data/vocab/vocab_dict.pkl.gz', 'rb') as dict_file:\n",
    "    vocab_reactants, vocab_products = cPickle.load(dict_file)\n",
    "\n",
    "with gzip.open('data/vocab/vocab_list.pkl.gz', 'rb') as list_file:\n",
    "    reactants_token_list, products_token_list = cPickle.load(list_file)"
   ]
  },
  {
   "cell_type": "code",
   "execution_count": 4,
   "metadata": {
    "collapsed": false
   },
   "outputs": [
    {
     "name": "stderr",
     "output_type": "stream",
     "text": [
      " 99% (865117 of 865118) |################## | Elapsed Time: 1:35:27 ETA: 0:00:00"
     ]
    }
   ],
   "source": [
    "bar = progressbar.ProgressBar(max_value=data_length)\n",
    "\n",
    "token_len = []\n",
    "\n",
    "with gzip.open('data/training_data(gen_rxn).pkl.gz', 'wb') as training_file:\n",
    "    \n",
    "    for i, rsmi in enumerate(rxn_all):\n",
    "\n",
    "        reactant_list = []\n",
    "        agent_list = []\n",
    "        product_list = []\n",
    "\n",
    "        split_rsmi = rsmi.split('>')\n",
    "        reactants = split_rsmi[0].split('.')\n",
    "        agents = split_rsmi[1].split('.')\n",
    "        products = split_rsmi[2].split('.')\n",
    "\n",
    "        for reactant in reactants:\n",
    "            reactant_list += Smipar.parser_list(reactant)\n",
    "            reactant_list += '.'\n",
    "        for agent in agents:\n",
    "            agent_list += Smipar.parser_list(agent)\n",
    "            agent_list += '.'\n",
    "        for product in products:\n",
    "            product_list += Smipar.parser_list(product)\n",
    "            product_list += '.'\n",
    "\n",
    "        reactant_list.pop() # to pop last '.'\n",
    "        agent_list.pop()\n",
    "        product_list.pop()\n",
    "\n",
    "        reactant_list += '>'\n",
    "        reactant_list += agent_list\n",
    "        \n",
    "        token_len.append((len(reactant_list), len(product_list)))\n",
    "\n",
    "        cPickle.dump(([reactants_token_list.index(r) for r in reactant_list],\n",
    "                      [products_token_list.index(p) for p in product_list],\n",
    "                      rsmi[1]), training_file, 2)\n",
    "                     \n",
    "        bar.update(i)"
   ]
  },
  {
   "cell_type": "code",
   "execution_count": 5,
   "metadata": {
    "collapsed": false
   },
   "outputs": [
    {
     "name": "stdout",
     "output_type": "stream",
     "text": [
      "75 47\n"
     ]
    }
   ],
   "source": [
    "trans = zip(*token_len)\n",
    "print(max(trans[0]), max(trans[1]))"
   ]
  },
  {
   "cell_type": "code",
   "execution_count": 9,
   "metadata": {
    "collapsed": false
   },
   "outputs": [
    {
     "name": "stderr",
     "output_type": "stream",
     "text": [
      " 99% (864725 of 865118) |################## | Elapsed Time: 0:02:00 ETA: 0:00:00"
     ]
    },
    {
     "name": "stdout",
     "output_type": "stream",
     "text": [
      "8651\n"
     ]
    }
   ],
   "source": [
    "count=0\n",
    "bar = progressbar.ProgressBar(max_value=data_length)\n",
    "with gzip.open('data/training_data(gen_rxn).pkl.gz', 'rb') as data_file:\n",
    "    with gzip.open('data/train(gen_rxn).pkl.gz', 'wb') as train_file:\n",
    "        with gzip.open('data/dev(gen_rxn).pkl.gz', 'wb') as dev_file:\n",
    "            i = 1\n",
    "            while 1:\n",
    "                try:\n",
    "                    reactants, products, _ = cPickle.load(data_file)\n",
    "                    if i%100:\n",
    "                        cPickle.dump((reactants, products), train_file, 2)\n",
    "                    else:\n",
    "                        cPickle.dump((reactants, products), dev_file, 2)\n",
    "                        count += 1\n",
    "                except EOFError:\n",
    "                    break\n",
    "                bar.update(i)\n",
    "                i += 1\n",
    "\n",
    "import time\n",
    "time.sleep(1)\n",
    "\n",
    "print(count)"
   ]
  },
  {
   "cell_type": "code",
   "execution_count": null,
   "metadata": {
    "collapsed": true
   },
   "outputs": [],
   "source": []
  }
 ],
 "metadata": {
  "kernelspec": {
   "display_name": "Python 2",
   "language": "python",
   "name": "python2"
  },
  "language_info": {
   "codemirror_mode": {
    "name": "ipython",
    "version": 2
   },
   "file_extension": ".py",
   "mimetype": "text/x-python",
   "name": "python",
   "nbconvert_exporter": "python",
   "pygments_lexer": "ipython2",
   "version": "2.7.12"
  }
 },
 "nbformat": 4,
 "nbformat_minor": 1
}
