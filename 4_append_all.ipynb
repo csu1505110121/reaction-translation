{
 "cells": [
  {
   "cell_type": "code",
   "execution_count": 2,
   "metadata": {
    "collapsed": false
   },
   "outputs": [],
   "source": [
    "import cPickle, gzip\n",
    "\n",
    "all_reactions = []\n",
    "\n",
    "with gzip.open('data/train.pkl.gz', 'rb') as train_file:\n",
    "    while 1:\n",
    "        try:\n",
    "            reactants, products = cPickle.load(train_file)\n",
    "            all_reactions.append((reactants, products))\n",
    "        except EOFError:\n",
    "            break\n",
    "            \n",
    "with gzip.open('data/train(gen_rxn).pkl.gz', 'rb') as train_file:\n",
    "    while 1:\n",
    "        try:\n",
    "            reactants, products = cPickle.load(train_file)\n",
    "            all_reactions.append((reactants, products))\n",
    "        except EOFError:\n",
    "            break"
   ]
  },
  {
   "cell_type": "code",
   "execution_count": 3,
   "metadata": {
    "collapsed": false
   },
   "outputs": [
    {
     "data": {
      "text/plain": [
       "1938671"
      ]
     },
     "execution_count": 3,
     "metadata": {},
     "output_type": "execute_result"
    }
   ],
   "source": [
    "len(all_reactions)"
   ]
  },
  {
   "cell_type": "code",
   "execution_count": 4,
   "metadata": {
    "collapsed": true
   },
   "outputs": [],
   "source": [
    "import random\n",
    "random.shuffle(all_reactions)"
   ]
  },
  {
   "cell_type": "code",
   "execution_count": 5,
   "metadata": {
    "collapsed": true
   },
   "outputs": [],
   "source": [
    "with gzip.open('data/train(all).pkl.gz', 'wb') as training_file:\n",
    "    for reaction in all_reactions:\n",
    "        cPickle.dump(reaction, training_file, 2)"
   ]
  },
  {
   "cell_type": "code",
   "execution_count": null,
   "metadata": {
    "collapsed": true
   },
   "outputs": [],
   "source": []
  }
 ],
 "metadata": {
  "kernelspec": {
   "display_name": "Python 2",
   "language": "python",
   "name": "python2"
  },
  "language_info": {
   "codemirror_mode": {
    "name": "ipython",
    "version": 2
   },
   "file_extension": ".py",
   "mimetype": "text/x-python",
   "name": "python",
   "nbconvert_exporter": "python",
   "pygments_lexer": "ipython2",
   "version": "2.7.12"
  }
 },
 "nbformat": 4,
 "nbformat_minor": 1
}
