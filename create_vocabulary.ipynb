{
 "cells": [
  {
   "cell_type": "markdown",
   "metadata": {},
   "source": [
    "Import saved reaction datas"
   ]
  },
  {
   "cell_type": "code",
   "execution_count": 1,
   "metadata": {
    "collapsed": true
   },
   "outputs": [],
   "source": [
    "from __future__ import print_function\n",
    "\n",
    "import os\n",
    "import re\n",
    "import cPickle, gzip\n",
    "import progressbar\n",
    "from rdkit.Chem import AllChem"
   ]
  },
  {
   "cell_type": "code",
   "execution_count": 2,
   "metadata": {
    "collapsed": false
   },
   "outputs": [
    {
     "name": "stderr",
     "output_type": "stream",
     "text": [
      " 99% (1088828 of 1094235) |################ | Elapsed Time: 0:00:13 ETA: 0:00:00"
     ]
    }
   ],
   "source": [
    "data_directory = 'data'\n",
    "processed_data_filename = 'processed_data.pkl.gz'\n",
    "processed_data_filepath = os.path.join(data_directory, processed_data_filename)\n",
    "data_length = 1094235\n",
    "\n",
    "bar = progressbar.ProgressBar(max_value=data_length)\n",
    "\n",
    "rsmi_data = []\n",
    "\n",
    "with gzip.open(processed_data_filepath, 'rb') as data_file:\n",
    "    i = 1\n",
    "    while 1:\n",
    "        try:\n",
    "            line, ref = cPickle.load(data_file)\n",
    "            rsmi_data.append((line, ref))\n",
    "        except EOFError:\n",
    "            break\n",
    "        bar.update(i)\n",
    "        i += 1"
   ]
  },
  {
   "cell_type": "code",
   "execution_count": 3,
   "metadata": {
    "collapsed": false
   },
   "outputs": [
    {
     "name": "stdout",
     "output_type": "stream",
     "text": [
      "1\n"
     ]
    }
   ],
   "source": [
    "import parser.Smipar as Smipar\n",
    "\n",
    "for i, rsmi, _ in enumerate(rsmi_data):\n",
    "    # TODO"
   ]
  },
  {
   "cell_type": "code",
   "execution_count": 13,
   "metadata": {
    "collapsed": false
   },
   "outputs": [
    {
     "name": "stdout",
     "output_type": "stream",
     "text": [
      "Br.CON(C)C(=O)C(C)(C)c1ccc(C(=O)C2CC2)cc1.O=C([O-])O.[Na+]>O>CC(C)(C(=O)O)c1ccc(C(=O)CCCBr)cc1\n",
      "Br.CON(C)C(=O)C(C)(C)c1ccc(C(=O)C2CC2)cc1.O=C([O-])O.[Na+]>O CC(C)(C(=O)O)c1ccc(C(=O)CCCBr)cc1\n"
     ]
    }
   ],
   "source": [
    "import parser.Smipar as Smipar\n",
    "\n",
    "rsmi = rsmi_data[1][0]\n",
    "\n",
    "print(rsmi)\n",
    "\n",
    "reactant_list = []\n",
    "agent_list = []\n",
    "product_list = []\n",
    "\n",
    "split_rsmi = rsmi.split('>')\n",
    "reactants = split_rsmi[0].split('.')\n",
    "agents = split_rsmi[1].split('.')\n",
    "products = split_rsmi[2].split('.')\n",
    "    \n",
    "for reactant in reactants:\n",
    "    reactant_list += Smipar.parser_list(reactant)\n",
    "    reactant_list += '.'\n",
    "for agent in agents:\n",
    "    agent_list += Smipar.parser_list(agent)\n",
    "    agent_list += '.'\n",
    "for product in products:\n",
    "    product_list += Smipar.parser_list(product)\n",
    "    product_list += '.'\n",
    "        \n",
    "reactant_list.pop() # to pop last '.'\n",
    "agent_list.pop()\n",
    "product_list.pop()\n",
    "\n",
    "rsmi_left = ''.join(reactant_list) + '>' + ''.join(agent_list)\n",
    "rsmi_right = ''.join(product_list)\n",
    "\n",
    "print(rsmi_left, rsmi_right)\n",
    "\n",
    "# good~"
   ]
  },
  {
   "cell_type": "code",
   "execution_count": null,
   "metadata": {
    "collapsed": true
   },
   "outputs": [],
   "source": []
  }
 ],
 "metadata": {
  "kernelspec": {
   "display_name": "Python 2",
   "language": "python",
   "name": "python2"
  },
  "language_info": {
   "codemirror_mode": {
    "name": "ipython",
    "version": 2
   },
   "file_extension": ".py",
   "mimetype": "text/x-python",
   "name": "python",
   "nbconvert_exporter": "python",
   "pygments_lexer": "ipython2",
   "version": "2.7.12"
  }
 },
 "nbformat": 4,
 "nbformat_minor": 1
}
