{
 "cells": [
  {
   "cell_type": "markdown",
   "metadata": {},
   "source": [
    "Import saved reaction datas"
   ]
  },
  {
   "cell_type": "code",
   "execution_count": 1,
   "metadata": {
    "collapsed": true
   },
   "outputs": [],
   "source": [
    "from __future__ import print_function\n",
    "\n",
    "import os\n",
    "import re\n",
    "import cPickle, gzip\n",
    "import progressbar\n",
    "from rdkit.Chem import AllChem"
   ]
  },
  {
   "cell_type": "code",
   "execution_count": 2,
   "metadata": {
    "collapsed": false
   },
   "outputs": [
    {
     "name": "stderr",
     "output_type": "stream",
     "text": [
      " 99% (1088828 of 1094235) |################ | Elapsed Time: 0:00:13 ETA: 0:00:00"
     ]
    }
   ],
   "source": [
    "data_directory = 'data'\n",
    "processed_data_filename = 'processed_data.pkl.gz'\n",
    "processed_data_filepath = os.path.join(data_directory, processed_data_filename)\n",
    "data_length = 1094235\n",
    "\n",
    "bar = progressbar.ProgressBar(max_value=data_length)\n",
    "\n",
    "rsmi_data = []\n",
    "\n",
    "with gzip.open(processed_data_filepath, 'rb') as data_file:\n",
    "    i = 1\n",
    "    while 1:\n",
    "        try:\n",
    "            line, ref = cPickle.load(data_file)\n",
    "            rsmi_data.append((line, ref))\n",
    "        except EOFError:\n",
    "            break\n",
    "        bar.update(i)\n",
    "        i += 1"
   ]
  },
  {
   "cell_type": "code",
   "execution_count": 15,
   "metadata": {
    "collapsed": false
   },
   "outputs": [
    {
     "name": "stderr",
     "output_type": "stream",
     "text": [
      " 99% (1094226 of 1094235) |################ | Elapsed Time: 3:45:15 ETA: 0:00:00"
     ]
    }
   ],
   "source": [
    "import parser.Smipar as Smipar\n",
    "\n",
    "bar = progressbar.ProgressBar(max_value=data_length)\n",
    "\n",
    "_PAD = \"_PAD\"\n",
    "_GO = \"_GO\"\n",
    "_EOS = \"_EOS\"\n",
    "_START_VOCAB = [_PAD, _GO, _EOS]\n",
    "\n",
    "PAD_ID = 0\n",
    "GO_ID = 1\n",
    "EOS_ID = 2\n",
    "\n",
    "vocab_reactants = {}\n",
    "vocab_products = {}\n",
    "\n",
    "for i, rsmi in enumerate(rsmi_data):\n",
    "    \n",
    "    rsmi = rsmi[0]\n",
    "    \n",
    "    reactant_list = []\n",
    "    agent_list = []\n",
    "    product_list = []\n",
    "\n",
    "    split_rsmi = rsmi.split('>')\n",
    "    reactants = split_rsmi[0].split('.')\n",
    "    agents = split_rsmi[1].split('.')\n",
    "    products = split_rsmi[2].split('.')\n",
    "\n",
    "    for reactant in reactants:\n",
    "        reactant_list += Smipar.parser_list(reactant)\n",
    "        reactant_list += '.'\n",
    "    for agent in agents:\n",
    "        agent_list += Smipar.parser_list(agent)\n",
    "        agent_list += '.'\n",
    "    for product in products:\n",
    "        product_list += Smipar.parser_list(product)\n",
    "        product_list += '.'\n",
    "      \n",
    "    reactant_list.pop() # to pop last '.'\n",
    "    agent_list.pop()\n",
    "    product_list.pop()\n",
    "    \n",
    "    reactant_list += '>'\n",
    "    reactant_list += agent_list\n",
    "    \n",
    "    for reactant_token in reactant_list:\n",
    "        if reactant_token in vocab_reactants:\n",
    "            vocab_reactants[reactant_token] += 1\n",
    "        else:\n",
    "            vocab_reactants[reactant_token] = 1\n",
    "    \n",
    "    for product_token in product_list:\n",
    "        if product_token in vocab_products:\n",
    "            vocab_products[product_token] += 1\n",
    "        else:\n",
    "            vocab_products[product_token] = 1\n",
    "            \n",
    "    bar.update(i)"
   ]
  },
  {
   "cell_type": "code",
   "execution_count": 18,
   "metadata": {
    "collapsed": false
   },
   "outputs": [],
   "source": [
    "reactants_token_list = _START_VOCAB \\\n",
    "        + sorted(vocab_reactants, key=vocab_reactants.get, reverse=True)\n",
    "\n",
    "products_token_list = _START_VOCAB \\\n",
    "        + sorted(vocab_products, key=vocab_products.get, reverse=True)\n",
    "    \n",
    "with gzip.open('data/vocab/vocab_dict.pkl.gz', 'wb') as dict_file:\n",
    "    cPickle.dump((vocab_reactants, vocab_products), dict_file, 2)\n",
    "    \n",
    "with gzip.open('data/vocab/vocab_list.pkl.gz', 'wb') as list_file:\n",
    "    cPickle.dump((reactants_token_list, products_token_list), list_file, 2)"
   ]
  },
  {
   "cell_type": "code",
   "execution_count": null,
   "metadata": {
    "collapsed": true
   },
   "outputs": [],
   "source": [
    "with gzip.open('data/vocab/vocab_list.pkl.gz', 'rb') as list_file:\n",
    "    reactants_token_list, products_token_list = cPickle.load(list_file)"
   ]
  }
 ],
 "metadata": {
  "kernelspec": {
   "display_name": "Python 2",
   "language": "python",
   "name": "python2"
  },
  "language_info": {
   "codemirror_mode": {
    "name": "ipython",
    "version": 2
   },
   "file_extension": ".py",
   "mimetype": "text/x-python",
   "name": "python",
   "nbconvert_exporter": "python",
   "pygments_lexer": "ipython2",
   "version": "2.7.12"
  }
 },
 "nbformat": 4,
 "nbformat_minor": 1
}
