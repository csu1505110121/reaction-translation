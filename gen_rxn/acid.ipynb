{
 "cells": [
  {
   "cell_type": "code",
   "execution_count": 1,
   "metadata": {
    "collapsed": true
   },
   "outputs": [],
   "source": [
    "from __future__ import print_function\n",
    "\n",
    "from rdkit import Chem\n",
    "from rdkit.Chem import AllChem\n",
    "\n",
    "import gzip, cPickle\n",
    "import copy\n",
    "import progressbar\n",
    "import random"
   ]
  },
  {
   "cell_type": "code",
   "execution_count": 2,
   "metadata": {
    "collapsed": true
   },
   "outputs": [],
   "source": [
    "def cano(smiles): # canonicalize smiles by MolToSmiles function\n",
    "    return Chem.MolToSmiles(Chem.MolFromSmiles(smiles))\n",
    "\n",
    "def block(ch, smiles):\n",
    "    return (ch + cano(smiles)) if (smiles != '') else ''"
   ]
  },
  {
   "cell_type": "code",
   "execution_count": 3,
   "metadata": {
    "collapsed": false
   },
   "outputs": [
    {
     "name": "stdout",
     "output_type": "stream",
     "text": [
      "357\n"
     ]
    }
   ],
   "source": [
    "with gzip.open('data/subst/acid.pkl.gz', 'rb') as f:\n",
    "    acid_list = cPickle.load(f)\n",
    "    \n",
    "with gzip.open('data/subst/alcohol_1.pkl.gz', 'rb') as f:\n",
    "    alcohol_1_list = cPickle.load(f)\n",
    "    \n",
    "with gzip.open('data/subst/amine_1.pkl.gz', 'rb') as f:\n",
    "    amine_1_list = cPickle.load(f)\n",
    "    \n",
    "length = len(acid_list)\n",
    "print(length)"
   ]
  },
  {
   "cell_type": "code",
   "execution_count": 5,
   "metadata": {
    "collapsed": false
   },
   "outputs": [
    {
     "name": "stderr",
     "output_type": "stream",
     "text": [
      "100% (357 of 357) |########################| Elapsed Time: 0:00:03 Time: 0:00:03\n"
     ]
    }
   ],
   "source": [
    "rxns = []\n",
    "\n",
    "bar = progressbar.ProgressBar(max_value=length)\n",
    "\n",
    "## Carboxylic acid\n",
    "\n",
    "DIAZO = AllChem.ReactionFromSmarts('[C:1](=O)[O:2].[C:3]=[N+]=[N-]>>[C:1](=O)[O:2][C:3]')\n",
    "RED = AllChem.ReactionFromSmarts('[C:1](=O)[O:2]>>[C:1][O:2]')\n",
    "RLI = AllChem.ReactionFromSmarts('[C:1](=[O:2])O.[C:3][Li]>>[C:1](=[O:2])[C:3]')\n",
    "CHLORI = AllChem.ReactionFromSmarts('[C:1](=[O:2])O>>[C:1](=[O:2])Cl')\n",
    "HVZ = AllChem.ReactionFromSmarts('[CH2:1][C:2](=O)O>>[C:1](Br)[C:2](=O)O')\n",
    "ESTER = AllChem.ReactionFromSmarts('[C:1](=[O:2])[O:3].[O:4]>>[C:1](=[O:2])[O:4]')\n",
    "\n",
    "acid_reactions_list = [\n",
    "    \n",
    "    ('DIAZO', DIAZO, ['C=[N+]=[N-]'], ['']),\n",
    "    ('RED', RED, [''], ['[H-].[H-].[H-].[H-].[Al+3].[Li+]', 'B.C1CCOC1']),\n",
    "    ('RLI', RLI, ['[Li]C', '[Li]CC', '[Li]CCC', '[Li]CCCC', '[Li]c1ccccc1'], ['']),\n",
    "    ('CHLORI', CHLORI, [''], ['ClS(Cl)=O', 'ClC(=O)C(Cl)=O']),\n",
    "    ('HVZ', HVZ, [''], ['BrBr.BrP(Br)Br']),\n",
    "    ('ESTER', ESTER, [''], ['Cl', 'OS(O)(=O)=O']),\n",
    "    \n",
    "]\n",
    "\n",
    "for i, acid_smi in enumerate(acid_list):\n",
    "    acid = Chem.MolFromSmiles(acid_smi)\n",
    "    \n",
    "    for reaction in acid_reactions_list:\n",
    "        if reaction[0] == 'ESTER':\n",
    "            reagent_list = random.sample(alcohol_1_list,10)\n",
    "        else: reagent_list = reaction[2]\n",
    "        \n",
    "        for reagent in reagent_list:\n",
    "            if reagent == '': products = reaction[1].RunReactants((acid,))\n",
    "            else: products = reaction[1].RunReactants((acid, Chem.MolFromSmiles(reagent)))\n",
    "            if len(products) == 0: continue\n",
    "            product_smi = [Chem.MolToSmiles(product) for product in products[0]]\n",
    "            for sub_reagent in reaction[3]:\n",
    "                rxns.append(cano(acid_smi) + block('.', reagent) + '>' + cano(sub_reagent) + '>' + '.'.join(product_smi))\n",
    "                \n",
    "    bar.update(i)\n",
    "    \n",
    "bar.finish()"
   ]
  },
  {
   "cell_type": "code",
   "execution_count": 6,
   "metadata": {
    "collapsed": false
   },
   "outputs": [
    {
     "name": "stdout",
     "output_type": "stream",
     "text": [
      "10458\n"
     ]
    }
   ],
   "source": [
    "print(len(rxns))"
   ]
  },
  {
   "cell_type": "code",
   "execution_count": 7,
   "metadata": {
    "collapsed": false
   },
   "outputs": [
    {
     "name": "stdout",
     "output_type": "stream",
     "text": [
      "357\n"
     ]
    }
   ],
   "source": [
    "acid_mol = [Chem.MolFromSmiles(smi) for smi in acid_list]\n",
    "chloride_list = [Chem.MolToSmiles(CHLORI.RunReactants((mol,))[0][0]) for mol in acid_mol]\n",
    "print(len(chloride_list))"
   ]
  },
  {
   "cell_type": "code",
   "execution_count": 8,
   "metadata": {
    "collapsed": false
   },
   "outputs": [
    {
     "name": "stderr",
     "output_type": "stream",
     "text": [
      "100% (357 of 357) |########################| Elapsed Time: 0:00:04 Time: 0:00:04\n"
     ]
    }
   ],
   "source": [
    "ANHYD = AllChem.ReactionFromSmarts('[C:1](=O)[Cl:2].[C:3](=O)[O:4]>>[C:1](=O)[O:4][C:3](=O)')\n",
    "ESTER = AllChem.ReactionFromSmarts('[C:1](=O)[Cl:2].[O:3]>>[C:1](=O)[O:3]')\n",
    "AMIDE = AllChem.ReactionFromSmarts('[C:1](=O)[Cl:2].[N:3]>>[C:1](=O)[N:3]')\n",
    "CARBO = AllChem.ReactionFromSmarts('[C:1](=O)[Cl:2].[O:3]>>[C:1](=O)[O:3]')\n",
    "\n",
    "METAL = AllChem.ReactionFromSmarts('[C:1](=[O:2])[Cl:3].[C,c:4][Mg+:5]>>[C:1]([*:4])([*:4])[O:2]')\n",
    "RED = AllChem.ReactionFromSmarts('[C:1](=[O:2])[Cl:3]>>[C:1](=[O:2])')\n",
    "\n",
    "chloride_reactions_list = [\n",
    "    \n",
    "    ('ANHYD', ANHYD, [''], ['']),\n",
    "    ('ESTER', ESTER, [''], ['']),\n",
    "    ('AMIDE', AMIDE, [''], ['']),\n",
    "    ('CARBO', CARBO, ['O'], ['']),\n",
    "    \n",
    "    ('METAL', METAL, ['[Br-].[Mg+]C', '[Br-].[Mg+]CC', '[Br-].[Mg+]CCC', \\\n",
    "                      '[Br-].[Mg+]CCCC', '[Br-].[Mg+]c1ccccc1'], ['']),\n",
    "    ('RED', RED, [''], ['[H-].[H-].[H-].[H-].[Al+3].[Li+]']),\n",
    "    \n",
    "]\n",
    "\n",
    "bar = progressbar.ProgressBar(max_value=length)\n",
    "\n",
    "for i, chloride_smi in enumerate(chloride_list):\n",
    "    chloride = Chem.MolFromSmiles(chloride_smi)\n",
    "    \n",
    "    for reaction in chloride_reactions_list:\n",
    "        if reaction[0] == 'ANHYD':\n",
    "            reagent_list = random.sample(acid_list,10)\n",
    "        elif reaction[0] == 'ESTER':\n",
    "            reagent_list = random.sample(alcohol_1_list,10)\n",
    "        elif reaction[0] == 'AMIDE':\n",
    "            reagent_list = random.sample(amine_1_list,10)\n",
    "        else: reagent_list = reaction[2]\n",
    "        \n",
    "        for reagent in reagent_list:\n",
    "            if reagent == '': products = reaction[1].RunReactants((chloride,))\n",
    "            else: products = reaction[1].RunReactants((chloride, Chem.MolFromSmiles(reagent)))\n",
    "            if len(products) == 0: continue\n",
    "            product_smi = [Chem.MolToSmiles(product) for product in products[0]]\n",
    "            for sub_reagent in reaction[3]:\n",
    "                rxns.append(cano(chloride_smi) + block('.', reagent) + '>' + cano(sub_reagent) + '>' + '.'.join(product_smi))\n",
    "                \n",
    "    bar.update(i)\n",
    "    \n",
    "bar.finish()"
   ]
  },
  {
   "cell_type": "code",
   "execution_count": 9,
   "metadata": {
    "collapsed": false
   },
   "outputs": [
    {
     "name": "stdout",
     "output_type": "stream",
     "text": [
      "23667\n"
     ]
    }
   ],
   "source": [
    "print(len(rxns))"
   ]
  },
  {
   "cell_type": "code",
   "execution_count": 10,
   "metadata": {
    "collapsed": false
   },
   "outputs": [
    {
     "name": "stdout",
     "output_type": "stream",
     "text": [
      "357\n"
     ]
    }
   ],
   "source": [
    "anhyd_list = [Chem.MolToSmiles(ANHYD.RunReactants((Chem.MolFromSmiles(chloride), \\\n",
    "                                                   Chem.MolFromSmiles(acid)))[0][0]) \\\n",
    "              for chloride, acid in zip(chloride_list, acid_list)]\n",
    "print(len(anhyd_list))"
   ]
  },
  {
   "cell_type": "code",
   "execution_count": 13,
   "metadata": {
    "collapsed": false
   },
   "outputs": [
    {
     "name": "stderr",
     "output_type": "stream",
     "text": [
      "100% (357 of 357) |########################| Elapsed Time: 0:00:04 Time: 0:00:04\n"
     ]
    }
   ],
   "source": [
    "ESTER = AllChem.ReactionFromSmarts('[C:1](=O)[O:2].[O:3]>>[C:1](=O)[O:3]')\n",
    "AMIDE = AllChem.ReactionFromSmarts('[C:1](=O)[O:2].[N:3]>>[C:1](=O)[N:3]')\n",
    "CARBO = AllChem.ReactionFromSmarts('[C:1](=O)[O:2].[O:3]>>[C:1](=O)[O:3]')\n",
    "\n",
    "anhydride_reactions_list = [\n",
    "    \n",
    "    ('ESTER', ESTER, [''], ['Cl', 'OS(O)(=O)=O']),\n",
    "    ('AMIDE', AMIDE, [''], ['']),\n",
    "    ('CARBO', CARBO, ['O'], ['']),\n",
    "    \n",
    "]\n",
    "\n",
    "bar = progressbar.ProgressBar(max_value=length)\n",
    "\n",
    "for i, anhyd_smi in enumerate(anhyd_list):\n",
    "    anhyd = Chem.MolFromSmiles(anhyd_smi)\n",
    "    \n",
    "    for reaction in anhydride_reactions_list:\n",
    "        if reaction[0] == 'ESTER':\n",
    "            reagent_list = random.sample(alcohol_1_list,10)\n",
    "        elif reaction[0] == 'AMIDE':\n",
    "            reagent_list = random.sample(amine_1_list,10)\n",
    "        else: reagent_list = reaction[2]\n",
    "        \n",
    "        for reagent in reagent_list:\n",
    "            if reagent == '': products = reaction[1].RunReactants((anhyd,))\n",
    "            else: products = reaction[1].RunReactants((anhyd, Chem.MolFromSmiles(reagent)))\n",
    "            if len(products) == 0: continue\n",
    "            product_smi = [Chem.MolToSmiles(product) for product in products[0]]\n",
    "            for sub_reagent in reaction[3]:\n",
    "                rxns.append(cano(anhyd_smi) + block('.', reagent) + '>' + cano(sub_reagent) + '>' + '.'.join(product_smi))\n",
    "                \n",
    "    bar.update(i)\n",
    "    \n",
    "bar.finish()"
   ]
  },
  {
   "cell_type": "code",
   "execution_count": 14,
   "metadata": {
    "collapsed": false
   },
   "outputs": [
    {
     "name": "stdout",
     "output_type": "stream",
     "text": [
      "34734\n"
     ]
    }
   ],
   "source": [
    "print(len(rxns))"
   ]
  },
  {
   "cell_type": "code",
   "execution_count": 15,
   "metadata": {
    "collapsed": false
   },
   "outputs": [
    {
     "name": "stdout",
     "output_type": "stream",
     "text": [
      "1036\n",
      "1026\n"
     ]
    }
   ],
   "source": [
    "with gzip.open('data/subst/ester.pkl.gz', 'rb') as f:\n",
    "    ester_list = cPickle.load(f)\n",
    "\n",
    "_DEP = AllChem.ReactionFromSmarts('[O:1]>>[O-:1]')\n",
    "_PRO = AllChem.ReactionFromSmarts('[O-:1]>>[O-0:1][H]')\n",
    "alkoxide_list = [Chem.MolToSmiles(_DEP.RunReactants((Chem.MolFromSmiles(smi),))[0][0]) \\\n",
    "                 for smi in alcohol_1_list]\n",
    "\n",
    "length = len(ester_list)\n",
    "print(length)\n",
    "print(len(alkoxide_list))"
   ]
  },
  {
   "cell_type": "code",
   "execution_count": 16,
   "metadata": {
    "collapsed": false
   },
   "outputs": [
    {
     "name": "stderr",
     "output_type": "stream",
     "text": [
      "100% (1036 of 1036) |######################| Elapsed Time: 0:00:17 Time: 0:00:17\n"
     ]
    }
   ],
   "source": [
    "ESTER = AllChem.ReactionFromSmarts('[C$(C[#6]):1](=O)[O:2][#6:3].[O-:4]>>([C:1](=O)[O-0:4].[O:2][*:3])')\n",
    "# hydrolysis included in esterification\n",
    "AMIDE = AllChem.ReactionFromSmarts('[C:1](=O)[O:2].[N:3]>>([C:1](=O)[N:3].[O:2])')\n",
    "\n",
    "RED = AllChem.ReactionFromSmarts('[C:1](=O)[O:2]>>([C:1]O.[O:2])')\n",
    "METAL = AllChem.ReactionFromSmarts('[C:1](=[O:2])[O:3].[C,c:4][Mg+:5]>>([C:1]([*:4])([*:4])[O:2].[O:3])')\n",
    "\n",
    "ester_reactions_list = [\n",
    "    \n",
    "    ('ESTER', ESTER, [''], ['']),\n",
    "    ('AMIDE', AMIDE, [''], ['']),\n",
    "    \n",
    "    ('METAL', METAL, ['[Br-].[Mg+]C', '[Br-].[Mg+]CC', '[Br-].[Mg+]CCC', \\\n",
    "                      '[Br-].[Mg+]CCCC', '[Br-].[Mg+]c1ccccc1'], ['']),\n",
    "    ('RED', RED, [''], ['[H-].[H-].[H-].[H-].[Al+3].[Li+]']),\n",
    "    \n",
    "]\n",
    "\n",
    "bar = progressbar.ProgressBar(max_value=length)\n",
    "\n",
    "for i, ester_smi in enumerate(ester_list):\n",
    "    ester = Chem.MolFromSmiles(ester_smi)\n",
    "    \n",
    "    for reaction in ester_reactions_list:\n",
    "        if reaction[0] == 'ESTER':\n",
    "            reagent_list = random.sample(alkoxide_list,10)\n",
    "            reagent_list.append('[OH-]') # for hydrolysis\n",
    "        elif reaction[0] == 'AMIDE':\n",
    "            reagent_list = random.sample(amine_1_list,10)\n",
    "        else: reagent_list = reaction[2]\n",
    "            \n",
    "        for reagent in reagent_list:\n",
    "            if reagent == '': products = reaction[1].RunReactants((ester,))\n",
    "            else: products = reaction[1].RunReactants((ester, Chem.MolFromSmiles(reagent)))\n",
    "            if len(products) == 0: continue\n",
    "            product_smi = [Chem.MolToSmiles(product) for product in products[0]]\n",
    "            if reaction[0] == 'ESTER':\n",
    "                alcohol_smi = Chem.MolToSmiles(_PRO.RunReactants((Chem.MolFromSmiles(reagent),))[0][0])\n",
    "                r_ester = [('[Na+].'+reagent, alcohol_smi if len(alcohol_smi) < 5 else ''), \\\n",
    "                           (alcohol_smi, 'Cl'), (alcohol_smi, 'OS(O)(=O)=O')]\n",
    "                for r in r_ester:\n",
    "                    rxns.append(cano(ester_smi) + block('.', r[0]) + '>' + cano(r[1]) + '>' + '.'.join(product_smi))\n",
    "            else:\n",
    "                for sub_reagent in reaction[3]:\n",
    "                    rxns.append(cano(ester_smi) + block('.', reagent) + '>' + cano(sub_reagent) + '>' + '.'.join(product_smi))\n",
    "\n",
    "    bar.update(i)\n",
    "    \n",
    "bar.finish()"
   ]
  },
  {
   "cell_type": "code",
   "execution_count": 17,
   "metadata": {
    "collapsed": false
   },
   "outputs": [
    {
     "name": "stdout",
     "output_type": "stream",
     "text": [
      "85498\n"
     ]
    }
   ],
   "source": [
    "print(len(rxns))"
   ]
  },
  {
   "cell_type": "code",
   "execution_count": 18,
   "metadata": {
    "collapsed": false
   },
   "outputs": [
    {
     "name": "stdout",
     "output_type": "stream",
     "text": [
      "2479\n"
     ]
    }
   ],
   "source": [
    "with gzip.open('data/subst/amide.pkl.gz', 'rb') as f:\n",
    "    amide_list = cPickle.load(f)\n",
    "    \n",
    "length = len(amide_list)\n",
    "print(length)"
   ]
  },
  {
   "cell_type": "code",
   "execution_count": 19,
   "metadata": {
    "collapsed": false
   },
   "outputs": [
    {
     "name": "stderr",
     "output_type": "stream",
     "text": [
      "100% (2479 of 2479) |######################| Elapsed Time: 0:00:02 Time: 0:00:02\n"
     ]
    }
   ],
   "source": [
    "HYD = AllChem.ReactionFromSmarts('[C:1](=O)[N:2].[O:3]>>([C:1](=O)[O:3].[N:2])')\n",
    "HYD_BASE = AllChem.ReactionFromSmarts('[C:1](=O)[N:2].[O:3]>>([C:1](=O)[O-0:3].[N:2])')\n",
    "RED = AllChem.ReactionFromSmarts('[C:1](=[O:2])[N:3]>>([C:1][N:3])')\n",
    "\n",
    "amide_reactions_list = [\n",
    "    \n",
    "    ('HYD', HYD, ['O'], ['Cl', 'OS(O)(=O)=O']),\n",
    "    ('HYD_BASE', HYD_BASE, ['[Na+].[OH-]'], ['O']),\n",
    "    ('RED', RED, [''], ['[H-].[H-].[H-].[H-].[Al+3].[Li+]']),\n",
    "    \n",
    "]\n",
    "\n",
    "bar = progressbar.ProgressBar(max_value=length)\n",
    "\n",
    "for i, amide_smi in enumerate(amide_list):\n",
    "    amide = Chem.MolFromSmiles(amide_smi)\n",
    "    \n",
    "    for reaction in amide_reactions_list:\n",
    "        for reagent in reaction[2]:\n",
    "            if reagent == '': products = reaction[1].RunReactants((amide,))\n",
    "            else: products = reaction[1].RunReactants((amide, Chem.MolFromSmiles(reagent)))\n",
    "            if len(products) == 0: continue\n",
    "            product_smi = [Chem.MolToSmiles(product) for product in products[0]]\n",
    "            for sub_reagent in reaction[3]:\n",
    "                rxns.append(cano(amide_smi) + block('.', reagent) + '>' + cano(sub_reagent) + '>' + '.'.join(product_smi))\n",
    "                \n",
    "    bar.update(i)\n",
    "    \n",
    "bar.finish()"
   ]
  },
  {
   "cell_type": "code",
   "execution_count": 20,
   "metadata": {
    "collapsed": false
   },
   "outputs": [
    {
     "name": "stdout",
     "output_type": "stream",
     "text": [
      "274\n"
     ]
    }
   ],
   "source": [
    "with gzip.open('data/subst/amide_1.pkl.gz', 'rb') as f:\n",
    "    amide_1_list = cPickle.load(f)\n",
    "    \n",
    "length = len(amide_1_list)\n",
    "print(length)"
   ]
  },
  {
   "cell_type": "code",
   "execution_count": 21,
   "metadata": {
    "collapsed": false
   },
   "outputs": [
    {
     "name": "stderr",
     "output_type": "stream",
     "text": [
      "100% (274 of 274) |########################| Elapsed Time: 0:00:00 Time: 0:00:00\n"
     ]
    }
   ],
   "source": [
    "# primary amide\n",
    "HOFMANN = AllChem.ReactionFromSmarts('[C:1]C(=O)N>>[C:1]N')\n",
    "DEHYD = AllChem.ReactionFromSmarts('[C:1](=O)N>>[C:1]#N')\n",
    "\n",
    "amide_1_reactions_list = [\n",
    "    \n",
    "    ('HOFMANN', HOFMANN, [''], ['BrBr.[Na+].[OH-]']),\n",
    "    ('DEHYD', DEHYD, [''], ['ClP(Cl)(Cl)=O', 'O=P12OP3(=O)OP(=O)(O1)OP(=O)(O2)O3']),\n",
    "    \n",
    "]\n",
    "\n",
    "bar = progressbar.ProgressBar(max_value=length)\n",
    "\n",
    "for i, amide_1_smi in enumerate(amide_1_list):\n",
    "    amide_1 = Chem.MolFromSmiles(amide_1_smi)\n",
    "    \n",
    "    for reaction in amide_1_reactions_list:\n",
    "        for reagent in reaction[2]:\n",
    "            if reagent == '': products = reaction[1].RunReactants((amide_1,))\n",
    "            else: products = reaction[1].RunReactants((amide_1, Chem.MolFromSmiles(reagent)))\n",
    "            if len(products) == 0: continue\n",
    "            product_smi = [Chem.MolToSmiles(product) for product in products[0]]\n",
    "            for sub_reagent in reaction[3]:\n",
    "                rxns.append(cano(amide_1_smi) + block('.', reagent) + '>' + cano(sub_reagent) + '>' + '.'.join(product_smi))\n",
    "                \n",
    "    bar.update(i)\n",
    "    \n",
    "bar.finish()"
   ]
  },
  {
   "cell_type": "code",
   "execution_count": 22,
   "metadata": {
    "collapsed": false
   },
   "outputs": [
    {
     "name": "stdout",
     "output_type": "stream",
     "text": [
      "997\n"
     ]
    }
   ],
   "source": [
    "with gzip.open('data/subst/nitrile.pkl.gz', 'rb') as f:\n",
    "    nitrile_list = cPickle.load(f)\n",
    "    \n",
    "length = len(nitrile_list)\n",
    "print(length)"
   ]
  },
  {
   "cell_type": "code",
   "execution_count": 23,
   "metadata": {
    "collapsed": false
   },
   "outputs": [
    {
     "name": "stderr",
     "output_type": "stream",
     "text": [
      "100% (997 of 997) |########################| Elapsed Time: 0:00:02 Time: 0:00:02\n"
     ]
    }
   ],
   "source": [
    "HYD = AllChem.ReactionFromSmarts('[C:1]#N.O>>[C:1](=O)O')\n",
    "RED = AllChem.ReactionFromSmarts('[C:1]#[N:2]>>[C:1][N:2]')\n",
    "METAL = AllChem.ReactionFromSmarts('[C:1]#N.[C,c:2][Mg+]>>[C:1](=O)[*:2]')\n",
    "\n",
    "nitrile_reactions_list = [\n",
    "    \n",
    "    ('HYD', HYD, ['O'], ['Cl', 'OS(O)(=O)=O', '[Na+].[OH-]']),\n",
    "    ('RED', RED, [''], ['[H-].[H-].[H-].[H-].[Al+3].[Li+]']),\n",
    "    ('METAL', METAL, ['[Br-].[Mg+]C', '[Br-].[Mg+]CC', '[Br-].[Mg+]CCC', \\\n",
    "                      '[Br-].[Mg+]CCCC', '[Br-].[Mg+]c1ccccc1'], ['']),\n",
    "    \n",
    "]\n",
    "\n",
    "bar = progressbar.ProgressBar(max_value=length)\n",
    "\n",
    "for i, nitrile_smi in enumerate(nitrile_list):\n",
    "    nitrile = Chem.MolFromSmiles(nitrile_smi)\n",
    "    \n",
    "    for reaction in nitrile_reactions_list:\n",
    "        for reagent in reaction[2]:\n",
    "            if reagent == '': products = reaction[1].RunReactants((nitrile,))\n",
    "            else: products = reaction[1].RunReactants((nitrile, Chem.MolFromSmiles(reagent)))\n",
    "            if len(products) == 0: continue\n",
    "            product_smi = [Chem.MolToSmiles(product) for product in products[0]]\n",
    "            for sub_reagent in reaction[3]:\n",
    "                rxns.append(cano(nitrile_smi) + block('.', reagent) + '>' + cano(sub_reagent) + '>' + '.'.join(product_smi))\n",
    "                \n",
    "    bar.update(i)\n",
    "\n",
    "bar.finish()"
   ]
  },
  {
   "cell_type": "code",
   "execution_count": 24,
   "metadata": {
    "collapsed": false
   },
   "outputs": [
    {
     "name": "stdout",
     "output_type": "stream",
     "text": [
      "105205\n"
     ]
    }
   ],
   "source": [
    "print(len(rxns))"
   ]
  },
  {
   "cell_type": "code",
   "execution_count": 25,
   "metadata": {
    "collapsed": true
   },
   "outputs": [],
   "source": [
    "with gzip.open('data/rxns/acid.pkl.gz', 'wb') as f:\n",
    "    cPickle.dump(rxns, f, 2)"
   ]
  },
  {
   "cell_type": "code",
   "execution_count": null,
   "metadata": {
    "collapsed": true
   },
   "outputs": [],
   "source": []
  }
 ],
 "metadata": {
  "kernelspec": {
   "display_name": "Python 2",
   "language": "python",
   "name": "python2"
  },
  "language_info": {
   "codemirror_mode": {
    "name": "ipython",
    "version": 2
   },
   "file_extension": ".py",
   "mimetype": "text/x-python",
   "name": "python",
   "nbconvert_exporter": "python",
   "pygments_lexer": "ipython2",
   "version": "2.7.12"
  }
 },
 "nbformat": 4,
 "nbformat_minor": 1
}
