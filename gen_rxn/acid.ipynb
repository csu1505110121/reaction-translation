{
 "cells": [
  {
   "cell_type": "code",
   "execution_count": 9,
   "metadata": {
    "collapsed": true
   },
   "outputs": [],
   "source": [
    "from __future__ import print_function\n",
    "\n",
    "from rdkit import Chem\n",
    "from rdkit.Chem import AllChem"
   ]
  },
  {
   "cell_type": "code",
   "execution_count": 10,
   "metadata": {
    "collapsed": false
   },
   "outputs": [],
   "source": [
    "## Carboxylic acid\n",
    "\n",
    "DIAZO = AllChem.ReactionFromSmarts('[C:1](=O)[O:2].[C:3]=[N+]=[N-]>>[C:1](=O)[O:2][C:3]')\n",
    "RED = AllChem.ReactionFromSmarts('[C:1](=O)[O:2]>>[C:1][O:2]')\n",
    "RLI = AllChem.ReactionFromSmarts('[C:1](=[O:2])O.[C:3][Li]>>[C:1](=[O:2])[C:3]')\n",
    "CHLORI = AllChem.ReactionFromSmarts('[C:1](=[O:2])O>>[C:1](=[O:2])Cl')\n",
    "HVZ = AllChem.ReactionFromSmarts('[CH2:1][C:2](=O)O>>[C:1](Br)[C:2](=O)O')\n",
    "\n",
    "acid_reactions_list = [\n",
    "    \n",
    "    ('DIAZO', DIAZO, ['C=[N+]=[N-]'], ['']),\n",
    "    ('RED', RED, [''], ['[H-].[H-].[H-].[H-].[Al+3].[Li+]', 'B.C1CCOC1']),\n",
    "    ('RLI', RLI, ['[Li]C', '[Li]CC', '[Li]CCC', '[Li]CCCC', '[Li]c1ccccc1'], ['']),\n",
    "    ('CHLORI', CHLORI, [''], ['ClS(Cl)=O']),\n",
    "    ('HVZ', HVZ, [''], ['BrBr.BrP(Br)Br']),\n",
    "    \n",
    "]"
   ]
  },
  {
   "cell_type": "code",
   "execution_count": 11,
   "metadata": {
    "collapsed": false
   },
   "outputs": [
    {
     "name": "stdout",
     "output_type": "stream",
     "text": [
      "DIAZO\n",
      "CC(C)CCC(=O)O.C=[N+]=[N-]>>COC(=O)CCC(C)C\n",
      "RED\n",
      "CC(C)CCC(=O)O>[Al+3].[H-].[H-].[H-].[H-].[Li+]>CC(C)CCCO\n",
      "CC(C)CCC(=O)O>B.C1CCOC1>CC(C)CCCO\n",
      "RLI\n",
      "CC(C)CCC(=O)O.[Li]C>>CC(=O)CCC(C)C\n",
      "CC(C)CCC(=O)O.[Li]CC>>CCC(=O)CCC(C)C\n",
      "CC(C)CCC(=O)O.[Li]CCC>>CCCC(=O)CCC(C)C\n",
      "CC(C)CCC(=O)O.[Li]CCCC>>CCCCC(=O)CCC(C)C\n",
      "CHLORI\n",
      "CC(C)CCC(=O)O>O=S(Cl)Cl>CC(C)CCC(=O)Cl\n",
      "HVZ\n",
      "CC(C)CCC(=O)O>BrBr.BrP(Br)Br>CC(C)CC(Br)C(=O)O\n"
     ]
    }
   ],
   "source": [
    "import random, copy\n",
    "\n",
    "def cano(smiles): # canonicalize smiles by MolToSmiles function\n",
    "    return Chem.MolToSmiles(Chem.MolFromSmiles(smiles))\n",
    "\n",
    "def block(ch, smiles):\n",
    "    return (ch + cano(smiles)) if (smiles != '') else cano(smiles)\n",
    "\n",
    "# choose carboxylic acid (tmp)\n",
    "acid_smi = 'CC(C)CCC(O)=O'\n",
    "acid = Chem.MolFromSmiles(acid_smi)\n",
    "\n",
    "# choose alcohol (tmp)\n",
    "alcohol_smi = 'CCCBr'\n",
    "\n",
    "# general reactions\n",
    "for reaction in acid_reactions_list:\n",
    "    print(reaction[0])\n",
    "    for reagent in reaction[2]:\n",
    "        if reaction[0] == 'ESTER':\n",
    "            reagent = alcohol_smi\n",
    "        if reagent == '': products = reaction[1].RunReactants((acid,))\n",
    "        else: products = reaction[1].RunReactants((acid, Chem.MolFromSmiles(reagent)))\n",
    "        if len(products) == 0: continue\n",
    "        product_smi = [Chem.MolToSmiles(product) for product in products[0]]\n",
    "        for sub_reagent in reaction[3]:\n",
    "            print(cano(acid_smi) + block('.', reagent) + '>' + cano(sub_reagent) + '>' + '.'.join(product_smi))"
   ]
  },
  {
   "cell_type": "code",
   "execution_count": null,
   "metadata": {
    "collapsed": true
   },
   "outputs": [],
   "source": []
  }
 ],
 "metadata": {
  "kernelspec": {
   "display_name": "Python 2",
   "language": "python",
   "name": "python2"
  },
  "language_info": {
   "codemirror_mode": {
    "name": "ipython",
    "version": 2
   },
   "file_extension": ".py",
   "mimetype": "text/x-python",
   "name": "python",
   "nbconvert_exporter": "python",
   "pygments_lexer": "ipython2",
   "version": "2.7.12"
  }
 },
 "nbformat": 4,
 "nbformat_minor": 1
}
