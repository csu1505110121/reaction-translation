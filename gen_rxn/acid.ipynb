{
 "cells": [
  {
   "cell_type": "code",
   "execution_count": 44,
   "metadata": {
    "collapsed": true
   },
   "outputs": [],
   "source": [
    "from __future__ import print_function\n",
    "\n",
    "from rdkit import Chem\n",
    "from rdkit.Chem import AllChem"
   ]
  },
  {
   "cell_type": "code",
   "execution_count": 45,
   "metadata": {
    "collapsed": true
   },
   "outputs": [],
   "source": [
    "import random, copy\n",
    "\n",
    "def cano(smiles): # canonicalize smiles by MolToSmiles function\n",
    "    return Chem.MolToSmiles(Chem.MolFromSmiles(smiles))\n",
    "\n",
    "def block(ch, smiles):\n",
    "    return (ch + cano(smiles)) if (smiles != '') else cano(smiles)\n",
    "\n",
    "# choose carboxylic acid (tmp)\n",
    "acid_smi = 'CC(C)CCC(O)=O'\n",
    "acid = Chem.MolFromSmiles(acid_smi)\n",
    "\n",
    "# choose alcohol (tmp)\n",
    "alcohol_smi = 'CC(C)CO'\n",
    "\n",
    "# choose amine (tmp)\n",
    "amine_smi = 'CC(C)CN'"
   ]
  },
  {
   "cell_type": "code",
   "execution_count": 46,
   "metadata": {
    "collapsed": false
   },
   "outputs": [
    {
     "name": "stdout",
     "output_type": "stream",
     "text": [
      "DIAZO\n",
      "CC(C)CCC(=O)O.C=[N+]=[N-]>>COC(=O)CCC(C)C\n",
      "RED\n",
      "CC(C)CCC(=O)O>[Al+3].[H-].[H-].[H-].[H-].[Li+]>CC(C)CCCO\n",
      "CC(C)CCC(=O)O>B.C1CCOC1>CC(C)CCCO\n",
      "RLI\n",
      "CC(C)CCC(=O)O.[Li]C>>CC(=O)CCC(C)C\n",
      "CC(C)CCC(=O)O.[Li]CC>>CCC(=O)CCC(C)C\n",
      "CC(C)CCC(=O)O.[Li]CCC>>CCCC(=O)CCC(C)C\n",
      "CC(C)CCC(=O)O.[Li]CCCC>>CCCCC(=O)CCC(C)C\n",
      "CHLORI\n",
      "CC(C)CCC(=O)O>O=S(Cl)Cl>CC(C)CCC(=O)Cl\n",
      "CC(C)CCC(=O)O>O=C(Cl)C(=O)Cl>CC(C)CCC(=O)Cl\n",
      "HVZ\n",
      "CC(C)CCC(=O)O>BrBr.BrP(Br)Br>CC(C)CC(Br)C(=O)O\n",
      "ESTER\n",
      "CC(C)CCC(=O)O.CC(C)CO>Cl>CC(C)CCC(=O)OCC(C)C\n",
      "CC(C)CCC(=O)O.CC(C)CO>O=S(=O)(O)O>CC(C)CCC(=O)OCC(C)C\n"
     ]
    }
   ],
   "source": [
    "## Carboxylic acid\n",
    "\n",
    "DIAZO = AllChem.ReactionFromSmarts('[C:1](=O)[O:2].[C:3]=[N+]=[N-]>>[C:1](=O)[O:2][C:3]')\n",
    "RED = AllChem.ReactionFromSmarts('[C:1](=O)[O:2]>>[C:1][O:2]')\n",
    "RLI = AllChem.ReactionFromSmarts('[C:1](=[O:2])O.[C:3][Li]>>[C:1](=[O:2])[C:3]')\n",
    "CHLORI = AllChem.ReactionFromSmarts('[C:1](=[O:2])O>>[C:1](=[O:2])Cl')\n",
    "HVZ = AllChem.ReactionFromSmarts('[CH2:1][C:2](=O)O>>[C:1](Br)[C:2](=O)O')\n",
    "ESTER = AllChem.ReactionFromSmarts('[C:1](=[O:2])[O:3].[O:4]>>[C:1](=[O:2])[O:4]')\n",
    "\n",
    "acid_reactions_list = [\n",
    "    \n",
    "    ('DIAZO', DIAZO, ['C=[N+]=[N-]'], ['']),\n",
    "    ('RED', RED, [''], ['[H-].[H-].[H-].[H-].[Al+3].[Li+]', 'B.C1CCOC1']),\n",
    "    ('RLI', RLI, ['[Li]C', '[Li]CC', '[Li]CCC', '[Li]CCCC', '[Li]c1ccccc1'], ['']),\n",
    "    ('CHLORI', CHLORI, [''], ['ClS(Cl)=O', 'ClC(=O)C(Cl)=O']),\n",
    "    ('HVZ', HVZ, [''], ['BrBr.BrP(Br)Br']),\n",
    "    ('ESTER', ESTER, [''], ['Cl', 'OS(O)(=O)=O']),\n",
    "    \n",
    "]\n",
    "\n",
    "# general reactions\n",
    "for reaction in acid_reactions_list:\n",
    "    print(reaction[0])\n",
    "    for reagent in reaction[2]:\n",
    "        if reaction[0] == 'ESTER':\n",
    "            reagent = alcohol_smi\n",
    "        if reagent == '': products = reaction[1].RunReactants((acid,))\n",
    "        else: products = reaction[1].RunReactants((acid, Chem.MolFromSmiles(reagent)))\n",
    "        if len(products) == 0: continue\n",
    "        product_smi = [Chem.MolToSmiles(product) for product in products[0]]\n",
    "        for sub_reagent in reaction[3]:\n",
    "            print(cano(acid_smi) + block('.', reagent) + '>' + cano(sub_reagent) + '>' + '.'.join(product_smi))"
   ]
  },
  {
   "cell_type": "code",
   "execution_count": 47,
   "metadata": {
    "collapsed": false
   },
   "outputs": [],
   "source": [
    "chloride = CHLORI.RunReactants((acid,))[0][0]\n",
    "chloride_smi = Chem.MolToSmiles(chloride)"
   ]
  },
  {
   "cell_type": "code",
   "execution_count": 48,
   "metadata": {
    "collapsed": false
   },
   "outputs": [
    {
     "name": "stdout",
     "output_type": "stream",
     "text": [
      "ANHYD\n",
      "CC(C)CCC(=O)Cl.CC(C)CCC(=O)O>>CC(C)CCC(=O)OC(=O)CCC(C)C\n",
      "ESTER\n",
      "CC(C)CCC(=O)Cl.CC(C)CO>>CC(C)CCC(=O)OCC(C)C\n",
      "AMIDE\n",
      "CC(C)CCC(=O)Cl.CC(C)CN>>CC(C)CCC(=O)NCC(C)C\n",
      "CARBO\n",
      "CC(C)CCC(=O)Cl.O>>CC(C)CCC(=O)O\n",
      "METAL\n",
      "CC(C)CCC(=O)Cl.C[Mg+].[Br-]>>CC(C)CCC(C)(C)O\n",
      "CC(C)CCC(=O)Cl.CC[Mg+].[Br-]>>CCC(O)(CC)CCC(C)C\n",
      "CC(C)CCC(=O)Cl.CCC[Mg+].[Br-]>>CCCC(O)(CCC)CCC(C)C\n",
      "CC(C)CCC(=O)Cl.CCCC[Mg+].[Br-]>>CCCCC(O)(CCCC)CCC(C)C\n",
      "CC(C)CCC(=O)Cl.[Br-].[Mg+]c1ccccc1>>CC(C)CCC(O)(c1ccccc1)c1ccccc1\n",
      "RED\n",
      "CC(C)CCC(=O)Cl>[Al+3].[H-].[H-].[H-].[H-].[Li+]>CC(C)CCC=O\n"
     ]
    }
   ],
   "source": [
    "ANHYD = AllChem.ReactionFromSmarts('[C:1](=O)[Cl:2].[C:3](=O)[O:4]>>[C:1](=O)[O:4][C:3](=O)')\n",
    "ESTER = AllChem.ReactionFromSmarts('[C:1](=O)[Cl:2].[O:3]>>[C:1](=O)[O:3]')\n",
    "AMIDE = AllChem.ReactionFromSmarts('[C:1](=O)[Cl:2].[N:3]>>[C:1](=O)[N:3]')\n",
    "CARBO = AllChem.ReactionFromSmarts('[C:1](=O)[Cl:2].[O:3]>>[C:1](=O)[O:3]')\n",
    "\n",
    "METAL = AllChem.ReactionFromSmarts('[C:1](=[O:2])[Cl:3].[C,c:4][Mg+:5]>>[C:1]([*:4])([*:4])[O:2]')\n",
    "RED = AllChem.ReactionFromSmarts('[C:1](=[O:2])[Cl:3]>>[C:1](=[O:2])')\n",
    "\n",
    "chloride_reactions_list = [\n",
    "    \n",
    "    ('ANHYD', ANHYD, [''], ['']),\n",
    "    ('ESTER', ESTER, [''], ['']),\n",
    "    ('AMIDE', AMIDE, [''], ['']),\n",
    "    ('CARBO', CARBO, ['O'], ['']),\n",
    "    \n",
    "    ('METAL', METAL, ['[Br-].[Mg+]C', '[Br-].[Mg+]CC', '[Br-].[Mg+]CCC', \\\n",
    "                      '[Br-].[Mg+]CCCC', '[Br-].[Mg+]c1ccccc1'], ['']),\n",
    "    ('RED', RED, [''], ['[H-].[H-].[H-].[H-].[Al+3].[Li+]']),\n",
    "    \n",
    "]\n",
    "\n",
    "\n",
    "# general reactions\n",
    "for reaction in chloride_reactions_list:\n",
    "    print(reaction[0])\n",
    "    for reagent in reaction[2]:\n",
    "        if reaction[0] == 'ANHYD':\n",
    "            reagent = acid_smi\n",
    "        elif reaction[0] == 'ESTER':\n",
    "            reagent = alcohol_smi\n",
    "        elif reaction[0] == 'AMIDE':\n",
    "            reagent = amine_smi\n",
    "        if reagent == '': products = reaction[1].RunReactants((chloride,))\n",
    "        else: products = reaction[1].RunReactants((chloride, Chem.MolFromSmiles(reagent)))\n",
    "        if len(products) == 0: continue\n",
    "        product_smi = [Chem.MolToSmiles(product) for product in products[0]]\n",
    "        for sub_reagent in reaction[3]:\n",
    "            print(cano(chloride_smi) + block('.', reagent) + '>' + cano(sub_reagent) + '>' + '.'.join(product_smi))"
   ]
  },
  {
   "cell_type": "code",
   "execution_count": 49,
   "metadata": {
    "collapsed": false
   },
   "outputs": [],
   "source": [
    "anhyd = ANHYD.RunReactants((chloride, Chem.MolFromSmiles(acid_smi,)))[0][0]\n",
    "anhyd_smi = Chem.MolToSmiles(anhyd)"
   ]
  },
  {
   "cell_type": "code",
   "execution_count": 50,
   "metadata": {
    "collapsed": false
   },
   "outputs": [
    {
     "name": "stdout",
     "output_type": "stream",
     "text": [
      "ESTER\n",
      "CC(C)CCC(=O)OC(=O)CCC(C)C.CC(C)CO>Cl>CC(C)CCC(=O)OCC(C)C\n",
      "CC(C)CCC(=O)OC(=O)CCC(C)C.CC(C)CO>O=S(=O)(O)O>CC(C)CCC(=O)OCC(C)C\n",
      "AMIDE\n",
      "CC(C)CCC(=O)OC(=O)CCC(C)C.CC(C)CN>>CC(C)CCC(=O)NCC(C)C\n",
      "CARBO\n",
      "CC(C)CCC(=O)OC(=O)CCC(C)C.O>>CC(C)CCC(=O)O\n"
     ]
    }
   ],
   "source": [
    "ESTER = AllChem.ReactionFromSmarts('[C:1](=O)[O:2].[O:3]>>[C:1](=O)[O:3]')\n",
    "AMIDE = AllChem.ReactionFromSmarts('[C:1](=O)[O:2].[N:3]>>[C:1](=O)[N:3]')\n",
    "CARBO = AllChem.ReactionFromSmarts('[C:1](=O)[O:2].[O:3]>>[C:1](=O)[O:3]')\n",
    "\n",
    "anhydride_reactions_list = [\n",
    "    \n",
    "    ('ESTER', ESTER, [''], ['Cl', 'OS(O)(=O)=O']),\n",
    "    ('AMIDE', AMIDE, [''], ['']),\n",
    "    ('CARBO', CARBO, ['O'], ['']),\n",
    "    \n",
    "]\n",
    "\n",
    "# general reactions\n",
    "for reaction in anhydride_reactions_list:\n",
    "    print(reaction[0])\n",
    "    for reagent in reaction[2]:\n",
    "        if reaction[0] == 'ESTER':\n",
    "            reagent = alcohol_smi\n",
    "        elif reaction[0] == 'AMIDE':\n",
    "            reagent = amine_smi\n",
    "        if reagent == '': products = reaction[1].RunReactants((anhyd,))\n",
    "        else: products = reaction[1].RunReactants((anhyd, Chem.MolFromSmiles(reagent)))\n",
    "        if len(products) == 0: continue\n",
    "        product_smi = [Chem.MolToSmiles(product) for product in products[0]]\n",
    "        for sub_reagent in reaction[3]:\n",
    "            print(cano(anhyd_smi) + block('.', reagent) + '>' + cano(sub_reagent) + '>' + '.'.join(product_smi))"
   ]
  },
  {
   "cell_type": "code",
   "execution_count": 52,
   "metadata": {
    "collapsed": false
   },
   "outputs": [],
   "source": [
    "# choose ester (tmp)\n",
    "ester_smi = 'CC(C)CCC(=O)OCC(C)C'\n",
    "ester = Chem.MolFromSmiles(ester_smi)\n",
    "\n",
    "_DEP = AllChem.ReactionFromSmarts('[O:1]>>[O-:1]')\n",
    "alkoxide_smi = Chem.MolToSmiles(_DEP.RunReactants((Chem.MolFromSmiles(alcohol_smi),))[0][0])"
   ]
  },
  {
   "cell_type": "code",
   "execution_count": 60,
   "metadata": {
    "collapsed": false
   },
   "outputs": [
    {
     "name": "stdout",
     "output_type": "stream",
     "text": [
      "HYDRO\n",
      "CC(C)CCC(=O)OCC(C)C.O>Cl>CC(C)CCC(=O)O.CC(C)CO\n",
      "CC(C)CCC(=O)OCC(C)C.O>O=S(=O)(O)O>CC(C)CCC(=O)O.CC(C)CO\n",
      "CC(C)CCC(=O)OCC(C)C.O>[Na+].[OH-]>CC(C)CCC(=O)O.CC(C)CO\n",
      "ESTER\n",
      "CC(C)CCC(=O)OCC(C)C.CC(C)C[O-].[Na+]>CC(C)CO>CC(C)CCC(=O)OCC(C)C\n",
      "CC(C)CCC(=O)OCC(C)C.CC(C)CO>Cl>CC(C)CCC(=O)OCC(C)C\n",
      "CC(C)CCC(=O)OCC(C)C.CC(C)CO>O=S(=O)(O)O>CC(C)CCC(=O)OCC(C)C\n",
      "AMIDE\n",
      "CC(C)CCC(=O)OCC(C)C.CC(C)CN>>CC(C)CCC(=O)NCC(C)C\n",
      "METAL\n",
      "CC(C)CCC(=O)OCC(C)C.C[Mg+].[Br-]>>CC(C)CCC(C)(C)O\n",
      "CC(C)CCC(=O)OCC(C)C.CC[Mg+].[Br-]>>CCC(O)(CC)CCC(C)C\n",
      "CC(C)CCC(=O)OCC(C)C.CCC[Mg+].[Br-]>>CCCC(O)(CCC)CCC(C)C\n",
      "CC(C)CCC(=O)OCC(C)C.CCCC[Mg+].[Br-]>>CCCCC(O)(CCCC)CCC(C)C\n",
      "CC(C)CCC(=O)OCC(C)C.[Br-].[Mg+]c1ccccc1>>CC(C)CCC(O)(c1ccccc1)c1ccccc1\n",
      "RED\n",
      "CC(C)CCC(=O)OCC(C)C>[Al+3].[H-].[H-].[H-].[H-].[Li+]>CC(C)CCCO\n"
     ]
    }
   ],
   "source": [
    "HYDRO = AllChem.ReactionFromSmarts('[C:1](=O)[O:2].[O:3]>>[C:1](=O)[O:3].[O:2]')\n",
    "ESTER = AllChem.ReactionFromSmarts('[C:1](=O)[O:2].[O:3]>>[C:1](=O)[O:3]')\n",
    "AMIDE = AllChem.ReactionFromSmarts('[C:1](=O)[O:2].[N:3]>>[C:1](=O)[N:3]')\n",
    "\n",
    "RED = AllChem.ReactionFromSmarts('[C:1](=O)[O:2]>>[C:1]O')\n",
    "METAL = AllChem.ReactionFromSmarts('[C:1](=[O:2])[O:3].[C,c:4][Mg+:5]>>[C:1]([*:4])([*:4])[O:2]')\n",
    "\n",
    "ester_reactions_list = [\n",
    "    \n",
    "    ('HYDRO', HYDRO, ['O'], ['Cl', 'OS(O)(=O)=O', '[Na+].[OH-]']),\n",
    "    ('ESTER', ESTER, [''], ['']),\n",
    "    ('AMIDE', AMIDE, [''], ['']),\n",
    "    \n",
    "    ('METAL', METAL, ['[Br-].[Mg+]C', '[Br-].[Mg+]CC', '[Br-].[Mg+]CCC', \\\n",
    "                      '[Br-].[Mg+]CCCC', '[Br-].[Mg+]c1ccccc1'], ['']),\n",
    "    ('RED', RED, [''], ['[H-].[H-].[H-].[H-].[Al+3].[Li+]']),\n",
    "    \n",
    "]\n",
    "\n",
    "\n",
    "# general reactions\n",
    "for reaction in ester_reactions_list:\n",
    "    print(reaction[0])\n",
    "    for reagent in reaction[2]:\n",
    "        if reaction[0] == 'ESTER':\n",
    "            reagent = alcohol_smi\n",
    "        elif reaction[0] == 'AMIDE':\n",
    "            reagent = amine_smi\n",
    "        if reagent == '': products = reaction[1].RunReactants((ester,))\n",
    "        else: products = reaction[1].RunReactants((ester, Chem.MolFromSmiles(reagent)))\n",
    "        if len(products) == 0: continue\n",
    "        product_smi = [Chem.MolToSmiles(product) for product in products[0]]\n",
    "        if reaction[0] == 'ESTER':\n",
    "            r_ester = [('[Na+].'+alkoxide_smi, alcohol_smi), (alcohol_smi, 'Cl'), (alcohol_smi, 'OS(O)(=O)=O')]\n",
    "            for r in r_ester:\n",
    "                print(cano(ester_smi) + block('.', r[0]) + '>' + cano(r[1]) + '>' + '.'.join(product_smi))\n",
    "        else:\n",
    "            for sub_reagent in reaction[3]:\n",
    "                print(cano(ester_smi) + block('.', reagent) + '>' + cano(sub_reagent) + '>' + '.'.join(product_smi))"
   ]
  },
  {
   "cell_type": "code",
   "execution_count": 62,
   "metadata": {
    "collapsed": true
   },
   "outputs": [],
   "source": [
    "# choose amide (tmp)\n",
    "amide_smi = 'CC(C)CCC(=O)NCC(C)C'\n",
    "amide = Chem.MolFromSmiles(amide_smi)"
   ]
  },
  {
   "cell_type": "code",
   "execution_count": 63,
   "metadata": {
    "collapsed": false
   },
   "outputs": [
    {
     "name": "stdout",
     "output_type": "stream",
     "text": [
      "HYDRO\n",
      "CC(C)CCC(=O)NCC(C)C.O>Cl>CC(C)CCC(=O)O.CC(C)CN\n",
      "CC(C)CCC(=O)NCC(C)C.O>O=S(=O)(O)O>CC(C)CCC(=O)O.CC(C)CN\n",
      "CC(C)CCC(=O)NCC(C)C.O>[Na+].[OH-]>CC(C)CCC(=O)O.CC(C)CN\n",
      "RED\n",
      "CC(C)CCC(=O)NCC(C)C>[Al+3].[H-].[H-].[H-].[H-].[Li+]>CC(C)CCCNCC(C)C\n"
     ]
    }
   ],
   "source": [
    "HYDRO = AllChem.ReactionFromSmarts('[C:1](=O)[N:2].[O:3]>>[C:1](=O)[O:3].[N:2]')\n",
    "RED = AllChem.ReactionFromSmarts('[C:1](=[O:2])[N:3]>>[C:1][N:3]')\n",
    "\n",
    "amide_reactions_list = [\n",
    "    \n",
    "    ('HYDRO', HYDRO, ['O'], ['Cl', 'OS(O)(=O)=O', '[Na+].[OH-]']),\n",
    "    ('RED', RED, [''], ['[H-].[H-].[H-].[H-].[Al+3].[Li+]']),\n",
    "    \n",
    "]\n",
    "\n",
    "\n",
    "# general reactions\n",
    "for reaction in amide_reactions_list:\n",
    "    print(reaction[0])\n",
    "    for reagent in reaction[2]:\n",
    "        if reagent == '': products = reaction[1].RunReactants((amide,))\n",
    "        else: products = reaction[1].RunReactants((amide, Chem.MolFromSmiles(reagent)))\n",
    "        if len(products) == 0: continue\n",
    "        product_smi = [Chem.MolToSmiles(product) for product in products[0]]\n",
    "        for sub_reagent in reaction[3]:\n",
    "            print(cano(amide_smi) + block('.', reagent) + '>' + cano(sub_reagent) + '>' + '.'.join(product_smi))"
   ]
  },
  {
   "cell_type": "code",
   "execution_count": 66,
   "metadata": {
    "collapsed": false
   },
   "outputs": [
    {
     "data": {
      "text/plain": [
       "<rdkit.Chem.rdchem.Mol at 0x7fc1df9da130>"
      ]
     },
     "execution_count": 66,
     "metadata": {},
     "output_type": "execute_result"
    }
   ],
   "source": [
    "Chem.MolFromSmiles('CC(C)CCC(=O)NCC(C)C.O')"
   ]
  },
  {
   "cell_type": "code",
   "execution_count": null,
   "metadata": {
    "collapsed": true
   },
   "outputs": [],
   "source": []
  }
 ],
 "metadata": {
  "kernelspec": {
   "display_name": "Python 2",
   "language": "python",
   "name": "python2"
  },
  "language_info": {
   "codemirror_mode": {
    "name": "ipython",
    "version": 2
   },
   "file_extension": ".py",
   "mimetype": "text/x-python",
   "name": "python",
   "nbconvert_exporter": "python",
   "pygments_lexer": "ipython2",
   "version": "2.7.12"
  }
 },
 "nbformat": 4,
 "nbformat_minor": 1
}
