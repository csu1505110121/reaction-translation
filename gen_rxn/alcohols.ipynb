{
 "cells": [
  {
   "cell_type": "code",
   "execution_count": 1,
   "metadata": {
    "collapsed": true
   },
   "outputs": [],
   "source": [
    "from __future__ import print_function\n",
    "\n",
    "from rdkit import Chem\n",
    "from rdkit.Chem import AllChem"
   ]
  },
  {
   "cell_type": "code",
   "execution_count": 9,
   "metadata": {
    "collapsed": true
   },
   "outputs": [],
   "source": [
    "## Alcohols\n",
    "\n",
    "KETONE_2 = AllChem.ReactionFromSmarts('[CH:1][O:2]>>[C:1]=[O:2]')\n",
    "CARBOXY_1 = AllChem.ReactionFromSmarts('[CH2:1]O>>[C:1](=O)O')\n",
    "ALDEHYDE_1 = AllChem.ReactionFromSmarts('[CH2:1][O:2]>>[C:1](=[O:2])')\n",
    "\n",
    "CHLORO_1_2 = AllChem.ReactionFromSmarts('[CH,CH2:1]O>>[C:1]Cl')\n",
    "CHLORO_3 = AllChem.ReactionFromSmarts('[CH0:1]O>>[C:1]Cl')\n",
    "BROMO_1_2 = AllChem.ReactionFromSmarts('[CH,CH2:1]O>>[C:1]Br')\n",
    "BROMO_3 = AllChem.ReactionFromSmarts('[CH0:1]O>>[C:1]Br')\n",
    "IODO_3 = AllChem.ReactionFromSmarts('[CH0:1]O>>[C:1]I')\n",
    "\n",
    "TOSYL = AllChem.ReactionFromSmarts('[C!H0:1][O:2].[Cl:3][S:4]>>[O:2][S:4]')\n",
    "\n",
    "ETHER = AllChem.ReactionFromSmarts('[C!H0:1][O:2].[Cl,Br,I:3][CH2,CH3:4]>>[O:2][C:4]')\n",
    "\n",
    "\n",
    "alcohol_reactions_list = [\n",
    "    \n",
    "    ('KETONE_2', KETONE_2, [''], ['[O-][Cr](=O)(=O)O[Cr](=O)(=O)[O-].[Na+].[Na+].OS(O)(=O)=O', \\\n",
    "                                  '[O-][Cr](=O)(=O)O[Cr](=O)(=O)[O-].[K+].[K+].OS(O)(=O)=O']),\n",
    "    ('CARBOXY_1', CARBOXY_1, [''], ['[O-][Cr](=O)(=O)O[Cr](=O)(=O)[O-].[Na+].[Na+].OS(O)(=O)=O', \\\n",
    "                                    '[O-][Cr](=O)(=O)O[Cr](=O)(=O)[O-].[K+].[K+].OS(O)(=O)=O']),\n",
    "    ('ALDEHYDE_1', ALDEHYDE_1, [''], ['Cl.O=[Cr](=O)=O.c1ccncc1']),\n",
    "    \n",
    "    ('CHLORO_1_2', CHLORO_1_2, [''], ['O=S(Cl)Cl.c1ccncc1', 'ClP(Cl)Cl', 'ClP(Cl)(Cl)(Cl)Cl']),\n",
    "    ('CHLORO_3', CHLORO_3, [''], ['Cl']),\n",
    "    ('BROMO_1_2', BROMO_1_2, [''], ['BrP(Br)Br']),\n",
    "    ('BROMO_3', BROMO_3, [''], ['Br']),\n",
    "    ('IODO_3', IODO_3, [''], ['I']),\n",
    "    \n",
    "    ('TOSYL', TOSYL, ['Cc1ccc(cc1)S(Cl)(=O)=O'], ['c1ccncc1']),\n",
    "    \n",
    "    ('ETHER', ETHER, [''], ['[Na]', '[K]', '[H-].[Na+]']),\n",
    "    \n",
    "]"
   ]
  },
  {
   "cell_type": "code",
   "execution_count": 12,
   "metadata": {
    "collapsed": false
   },
   "outputs": [
    {
     "name": "stdout",
     "output_type": "stream",
     "text": [
      "KETONE_2\n",
      "CC(C)O>O=S(=O)(O)O.O=[Cr](=O)([O-])O[Cr](=O)(=O)[O-].[Na+].[Na+]>CC(C)=O\n",
      "CC(C)O>O=S(=O)(O)O.O=[Cr](=O)([O-])O[Cr](=O)(=O)[O-].[K+].[K+]>CC(C)=O\n",
      "CARBOXY_1\n",
      "ALDEHYDE_1\n",
      "CHLORO_1_2\n",
      "CC(C)O>O=S(Cl)Cl.c1ccncc1>CC(C)Cl\n",
      "CC(C)O>ClP(Cl)Cl>CC(C)Cl\n",
      "CC(C)O>ClP(Cl)(Cl)(Cl)Cl>CC(C)Cl\n",
      "CHLORO_3\n",
      "BROMO_1_2\n",
      "CC(C)O>BrP(Br)Br>CC(C)Br\n",
      "BROMO_3\n",
      "IODO_3\n",
      "TOSYL\n",
      "CC(C)O.Cc1ccc(S(=O)(=O)Cl)cc1>c1ccncc1>Cc1ccc(cc1)S(=O)(=O)O\n",
      "ETHER\n",
      "CC(C)O.CCCBr>[Na]>CCCO\n",
      "CC(C)O.CCCBr>[K]>CCCO\n",
      "CC(C)O.CCCBr>[H-].[Na+]>CCCO\n"
     ]
    }
   ],
   "source": [
    "import copy\n",
    "\n",
    "def cano(smiles): # canonicalize smiles by MolToSmiles function\n",
    "    return Chem.MolToSmiles(Chem.MolFromSmiles(smiles))\n",
    "\n",
    "def block(ch, smiles):\n",
    "    return (ch + cano(smiles)) if (smiles != '') else ''\n",
    "\n",
    "# choose alcohol(tmp)\n",
    "alcohol_smi = 'CC(C)O'\n",
    "alcohol = Chem.MolFromSmiles(alcohol_smi)\n",
    "\n",
    "# choose alkyl halide (tmp)\n",
    "RX_smi = 'CCCBr'\n",
    "\n",
    "# general reactions\n",
    "for reaction in alcohol_reactions_list:\n",
    "    print(reaction[0])\n",
    "    for reagent in reaction[2]:\n",
    "        if reaction[0] == 'ETHER':\n",
    "            reagent = RX_smi\n",
    "        if reagent == '': products = reaction[1].RunReactants((alcohol,))\n",
    "        else: products = reaction[1].RunReactants((alcohol, Chem.MolFromSmiles(reagent)))\n",
    "        if len(products) == 0: continue\n",
    "        product_smi = [Chem.MolToSmiles(product) for product in products[0]]\n",
    "        for sub_reagent in reaction[3]:\n",
    "            print(cano(alcohol_smi) + block('.', reagent) + '>' + cano(sub_reagent) + '>' + '.'.join(product_smi))"
   ]
  },
  {
   "cell_type": "code",
   "execution_count": null,
   "metadata": {
    "collapsed": true
   },
   "outputs": [],
   "source": []
  }
 ],
 "metadata": {
  "kernelspec": {
   "display_name": "Python 2",
   "language": "python",
   "name": "python2"
  },
  "language_info": {
   "codemirror_mode": {
    "name": "ipython",
    "version": 2
   },
   "file_extension": ".py",
   "mimetype": "text/x-python",
   "name": "python",
   "nbconvert_exporter": "python",
   "pygments_lexer": "ipython2",
   "version": "2.7.12"
  }
 },
 "nbformat": 4,
 "nbformat_minor": 1
}
