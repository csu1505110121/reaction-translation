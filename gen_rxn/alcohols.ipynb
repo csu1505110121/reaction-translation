{
 "cells": [
  {
   "cell_type": "code",
   "execution_count": 15,
   "metadata": {
    "collapsed": true
   },
   "outputs": [],
   "source": [
    "from __future__ import print_function\n",
    "\n",
    "from rdkit import Chem\n",
    "from rdkit.Chem import AllChem\n",
    "\n",
    "import gzip, cPickle\n",
    "import copy\n",
    "import progressbar\n",
    "import random"
   ]
  },
  {
   "cell_type": "code",
   "execution_count": 38,
   "metadata": {
    "collapsed": true
   },
   "outputs": [],
   "source": [
    "## Alcohols\n",
    "\n",
    "KETONE_2 = AllChem.ReactionFromSmarts('[CH:1][O:2]>>[C:1]=[O:2]')\n",
    "CARBOXY_1 = AllChem.ReactionFromSmarts('[CH2:1]O>>[C:1](=O)O')\n",
    "ALDEHYDE_1 = AllChem.ReactionFromSmarts('[CH2:1][O:2]>>[C:1](=[O:2])')\n",
    "\n",
    "CHLORO_1_2 = AllChem.ReactionFromSmarts('[CH,CH2:1]O>>[C:1]Cl')\n",
    "CHLORO_3 = AllChem.ReactionFromSmarts('[CH0:1]O>>[C:1]Cl')\n",
    "BROMO_1_2 = AllChem.ReactionFromSmarts('[CH,CH2:1]O>>[C:1]Br')\n",
    "BROMO_3 = AllChem.ReactionFromSmarts('[CH0:1]O>>[C:1]Br')\n",
    "IODO_3 = AllChem.ReactionFromSmarts('[CH0:1]O>>[C:1]I')\n",
    "\n",
    "TOSYL = AllChem.ReactionFromSmarts('[C!H0:1][O:2].[Cl:3][S:4]>>[C:1][O:2][S:4]')\n",
    "\n",
    "ETHER = AllChem.ReactionFromSmarts('[C!H0:1][O:2].[Cl,Br,I:3][CH2,CH3:4]>>[C:1][O:2][C:4]')\n",
    "\n",
    "\n",
    "alcohol_reactions_list = [\n",
    "    \n",
    "    ('KETONE_2', KETONE_2, [''], ['[O-][Cr](=O)(=O)O[Cr](=O)(=O)[O-].[Na+].[Na+].OS(O)(=O)=O', \\\n",
    "                                  '[O-][Cr](=O)(=O)O[Cr](=O)(=O)[O-].[K+].[K+].OS(O)(=O)=O']),\n",
    "    ('CARBOXY_1', CARBOXY_1, [''], ['[O-][Cr](=O)(=O)O[Cr](=O)(=O)[O-].[Na+].[Na+].OS(O)(=O)=O', \\\n",
    "                                    '[O-][Cr](=O)(=O)O[Cr](=O)(=O)[O-].[K+].[K+].OS(O)(=O)=O']),\n",
    "    ('ALDEHYDE_1', ALDEHYDE_1, [''], ['Cl.O=[Cr](=O)=O.c1ccncc1']),\n",
    "    \n",
    "    ('CHLORO_1_2', CHLORO_1_2, [''], ['O=S(Cl)Cl.c1ccncc1', 'ClP(Cl)Cl', 'ClP(Cl)(Cl)(Cl)Cl']),\n",
    "    ('CHLORO_3', CHLORO_3, [''], ['Cl']),\n",
    "    ('BROMO_1_2', BROMO_1_2, [''], ['BrP(Br)Br']),\n",
    "    ('BROMO_3', BROMO_3, [''], ['Br']),\n",
    "    ('IODO_3', IODO_3, [''], ['I']),\n",
    "    \n",
    "    ('TOSYL', TOSYL, ['Cc1ccc(cc1)S(Cl)(=O)=O'], ['c1ccncc1']),\n",
    "    \n",
    "    ('ETHER', ETHER, [''], ['[Na]', '[K]', '[H-].[Na+]']),\n",
    "    \n",
    "]"
   ]
  },
  {
   "cell_type": "code",
   "execution_count": 39,
   "metadata": {
    "collapsed": true
   },
   "outputs": [],
   "source": [
    "def cano(smiles): # canonicalize smiles by MolToSmiles function\n",
    "    return Chem.MolToSmiles(Chem.MolFromSmiles(smiles))\n",
    "\n",
    "def block(ch, smiles):\n",
    "    return (ch + cano(smiles)) if (smiles != '') else ''"
   ]
  },
  {
   "cell_type": "code",
   "execution_count": 40,
   "metadata": {
    "collapsed": false
   },
   "outputs": [
    {
     "name": "stdout",
     "output_type": "stream",
     "text": [
      "6097\n"
     ]
    }
   ],
   "source": [
    "with gzip.open('data/subst/alcohol.pkl.gz', 'rb') as f:\n",
    "    alcohol_list = cPickle.load(f)\n",
    "    \n",
    "with gzip.open('data/subst/halide_1.pkl.gz', 'rb') as f:\n",
    "    halide_1_list = cPickle.load(f)\n",
    "\n",
    "length = len(alcohol_list)\n",
    "print(length)"
   ]
  },
  {
   "cell_type": "code",
   "execution_count": 41,
   "metadata": {
    "collapsed": false
   },
   "outputs": [
    {
     "name": "stderr",
     "output_type": "stream",
     "text": [
      " 99% (6092 of 6097) |###################### | Elapsed Time: 0:00:47 ETA: 0:00:00"
     ]
    }
   ],
   "source": [
    "rxns = []\n",
    "\n",
    "bar = progressbar.ProgressBar(max_value=length)\n",
    "\n",
    "for i, alcohol_smi in enumerate(alcohol_list):\n",
    "    alcohol = Chem.MolFromSmiles(alcohol_smi)\n",
    "    \n",
    "    for reaction in alcohol_reactions_list:\n",
    "        if reaction[0] == 'ETHER':\n",
    "            reagent_list = random.sample(halide_1_list,10)\n",
    "        else: reagent_list = reaction[2]\n",
    "        for reagent in reagent_list:\n",
    "            if reagent == '': products = reaction[1].RunReactants((alcohol,))\n",
    "            else: products = reaction[1].RunReactants((alcohol, Chem.MolFromSmiles(reagent)))\n",
    "            if len(products) == 0: continue\n",
    "            product_smi = [Chem.MolToSmiles(product) for product in products[0]]\n",
    "            for sub_reagent in reaction[3]:\n",
    "                rxns.append(cano(alcohol_smi) + block('.', reagent) + '>' + cano(sub_reagent) + '>' + '.'.join(product_smi))\n",
    "                \n",
    "    bar.update(i)"
   ]
  },
  {
   "cell_type": "code",
   "execution_count": 36,
   "metadata": {
    "collapsed": false
   },
   "outputs": [
    {
     "name": "stdout",
     "output_type": "stream",
     "text": [
      "159813\n"
     ]
    }
   ],
   "source": [
    "print(len(rxns))"
   ]
  },
  {
   "cell_type": "code",
   "execution_count": 42,
   "metadata": {
    "collapsed": true
   },
   "outputs": [],
   "source": [
    "with gzip.open('data/rxns/alcohol.pkl.gz', 'wb') as f:\n",
    "    cPickle.dump(rxns, f, 2)"
   ]
  },
  {
   "cell_type": "code",
   "execution_count": null,
   "metadata": {
    "collapsed": true
   },
   "outputs": [],
   "source": []
  }
 ],
 "metadata": {
  "kernelspec": {
   "display_name": "Python 2",
   "language": "python",
   "name": "python2"
  },
  "language_info": {
   "codemirror_mode": {
    "name": "ipython",
    "version": 2
   },
   "file_extension": ".py",
   "mimetype": "text/x-python",
   "name": "python",
   "nbconvert_exporter": "python",
   "pygments_lexer": "ipython2",
   "version": "2.7.12"
  }
 },
 "nbformat": 4,
 "nbformat_minor": 1
}
