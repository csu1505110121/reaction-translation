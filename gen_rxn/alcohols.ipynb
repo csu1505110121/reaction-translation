{
 "cells": [
  {
   "cell_type": "code",
   "execution_count": 15,
   "metadata": {
    "collapsed": true
   },
   "outputs": [],
   "source": [
    "from __future__ import print_function\n",
    "\n",
    "from rdkit import Chem\n",
    "from rdkit.Chem import AllChem\n",
    "\n",
    "import gzip, cPickle\n",
    "import copy\n",
    "import progressbar\n",
    "import random"
   ]
  },
  {
   "cell_type": "code",
   "execution_count": 38,
   "metadata": {
    "collapsed": true
   },
   "outputs": [],
   "source": [
    "## Alcohols\n",
    "\n",
    "KETONE_2 = AllChem.ReactionFromSmarts('[CH:1][O:2]>>[C:1]=[O:2]')\n",
    "CARBOXY_1 = AllChem.ReactionFromSmarts('[CH2:1]O>>[C:1](=O)O')\n",
    "ALDEHYDE_1 = AllChem.ReactionFromSmarts('[CH2:1][O:2]>>[C:1](=[O:2])')\n",
    "\n",
    "CHLORO_1_2 = AllChem.ReactionFromSmarts('[CH,CH2:1]O>>[C:1]Cl')\n",
    "CHLORO_3 = AllChem.ReactionFromSmarts('[CH0:1]O>>[C:1]Cl')\n",
    "BROMO_1_2 = AllChem.ReactionFromSmarts('[CH,CH2:1]O>>[C:1]Br')\n",
    "BROMO_3 = AllChem.ReactionFromSmarts('[CH0:1]O>>[C:1]Br')\n",
    "IODO_3 = AllChem.ReactionFromSmarts('[CH0:1]O>>[C:1]I')\n",
    "\n",
    "TOSYL = AllChem.ReactionFromSmarts('[C!H0:1][O:2].[Cl:3][S:4]>>[C:1][O:2][S:4]')\n",
    "\n",
    "ETHER = AllChem.ReactionFromSmarts('[C!H0:1][O:2].[Cl,Br,I:3][CH2,CH3:4]>>[C:1][O:2][C:4]')\n",
    "\n",
    "\n",
    "alcohol_reactions_list = [\n",
    "    \n",
    "    ('KETONE_2', KETONE_2, [''], ['[O-][Cr](=O)(=O)O[Cr](=O)(=O)[O-].[Na+].[Na+].OS(O)(=O)=O', \\\n",
    "                                  '[O-][Cr](=O)(=O)O[Cr](=O)(=O)[O-].[K+].[K+].OS(O)(=O)=O']),\n",
    "    ('CARBOXY_1', CARBOXY_1, [''], ['[O-][Cr](=O)(=O)O[Cr](=O)(=O)[O-].[Na+].[Na+].OS(O)(=O)=O', \\\n",
    "                                    '[O-][Cr](=O)(=O)O[Cr](=O)(=O)[O-].[K+].[K+].OS(O)(=O)=O']),\n",
    "    ('ALDEHYDE_1', ALDEHYDE_1, [''], ['Cl.O=[Cr](=O)=O.c1ccncc1']),\n",
    "    \n",
    "    ('CHLORO_1_2', CHLORO_1_2, [''], ['O=S(Cl)Cl.c1ccncc1', 'ClP(Cl)Cl', 'ClP(Cl)(Cl)(Cl)Cl']),\n",
    "    ('CHLORO_3', CHLORO_3, [''], ['Cl']),\n",
    "    ('BROMO_1_2', BROMO_1_2, [''], ['BrP(Br)Br']),\n",
    "    ('BROMO_3', BROMO_3, [''], ['Br']),\n",
    "    ('IODO_3', IODO_3, [''], ['I']),\n",
    "    \n",
    "    ('TOSYL', TOSYL, ['Cc1ccc(cc1)S(Cl)(=O)=O'], ['c1ccncc1']),\n",
    "    \n",
    "    ('ETHER', ETHER, [''], ['[Na]', '[K]', '[H-].[Na+]']),\n",
    "    \n",
    "]"
   ]
  },
  {
   "cell_type": "code",
   "execution_count": 39,
   "metadata": {
    "collapsed": true
   },
   "outputs": [],
   "source": [
    "def cano(smiles): # canonicalize smiles by MolToSmiles function\n",
    "    return Chem.MolToSmiles(Chem.MolFromSmiles(smiles))\n",
    "\n",
    "def block(ch, smiles):\n",
    "    return (ch + cano(smiles)) if (smiles != '') else ''"
   ]
  },
  {
   "cell_type": "code",
   "execution_count": 40,
   "metadata": {
    "collapsed": false
   },
   "outputs": [
    {
     "name": "stdout",
     "output_type": "stream",
     "text": [
      "6097\n"
     ]
    }
   ],
   "source": [
    "with gzip.open('data/subst/alcohol.pkl.gz', 'rb') as f:\n",
    "    alcohol_list = cPickle.load(f)\n",
    "    \n",
    "with gzip.open('data/subst/halide_1.pkl.gz', 'rb') as f:\n",
    "    halide_1_list = cPickle.load(f)\n",
    "\n",
    "length = len(alcohol_list)\n",
    "print(length)"
   ]
  },
  {
   "cell_type": "code",
   "execution_count": 41,
   "metadata": {
    "collapsed": false
   },
   "outputs": [
    {
     "name": "stderr",
     "output_type": "stream",
     "text": [
      " 99% (6092 of 6097) |###################### | Elapsed Time: 0:00:47 ETA: 0:00:00"
     ]
    }
   ],
   "source": [
    "rxns = []\n",
    "\n",
    "bar = progressbar.ProgressBar(max_value=length)\n",
    "\n",
    "for i, alcohol_smi in enumerate(alcohol_list):\n",
    "    alcohol = Chem.MolFromSmiles(alcohol_smi)\n",
    "    \n",
    "    for reaction in alcohol_reactions_list:\n",
    "        if reaction[0] == 'ETHER':\n",
    "            reagent_list = random.sample(halide_1_list,10)\n",
    "        else: reagent_list = reaction[2]\n",
    "        for reagent in reagent_list:\n",
    "            if reagent == '': products = reaction[1].RunReactants((alcohol,))\n",
    "            else: products = reaction[1].RunReactants((alcohol, Chem.MolFromSmiles(reagent)))\n",
    "            if len(products) == 0: continue\n",
    "            product_smi = [Chem.MolToSmiles(product) for product in products[0]]\n",
    "            for sub_reagent in reaction[3]:\n",
    "                rxns.append(cano(alcohol_smi) + block('.', reagent) + '>' + cano(sub_reagent) + '>' + '.'.join(product_smi))\n",
    "                \n",
    "    bar.update(i)"
   ]
  },
  {
   "cell_type": "code",
   "execution_count": 36,
   "metadata": {
    "collapsed": false
   },
   "outputs": [
    {
     "name": "stdout",
     "output_type": "stream",
     "text": [
      "159813\n"
     ]
    }
   ],
   "source": [
    "print(len(rxns))"
   ]
  },
  {
   "cell_type": "code",
   "execution_count": 37,
   "metadata": {
    "collapsed": false
   },
   "outputs": [
    {
     "data": {
      "text/plain": [
       "['CC(C)(C)O>Br>CC(C)(C)Br',\n",
       " 'CC(C)(C)O>I>CC(C)(C)I',\n",
       " 'CC(C)CO>O=S(=O)(O)O.O=[Cr](=O)([O-])O[Cr](=O)(=O)[O-].[Na+].[Na+]>CC(C)C(=O)O',\n",
       " 'CC(C)CO>O=S(=O)(O)O.O=[Cr](=O)([O-])O[Cr](=O)(=O)[O-].[K+].[K+]>CC(C)C(=O)O',\n",
       " 'CC(C)CO>Cl.O=[Cr](=O)=O.c1ccncc1>CC(C)C=O',\n",
       " 'CC(C)CO>O=S(Cl)Cl.c1ccncc1>CC(C)CCl',\n",
       " 'CC(C)CO>ClP(Cl)Cl>CC(C)CCl',\n",
       " 'CC(C)CO>ClP(Cl)(Cl)(Cl)Cl>CC(C)CCl',\n",
       " 'CC(C)CO>BrP(Br)Br>CC(C)CBr',\n",
       " 'CC(C)CO.Cc1ccc(S(=O)(=O)Cl)cc1>c1ccncc1>Cc1ccc(cc1)S(=O)(=O)O',\n",
       " 'CC(C)CO.CC12CCCC1C2CI>[Na]>CC(C)COCC1C2CCCC21C',\n",
       " 'CC(C)CO.CC12CCCC1C2CI>[K]>CC(C)COCC1C2CCCC21C',\n",
       " 'CC(C)CO.CC12CCCC1C2CI>[H-].[Na+]>CC(C)COCC1C2CCCC21C',\n",
       " 'CC(C)CO.CC12C(CCl)C3CC1C2C3>[Na]>CC(C)COCC1C2CC3C(C2)C13C',\n",
       " 'CC(C)CO.CC12C(CCl)C3CC1C2C3>[K]>CC(C)COCC1C2CC3C(C2)C13C',\n",
       " 'CC(C)CO.CC12C(CCl)C3CC1C2C3>[H-].[Na+]>CC(C)COCC1C2CC3C(C2)C13C',\n",
       " 'CC(C)CO.CC(C)C1CCC1CCBr>[Na]>CC(C)COCCC1CCC1C(C)C',\n",
       " 'CC(C)CO.CC(C)C1CCC1CCBr>[K]>CC(C)COCCC1CCC1C(C)C',\n",
       " 'CC(C)CO.CC(C)C1CCC1CCBr>[H-].[Na+]>CC(C)COCCC1CCC1C(C)C',\n",
       " 'CC(C)CO.CCC(CI)C1CC1CC>[Na]>CCC(COCC(C)C)C1CC1CC',\n",
       " 'CC(C)CO.CCC(CI)C1CC1CC>[K]>CCC(COCC(C)C)C1CC1CC',\n",
       " 'CC(C)CO.CCC(CI)C1CC1CC>[H-].[Na+]>CCC(COCC(C)C)C1CC1CC',\n",
       " 'CC(C)CO.CC1CC(C)(C)C1CCl>[Na]>CC(C)COCC1C(C)CC1(C)C',\n",
       " 'CC(C)CO.CC1CC(C)(C)C1CCl>[K]>CC(C)COCC1C(C)CC1(C)C',\n",
       " 'CC(C)CO.CC1CC(C)(C)C1CCl>[H-].[Na+]>CC(C)COCC1C(C)CC1(C)C',\n",
       " 'CC(C)CO.CCC(CBr)C1(C)CCC1>[Na]>CCC(COCC(C)C)C1(C)CCC1',\n",
       " 'CC(C)CO.CCC(CBr)C1(C)CCC1>[K]>CCC(COCC(C)C)C1(C)CCC1',\n",
       " 'CC(C)CO.CCC(CBr)C1(C)CCC1>[H-].[Na+]>CCC(COCC(C)C)C1(C)CCC1',\n",
       " 'CC(C)CO.CC1CC1C1(CCI)CC1>[Na]>CC(C)COCCC1(CC1)C1CC1C',\n",
       " 'CC(C)CO.CC1CC1C1(CCI)CC1>[K]>CC(C)COCCC1(CC1)C1CC1C',\n",
       " 'CC(C)CO.CC1CC1C1(CCI)CC1>[H-].[Na+]>CC(C)COCCC1(CC1)C1CC1C',\n",
       " 'CC(C)CO.CC1C(CBr)C(C)C2CC12>[Na]>CC(C)COCC1C(C)C2CC2C1C',\n",
       " 'CC(C)CO.CC1C(CBr)C(C)C2CC12>[K]>CC(C)COCC1C(C)C2CC2C1C',\n",
       " 'CC(C)CO.CC1C(CBr)C(C)C2CC12>[H-].[Na+]>CC(C)COCC1C(C)C2CC2C1C',\n",
       " 'CC(C)CO.CC(CCl)CC1(C)CC1C>[Na]>CC(C)COCC(C)CC1(C)CC1C',\n",
       " 'CC(C)CO.CC(CCl)CC1(C)CC1C>[K]>CC(C)COCC(C)CC1(C)CC1C',\n",
       " 'CC(C)CO.CC(CCl)CC1(C)CC1C>[H-].[Na+]>CC(C)COCC(C)CC1(C)CC1C',\n",
       " 'CC(C)CO.CC1C(CI)C(C)C2CC12>[Na]>CC(C)COCC1C(C)C2CC2C1C',\n",
       " 'CC(C)CO.CC1C(CI)C(C)C2CC12>[K]>CC(C)COCC1C(C)C2CC2C1C',\n",
       " 'CC(C)CO.CC1C(CI)C(C)C2CC12>[H-].[Na+]>CC(C)COCC1C(C)C2CC2C1C',\n",
       " 'CCC(C)O>O=S(=O)(O)O.O=[Cr](=O)([O-])O[Cr](=O)(=O)[O-].[Na+].[Na+]>CCC(C)=O',\n",
       " 'CCC(C)O>O=S(=O)(O)O.O=[Cr](=O)([O-])O[Cr](=O)(=O)[O-].[K+].[K+]>CCC(C)=O',\n",
       " 'CCC(C)O>O=S(Cl)Cl.c1ccncc1>CCC(C)Cl',\n",
       " 'CCC(C)O>ClP(Cl)Cl>CCC(C)Cl',\n",
       " 'CCC(C)O>ClP(Cl)(Cl)(Cl)Cl>CCC(C)Cl',\n",
       " 'CCC(C)O>BrP(Br)Br>CCC(C)Br',\n",
       " 'CCC(C)O.Cc1ccc(S(=O)(=O)Cl)cc1>c1ccncc1>Cc1ccc(cc1)S(=O)(=O)O',\n",
       " 'CCC(C)O.CC(C)C(CBr)C1CC1>[Na]>CCC(C)OCC(C(C)C)C1CC1',\n",
       " 'CCC(C)O.CC(C)C(CBr)C1CC1>[K]>CCC(C)OCC(C(C)C)C1CC1',\n",
       " 'CCC(C)O.CC(C)C(CBr)C1CC1>[H-].[Na+]>CCC(C)OCC(C(C)C)C1CC1',\n",
       " 'CCC(C)O.CCC1CCCC(CBr)C1>[Na]>CCC1CCCC(COC(C)CC)C1',\n",
       " 'CCC(C)O.CCC1CCCC(CBr)C1>[K]>CCC1CCCC(COC(C)CC)C1',\n",
       " 'CCC(C)O.CCC1CCCC(CBr)C1>[H-].[Na+]>CCC1CCCC(COC(C)CC)C1',\n",
       " 'CCC(C)O.CC1CCCCC1CCBr>[Na]>CCC(C)OCCC1CCCCC1C',\n",
       " 'CCC(C)O.CC1CCCCC1CCBr>[K]>CCC(C)OCCC1CCCCC1C',\n",
       " 'CCC(C)O.CC1CCCCC1CCBr>[H-].[Na+]>CCC(C)OCCC1CCCCC1C',\n",
       " 'CCC(C)O.ICCC12CC1C1CC2C1>[Na]>CCC(C)OCCC12CC1C1CC2C1',\n",
       " 'CCC(C)O.ICCC12CC1C1CC2C1>[K]>CCC(C)OCCC12CC1C1CC2C1',\n",
       " 'CCC(C)O.ICCC12CC1C1CC2C1>[H-].[Na+]>CCC(C)OCCC12CC1C1CC2C1',\n",
       " 'CCC(C)O.CC1C(CCBr)C1(C)C>[Na]>CCC(C)OCCC1C(C)C1(C)C',\n",
       " 'CCC(C)O.CC1C(CCBr)C1(C)C>[K]>CCC(C)OCCC1C(C)C1(C)C',\n",
       " 'CCC(C)O.CC1C(CCBr)C1(C)C>[H-].[Na+]>CCC(C)OCCC1C(C)C1(C)C',\n",
       " 'CCC(C)O.CCC1C2CC(C2)C1CBr>[Na]>CCC(C)OCC1C2CC(C2)C1CC',\n",
       " 'CCC(C)O.CCC1C2CC(C2)C1CBr>[K]>CCC(C)OCC1C2CC(C2)C1CC',\n",
       " 'CCC(C)O.CCC1C2CC(C2)C1CBr>[H-].[Na+]>CCC(C)OCC1C2CC(C2)C1CC',\n",
       " 'CCC(C)O.CC(C)CC(C)CCl>[Na]>CCC(C)OCC(C)CC(C)C',\n",
       " 'CCC(C)O.CC(C)CC(C)CCl>[K]>CCC(C)OCC(C)CC(C)C',\n",
       " 'CCC(C)O.CC(C)CC(C)CCl>[H-].[Na+]>CCC(C)OCC(C)CC(C)C',\n",
       " 'CCC(C)O.ClCC1CC2C3CC(C3)C12>[Na]>CCC(C)OCC1CC2C3CC(C3)C12',\n",
       " 'CCC(C)O.ClCC1CC2C3CC(C3)C12>[K]>CCC(C)OCC1CC2C3CC(C3)C12',\n",
       " 'CCC(C)O.ClCC1CC2C3CC(C3)C12>[H-].[Na+]>CCC(C)OCC1CC2C3CC(C3)C12',\n",
       " 'CCC(C)O.CCCC(CCl)C1CC1C>[Na]>CCCC(COC(C)CC)C1CC1C',\n",
       " 'CCC(C)O.CCCC(CCl)C1CC1C>[K]>CCCC(COC(C)CC)C1CC1C',\n",
       " 'CCC(C)O.CCCC(CCl)C1CC1C>[H-].[Na+]>CCCC(COC(C)CC)C1CC1C',\n",
       " 'CCC(C)O.CC(C)CC(C)CBr>[Na]>CCC(C)OCC(C)CC(C)C',\n",
       " 'CCC(C)O.CC(C)CC(C)CBr>[K]>CCC(C)OCC(C)CC(C)C',\n",
       " 'CCC(C)O.CC(C)CC(C)CBr>[H-].[Na+]>CCC(C)OCC(C)CC(C)C',\n",
       " 'CC1(O)CC1>Cl>CC1(Cl)CC1',\n",
       " 'CC1(O)CC1>Br>CC1(Br)CC1',\n",
       " 'CC1(O)CC1>I>CC1(I)CC1',\n",
       " 'OC1CCC1>O=S(=O)(O)O.O=[Cr](=O)([O-])O[Cr](=O)(=O)[O-].[Na+].[Na+]>O=C1CCC1',\n",
       " 'OC1CCC1>O=S(=O)(O)O.O=[Cr](=O)([O-])O[Cr](=O)(=O)[O-].[K+].[K+]>O=C1CCC1',\n",
       " 'OC1CCC1>O=S(Cl)Cl.c1ccncc1>ClC1CCC1',\n",
       " 'OC1CCC1>ClP(Cl)Cl>ClC1CCC1',\n",
       " 'OC1CCC1>ClP(Cl)(Cl)(Cl)Cl>ClC1CCC1',\n",
       " 'OC1CCC1>BrP(Br)Br>BrC1CCC1',\n",
       " 'OC1CCC1.Cc1ccc(S(=O)(=O)Cl)cc1>c1ccncc1>Cc1ccc(cc1)S(=O)(=O)O',\n",
       " 'OC1CCC1.CC(CBr)C1(C)CCC1C>[Na]>CC1CCC1(C)C(C)COC1CCC1',\n",
       " 'OC1CCC1.CC(CBr)C1(C)CCC1C>[K]>CC1CCC1(C)C(C)COC1CCC1',\n",
       " 'OC1CCC1.CC(CBr)C1(C)CCC1C>[H-].[Na+]>CC1CCC1(C)C(C)COC1CCC1',\n",
       " 'OC1CCC1.CCC1CC1(CC)CCCl>[Na]>CCC1CC1(CC)CCOC1CCC1',\n",
       " 'OC1CCC1.CCC1CC1(CC)CCCl>[K]>CCC1CC1(CC)CCOC1CCC1',\n",
       " 'OC1CCC1.CCC1CC1(CC)CCCl>[H-].[Na+]>CCC1CC1(CC)CCOC1CCC1',\n",
       " 'OC1CCC1.CC1CC2CC2CC1CI>[Na]>CC1CC2CC2CC1COC1CCC1',\n",
       " 'OC1CCC1.CC1CC2CC2CC1CI>[K]>CC1CC2CC2CC1COC1CCC1',\n",
       " 'OC1CCC1.CC1CC2CC2CC1CI>[H-].[Na+]>CC1CC2CC2CC1COC1CCC1',\n",
       " 'OC1CCC1.C=c1ccc(CI)cc1=C>[Na]>C=c1ccc(cc1=C)COC1CCC1',\n",
       " 'OC1CCC1.C=c1ccc(CI)cc1=C>[K]>C=c1ccc(cc1=C)COC1CCC1',\n",
       " 'OC1CCC1.C=c1ccc(CI)cc1=C>[H-].[Na+]>C=c1ccc(cc1=C)COC1CCC1']"
      ]
     },
     "execution_count": 37,
     "metadata": {},
     "output_type": "execute_result"
    }
   ],
   "source": [
    "rxns[1:100]"
   ]
  },
  {
   "cell_type": "code",
   "execution_count": null,
   "metadata": {
    "collapsed": true
   },
   "outputs": [],
   "source": []
  }
 ],
 "metadata": {
  "kernelspec": {
   "display_name": "Python 2",
   "language": "python",
   "name": "python2"
  },
  "language_info": {
   "codemirror_mode": {
    "name": "ipython",
    "version": 2
   },
   "file_extension": ".py",
   "mimetype": "text/x-python",
   "name": "python",
   "nbconvert_exporter": "python",
   "pygments_lexer": "ipython2",
   "version": "2.7.12"
  }
 },
 "nbformat": 4,
 "nbformat_minor": 1
}
