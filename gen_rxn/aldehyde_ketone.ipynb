{
 "cells": [
  {
   "cell_type": "code",
   "execution_count": 33,
   "metadata": {
    "collapsed": true
   },
   "outputs": [],
   "source": [
    "from __future__ import print_function\n",
    "\n",
    "from rdkit import Chem\n",
    "from rdkit.Chem import AllChem\n",
    "\n",
    "import gzip, cPickle\n",
    "import copy\n",
    "import progressbar\n",
    "import random"
   ]
  },
  {
   "cell_type": "code",
   "execution_count": 34,
   "metadata": {
    "collapsed": false
   },
   "outputs": [],
   "source": [
    "## Aldehyde & Ketone\n",
    "\n",
    "METAL = AllChem.ReactionFromSmarts('[C:1]=[O:2].[C,c:3][Mg+,Li:4]>>[*:3][C:1][O:2]')\n",
    "\n",
    "RED = AllChem.ReactionFromSmarts('[C:1]=[O:2]>>[C:1][O:2]')\n",
    "RRED = AllChem.ReactionFromSmarts('[C:1]=[O:2]>>[C:1]') # Clemmensen and Wolff-Kishner\n",
    "\n",
    "WITTIG = AllChem.ReactionFromSmarts('[C:1]=[O:2].[C:3][P+:4]>>[C:1]=[C:3]')\n",
    "_YLIDE = AllChem.ReactionFromSmarts('[C:1]=[O:2]>>[C:1][P+](c1ccccc1)(c1ccccc1)(c1ccccc1)')\n",
    "\n",
    "HYD = AllChem.ReactionFromSmarts('[C:1]=[O:2].[O:3]>>[C:1]([O:2])[O:3]')\n",
    "CYAN = AllChem.ReactionFromSmarts('[C:1]=[O:2].[C-:3]#[N:4]>>[C:1]([O:2])[C-0:3]#[N:4]')\n",
    "IMINE = AllChem.ReactionFromSmarts('[C:1]=[O:2].[NH2:3]>>[C:1]=[N:3]')\n",
    "OXIME = AllChem.ReactionFromSmarts('[C:1]=[O:2].[NH2:3][O:4]>>[C:1]=[N:3][O:4]')\n",
    "HYDRAZONE = AllChem.ReactionFromSmarts('[C:1]=[O:2].[NH2:3][N:4]>>[C:1]=[N:3][N:4]')\n",
    "\n",
    "ACETAL = AllChem.ReactionFromSmarts('[C:1]=[O:2].[O:3]>>[C:1]([O:3])[O:3]')\n",
    "ACETAL_ALT = AllChem.ReactionFromSmarts('[C:1]=[O:2].([O:3].[O:4])>>[C:1]([O:3])[O:4]')\n",
    "\n",
    "OXI = AllChem.ReactionFromSmarts('[C:1](=[O:2])[H]>>[C:1](=[O:2])O')\n",
    "\n",
    "carbonyl_reactions_list = [\n",
    "    \n",
    "    ('METAL', METAL, ['[Li]C', '[Li]CC', '[Li]CCC', '[Li]CCCC', '[Li]c1ccccc1', \\\n",
    "                '[Br-].[Mg+]C', '[Br-].[Mg+]CC', '[Br-].[Mg+]CCC', '[Br-].[Mg+]CCCC', '[Br-].[Mg+]c1ccccc1'], ['']),\n",
    "    \n",
    "    ('RED', RED, [''], ['[H-].[H-].[H-].[H-].[Al+3].[Li+]', '[Na+].[BH4-]', '[H].[H]']),\n",
    "    ('RRED', RRED, [''], ['[Hg].[Zn].Cl', 'NN.[K+].[OH-]']),\n",
    "    \n",
    "    ('WITTIG', WITTIG, [''], ['']),\n",
    "    \n",
    "    ('HYD', HYD, ['O'], ['']),\n",
    "    ('CYAN', CYAN, ['[C-]#N'], ['C#N']),\n",
    "    ('IMINE', IMINE, [''], ['Cl']),\n",
    "    ('OXIME', OXIME, ['NO'], ['Cl']),\n",
    "    ('HYDRAZONE', HYDRAZONE, ['NN', 'NNc1ccccc1', 'NNC(N)=O'], ['Cl']),\n",
    "    \n",
    "    ('ACETAL', ACETAL, ['CO.CO', 'CCO.CCO', 'CCCO.CCCO', 'CCCCO.CCCCO'], ['Cl']),\n",
    "    ('ACETAL_ALT', ACETAL_ALT, ['OCCO'], ['Cl']),\n",
    "    \n",
    "    ('OXI', OXI, [''], ['[O-][Cr](=O)(=O)O[Cr](=O)(=O)[O-].[Na+].[Na+].OS(O)(=O)=O', \\\n",
    "                             '[O-][Cr](=O)(=O)O[Cr](=O)(=O)[O-].[K+].[K+].OS(O)(=O)=O', \\\n",
    "                             '[K+].[O-][Mn](=O)(=O)=O']),\n",
    "    \n",
    "]"
   ]
  },
  {
   "cell_type": "code",
   "execution_count": 35,
   "metadata": {
    "collapsed": true
   },
   "outputs": [],
   "source": [
    "def cano(smiles): # canonicalize smiles by MolToSmiles function\n",
    "    return Chem.MolToSmiles(Chem.MolFromSmiles(smiles))\n",
    "\n",
    "def block(ch, smiles):\n",
    "    return (ch + cano(smiles)) if (smiles != '') else ''"
   ]
  },
  {
   "cell_type": "code",
   "execution_count": 36,
   "metadata": {
    "collapsed": false
   },
   "outputs": [
    {
     "name": "stdout",
     "output_type": "stream",
     "text": [
      "3398\n"
     ]
    }
   ],
   "source": [
    "with gzip.open('data/subst/ald_ket.pkl.gz', 'rb') as f:\n",
    "    ald_ket_list = cPickle.load(f)\n",
    "    \n",
    "with gzip.open('data/subst/amine_1.pkl.gz', 'rb') as f:\n",
    "    amine_1_list = cPickle.load(f)\n",
    "\n",
    "length = len(ald_ket_list)\n",
    "print(length)"
   ]
  },
  {
   "cell_type": "code",
   "execution_count": 49,
   "metadata": {
    "collapsed": false
   },
   "outputs": [
    {
     "name": "stderr",
     "output_type": "stream",
     "text": [
      " 99% (3397 of 3398) |###################### | Elapsed Time: 0:01:43 ETA: 0:00:00"
     ]
    }
   ],
   "source": [
    "rxns = []\n",
    "\n",
    "bar = progressbar.ProgressBar(max_value=length)\n",
    "\n",
    "for i, carbonyl_smi in enumerate(ald_ket_list):\n",
    "    carbonyl = Chem.MolFromSmiles(carbonyl_smi)\n",
    "    \n",
    "    for reaction in carbonyl_reactions_list:\n",
    "        if reaction[0] == 'IMINE':\n",
    "            reagent_list = random.sample(amine_1_list,10)\n",
    "        elif reaction[0] == 'WITTIG':\n",
    "            ylide_smi = random.sample(ald_ket_list,10)\n",
    "            ylide_mol = [Chem.MolFromSmiles(smi) for smi in ylide_smi]\n",
    "            reagent_list = [Chem.MolToSmiles(_YLIDE.RunReactants((mol,))[0][0]) for mol in ylide_mol]\n",
    "        else: reagent_list = reaction[2]\n",
    "            \n",
    "        for reagent in reagent_list:\n",
    "            if reagent == '': products = reaction[1].RunReactants((carbonyl,))\n",
    "            else: products = reaction[1].RunReactants((carbonyl, Chem.MolFromSmiles(reagent)))\n",
    "            if len(products) == 0: continue\n",
    "            product_smi = [Chem.MolToSmiles(product) for product in products[0]]\n",
    "            if reaction[0] == 'WITTIG':\n",
    "                for halogen in ['[Cl-]', '[Br-]', '[I-]']:\n",
    "                    reagent_m = reagent + '.' + halogen\n",
    "                    rxns.append(cano(carbonyl_smi) + block('.', reagent_m) + '>>' + '.'.join(product_smi))\n",
    "            else:\n",
    "                for sub_reagent in reaction[3]:\n",
    "                    rxns.append(cano(carbonyl_smi) + block('.', reagent) + '>' + cano(sub_reagent) + '>' + '.'.join(product_smi))\n",
    "                    \n",
    "    bar.update(i)"
   ]
  },
  {
   "cell_type": "code",
   "execution_count": 50,
   "metadata": {
    "collapsed": false
   },
   "outputs": [
    {
     "name": "stdout",
     "output_type": "stream",
     "text": [
      "224268\n"
     ]
    }
   ],
   "source": [
    "print(len(rxns))"
   ]
  },
  {
   "cell_type": "code",
   "execution_count": 51,
   "metadata": {
    "collapsed": false
   },
   "outputs": [
    {
     "data": {
      "text/plain": [
       "['CC(C)C=O.[Li]CC>>CCC(O)C(C)C',\n",
       " 'CC(C)C=O.[Li]CCC>>CCCC(O)C(C)C',\n",
       " 'CC(C)C=O.[Li]CCCC>>CCCCC(O)C(C)C',\n",
       " 'CC(C)C=O.[Li]c1ccccc1>>CC(C)C(O)c1ccccc1',\n",
       " 'CC(C)C=O.C[Mg+].[Br-]>>CC(C)C(C)O',\n",
       " 'CC(C)C=O.CC[Mg+].[Br-]>>CCC(O)C(C)C',\n",
       " 'CC(C)C=O.CCC[Mg+].[Br-]>>CCCC(O)C(C)C',\n",
       " 'CC(C)C=O.CCCC[Mg+].[Br-]>>CCCCC(O)C(C)C',\n",
       " 'CC(C)C=O.[Br-].[Mg+]c1ccccc1>>CC(C)C(O)c1ccccc1',\n",
       " 'CC(C)C=O>[Al+3].[H-].[H-].[H-].[H-].[Li+]>CC(C)CO',\n",
       " 'CC(C)C=O>[BH4-].[Na+]>CC(C)CO',\n",
       " 'CC(C)C=O>[H].[H]>CC(C)CO',\n",
       " 'CC(C)C=O>Cl.[Hg].[Zn]>CC(C)C',\n",
       " 'CC(C)C=O>NN.[K+].[OH-]>CC(C)C',\n",
       " 'CC(C)C=O.CC12CCC(CC([P+](c3ccccc3)(c3ccccc3)c3ccccc3)C1)C2.[Cl-]>>CC(C)C=C1CC2CCC(C)(C1)C2',\n",
       " 'CC(C)C=O.CC12CCC(CC([P+](c3ccccc3)(c3ccccc3)c3ccccc3)C1)C2.[Br-]>>CC(C)C=C1CC2CCC(C)(C1)C2',\n",
       " 'CC(C)C=O.CC12CCC(CC([P+](c3ccccc3)(c3ccccc3)c3ccccc3)C1)C2.[I-]>>CC(C)C=C1CC2CCC(C)(C1)C2',\n",
       " 'CC(C)C=O.[Cl-].c1ccc([P+](c2ccccc2)(c2ccccc2)C2CC3C4CC5C(C43)C52)cc1>>CC(C)C=C1CC2C3CC4C1C4C23',\n",
       " 'CC(C)C=O.[Br-].c1ccc([P+](c2ccccc2)(c2ccccc2)C2CC3C4CC5C(C43)C52)cc1>>CC(C)C=C1CC2C3CC4C1C4C23',\n",
       " 'CC(C)C=O.[I-].c1ccc([P+](c2ccccc2)(c2ccccc2)C2CC3C4CC5C(C43)C52)cc1>>CC(C)C=C1CC2C3CC4C1C4C23',\n",
       " 'CC(C)C=O.CCCC(C)CCCC[P+](c1ccccc1)(c1ccccc1)c1ccccc1.[Cl-]>>CCCC(C)CCCC=CC(C)C',\n",
       " 'CC(C)C=O.CCCC(C)CCCC[P+](c1ccccc1)(c1ccccc1)c1ccccc1.[Br-]>>CCCC(C)CCCC=CC(C)C',\n",
       " 'CC(C)C=O.CCCC(C)CCCC[P+](c1ccccc1)(c1ccccc1)c1ccccc1.[I-]>>CCCC(C)CCCC=CC(C)C',\n",
       " 'CC(C)C=O.CC(CC1C(C)C1C)C[P+](c1ccccc1)(c1ccccc1)c1ccccc1.[Cl-]>>CC(C)C=CC(C)CC1C(C)C1C',\n",
       " 'CC(C)C=O.CC(CC1C(C)C1C)C[P+](c1ccccc1)(c1ccccc1)c1ccccc1.[Br-]>>CC(C)C=CC(C)CC1C(C)C1C',\n",
       " 'CC(C)C=O.CC(CC1C(C)C1C)C[P+](c1ccccc1)(c1ccccc1)c1ccccc1.[I-]>>CC(C)C=CC(C)CC1C(C)C1C',\n",
       " 'CC(C)C=O.CC1CC2(C)CCC2C1[P+](c1ccccc1)(c1ccccc1)c1ccccc1.[Cl-]>>CC(C)C=C1C(C)CC2(C)CCC12',\n",
       " 'CC(C)C=O.CC1CC2(C)CCC2C1[P+](c1ccccc1)(c1ccccc1)c1ccccc1.[Br-]>>CC(C)C=C1C(C)CC2(C)CCC12',\n",
       " 'CC(C)C=O.CC1CC2(C)CCC2C1[P+](c1ccccc1)(c1ccccc1)c1ccccc1.[I-]>>CC(C)C=C1C(C)CC2(C)CCC12',\n",
       " 'CC(C)C=O.CC1C2CCC1C([P+](c1ccccc1)(c1ccccc1)c1ccccc1)CC2.[Cl-]>>CC(C)C=C1CCC2CCC1C2C',\n",
       " 'CC(C)C=O.CC1C2CCC1C([P+](c1ccccc1)(c1ccccc1)c1ccccc1)CC2.[Br-]>>CC(C)C=C1CCC2CCC1C2C',\n",
       " 'CC(C)C=O.CC1C2CCC1C([P+](c1ccccc1)(c1ccccc1)c1ccccc1)CC2.[I-]>>CC(C)C=C1CCC2CCC1C2C',\n",
       " 'CC(C)C=O.CCCC1CCC(C)C1[P+](c1ccccc1)(c1ccccc1)c1ccccc1.[Cl-]>>CCCC1CCC(C)C1=CC(C)C',\n",
       " 'CC(C)C=O.CCCC1CCC(C)C1[P+](c1ccccc1)(c1ccccc1)c1ccccc1.[Br-]>>CCCC1CCC(C)C1=CC(C)C',\n",
       " 'CC(C)C=O.CCCC1CCC(C)C1[P+](c1ccccc1)(c1ccccc1)c1ccccc1.[I-]>>CCCC1CCC(C)C1=CC(C)C',\n",
       " 'CC(C)C=O.CC1C2C(C[P+](c3ccccc3)(c3ccccc3)c3ccccc3)CCC12C.[Cl-]>>CC(C)C=CC1CCC2(C)C(C)C12',\n",
       " 'CC(C)C=O.CC1C2C(C[P+](c3ccccc3)(c3ccccc3)c3ccccc3)CCC12C.[Br-]>>CC(C)C=CC1CCC2(C)C(C)C12',\n",
       " 'CC(C)C=O.CC1C2C(C[P+](c3ccccc3)(c3ccccc3)c3ccccc3)CCC12C.[I-]>>CC(C)C=CC1CCC2(C)C(C)C12',\n",
       " 'CC(C)C=O.CC1C2CCC1C2(C)C[P+](c1ccccc1)(c1ccccc1)c1ccccc1.[Cl-]>>CC(C)C=CC1(C)C2CCC1C2C',\n",
       " 'CC(C)C=O.CC1C2CCC1C2(C)C[P+](c1ccccc1)(c1ccccc1)c1ccccc1.[Br-]>>CC(C)C=CC1(C)C2CCC1C2C',\n",
       " 'CC(C)C=O.CC1C2CCC1C2(C)C[P+](c1ccccc1)(c1ccccc1)c1ccccc1.[I-]>>CC(C)C=CC1(C)C2CCC1C2C',\n",
       " 'CC(C)C=O.CC1CC2CC2C1C(C)[P+](c1ccccc1)(c1ccccc1)c1ccccc1.[Cl-]>>CC(=CC(C)C)C1C(C)CC2CC21',\n",
       " 'CC(C)C=O.CC1CC2CC2C1C(C)[P+](c1ccccc1)(c1ccccc1)c1ccccc1.[Br-]>>CC(=CC(C)C)C1C(C)CC2CC21',\n",
       " 'CC(C)C=O.CC1CC2CC2C1C(C)[P+](c1ccccc1)(c1ccccc1)c1ccccc1.[I-]>>CC(=CC(C)C)C1C(C)CC2CC21',\n",
       " 'CC(C)C=O.O>>CC(C)C(O)O',\n",
       " 'CC(C)C=O.[C-]#N>C#N>CC(C)C(O)C#N',\n",
       " 'CC(C)C=O.CC12CCC(CN)C1CC2>Cl>CC(C)C=NCC1CCC2(C)CCC12',\n",
       " 'CC(C)C=O.CC(CCN)C1CC1>Cl>CC(C)C=NCCC(C)C1CC1',\n",
       " 'CC(C)C=O.CC(CCCN)C1CCC1>Cl>CC(C)C=NCCCC(C)C1CCC1',\n",
       " 'CC(C)C=O.CC1CCC(CN)CC1C>Cl>CC(C)C=NCC1CCC(C)C(C)C1',\n",
       " 'CC(C)C=O.CCC(CC)C1CC1CN>Cl>CCC(CC)C1CC1CN=CC(C)C',\n",
       " 'CC(C)C=O.CC12CC1CC1C(CN)C12>Cl>CC(C)C=NCC1C2CC3CC3(C)C12',\n",
       " 'CC(C)C=O.CC1CCCC1CN>Cl>CC(C)C=NCC1CCCC1C',\n",
       " 'CC(C)C=O.CCC(C)CCCCN>Cl>CCC(C)CCCCN=CC(C)C',\n",
       " 'CC(C)C=O.CC1(C)CC2C(CN)C2C1>Cl>CC(C)C=NCC1C2CC(C)(C)CC12',\n",
       " 'CC(C)C=O.CC1CC2CC1(CCN)C2>Cl>CC(C)C=NCCC12CC(CC1C)C2',\n",
       " 'CC(C)C=O.NO>Cl>CC(C)C=NO',\n",
       " 'CC(C)C=O.NN>Cl>CC(C)C=NN',\n",
       " 'CC(C)C=O.NNc1ccccc1>Cl>CC(C)C=NNc1ccccc1',\n",
       " 'CC(C)C=O.NNC(N)=O>Cl>CC(C)C=NNC(N)=O',\n",
       " 'CC(C)C=O.CO.CO>Cl>COC(OC)C(C)C',\n",
       " 'CC(C)C=O.CCO.CCO>Cl>CCOC(OCC)C(C)C',\n",
       " 'CC(C)C=O.CCCO.CCCO>Cl>CCCOC(OCCC)C(C)C',\n",
       " 'CC(C)C=O.CCCCO.CCCCO>Cl>CCCCOC(OCCCC)C(C)C',\n",
       " 'CC(C)C=O.OCCO>Cl>CC(C)C1OCCO1',\n",
       " 'CCC(C)=O.[Li]C>>CCC(C)(C)O',\n",
       " 'CCC(C)=O.[Li]CC>>CCC(C)(O)CC',\n",
       " 'CCC(C)=O.[Li]CCC>>CCCC(C)(O)CC',\n",
       " 'CCC(C)=O.[Li]CCCC>>CCCCC(C)(O)CC',\n",
       " 'CCC(C)=O.[Li]c1ccccc1>>CCC(C)(O)c1ccccc1',\n",
       " 'CCC(C)=O.C[Mg+].[Br-]>>CCC(C)(C)O',\n",
       " 'CCC(C)=O.CC[Mg+].[Br-]>>CCC(C)(O)CC',\n",
       " 'CCC(C)=O.CCC[Mg+].[Br-]>>CCCC(C)(O)CC',\n",
       " 'CCC(C)=O.CCCC[Mg+].[Br-]>>CCCCC(C)(O)CC',\n",
       " 'CCC(C)=O.[Br-].[Mg+]c1ccccc1>>CCC(C)(O)c1ccccc1',\n",
       " 'CCC(C)=O>[Al+3].[H-].[H-].[H-].[H-].[Li+]>CCC(C)O',\n",
       " 'CCC(C)=O>[BH4-].[Na+]>CCC(C)O',\n",
       " 'CCC(C)=O>[H].[H]>CCC(C)O',\n",
       " 'CCC(C)=O>Cl.[Hg].[Zn]>CCCC',\n",
       " 'CCC(C)=O>NN.[K+].[OH-]>CCCC',\n",
       " 'CCC(C)=O.[Cl-].c1ccc([P+](CC23CC4CC2CC4C3)(c2ccccc2)c2ccccc2)cc1>>CCC(C)=CC12CC3CC1CC3C2',\n",
       " 'CCC(C)=O.[Br-].c1ccc([P+](CC23CC4CC2CC4C3)(c2ccccc2)c2ccccc2)cc1>>CCC(C)=CC12CC3CC1CC3C2',\n",
       " 'CCC(C)=O.[I-].c1ccc([P+](CC23CC4CC2CC4C3)(c2ccccc2)c2ccccc2)cc1>>CCC(C)=CC12CC3CC1CC3C2',\n",
       " 'CCC(C)=O.CCC1(CC)CC1CC[P+](c1ccccc1)(c1ccccc1)c1ccccc1.[Cl-]>>CCC(C)=CCC1CC1(CC)CC',\n",
       " 'CCC(C)=O.CCC1(CC)CC1CC[P+](c1ccccc1)(c1ccccc1)c1ccccc1.[Br-]>>CCC(C)=CCC1CC1(CC)CC',\n",
       " 'CCC(C)=O.CCC1(CC)CC1CC[P+](c1ccccc1)(c1ccccc1)c1ccccc1.[I-]>>CCC(C)=CCC1CC1(CC)CC',\n",
       " 'CCC(C)=O.CC(C)(C)CC(C1CC1)[P+](c1ccccc1)(c1ccccc1)c1ccccc1.[Cl-]>>CCC(C)=C(CC(C)(C)C)C1CC1',\n",
       " 'CCC(C)=O.CC(C)(C)CC(C1CC1)[P+](c1ccccc1)(c1ccccc1)c1ccccc1.[Br-]>>CCC(C)=C(CC(C)(C)C)C1CC1',\n",
       " 'CCC(C)=O.CC(C)(C)CC(C1CC1)[P+](c1ccccc1)(c1ccccc1)c1ccccc1.[I-]>>CCC(C)=C(CC(C)(C)C)C1CC1',\n",
       " 'CCC(C)=O.CCCC1CCC([P+](c2ccccc2)(c2ccccc2)c2ccccc2)CC1.[Cl-]>>CCCC1CCC(CC1)=C(C)CC',\n",
       " 'CCC(C)=O.CCCC1CCC([P+](c2ccccc2)(c2ccccc2)c2ccccc2)CC1.[Br-]>>CCCC1CCC(CC1)=C(C)CC',\n",
       " 'CCC(C)=O.CCCC1CCC([P+](c2ccccc2)(c2ccccc2)c2ccccc2)CC1.[I-]>>CCCC1CCC(CC1)=C(C)CC',\n",
       " 'CCC(C)=O.[Cl-].c1ccc([P+](c2ccccc2)(c2ccccc2)C2C3C4CC3C3C(C4)C32)cc1>>CCC(C)=C1C2C3CC2C2C(C3)C12',\n",
       " 'CCC(C)=O.[Br-].c1ccc([P+](c2ccccc2)(c2ccccc2)C2C3C4CC3C3C(C4)C32)cc1>>CCC(C)=C1C2C3CC2C2C(C3)C12',\n",
       " 'CCC(C)=O.[I-].c1ccc([P+](c2ccccc2)(c2ccccc2)C2C3C4CC3C3C(C4)C32)cc1>>CCC(C)=C1C2C3CC2C2C(C3)C12',\n",
       " 'CCC(C)=O.CC1CCC2(CCC2[P+](c2ccccc2)(c2ccccc2)c2ccccc2)C1.[Cl-]>>CCC(C)=C1CCC12CCC(C)C2',\n",
       " 'CCC(C)=O.CC1CCC2(CCC2[P+](c2ccccc2)(c2ccccc2)c2ccccc2)C1.[Br-]>>CCC(C)=C1CCC12CCC(C)C2',\n",
       " 'CCC(C)=O.CC1CCC2(CCC2[P+](c2ccccc2)(c2ccccc2)c2ccccc2)C1.[I-]>>CCC(C)=C1CCC12CCC(C)C2',\n",
       " 'CCC(C)=O.CC1C2CCC1(C)C2[P+](c1ccccc1)(c1ccccc1)c1ccccc1.[Cl-]>>CCC(C)=C1C2CCC1(C)C2C']"
      ]
     },
     "execution_count": 51,
     "metadata": {},
     "output_type": "execute_result"
    }
   ],
   "source": [
    "rxns[1:100]"
   ]
  },
  {
   "cell_type": "code",
   "execution_count": null,
   "metadata": {
    "collapsed": true
   },
   "outputs": [],
   "source": []
  }
 ],
 "metadata": {
  "kernelspec": {
   "display_name": "Python 2",
   "language": "python",
   "name": "python2"
  },
  "language_info": {
   "codemirror_mode": {
    "name": "ipython",
    "version": 2
   },
   "file_extension": ".py",
   "mimetype": "text/x-python",
   "name": "python",
   "nbconvert_exporter": "python",
   "pygments_lexer": "ipython2",
   "version": "2.7.12"
  }
 },
 "nbformat": 4,
 "nbformat_minor": 1
}
