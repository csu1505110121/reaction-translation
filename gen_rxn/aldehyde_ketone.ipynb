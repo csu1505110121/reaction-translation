{
 "cells": [
  {
   "cell_type": "code",
   "execution_count": 1,
   "metadata": {
    "collapsed": true
   },
   "outputs": [],
   "source": [
    "from __future__ import print_function\n",
    "\n",
    "from rdkit import Chem\n",
    "from rdkit.Chem import AllChem\n",
    "\n",
    "import gzip, cPickle\n",
    "import copy\n",
    "import progressbar\n",
    "import random"
   ]
  },
  {
   "cell_type": "code",
   "execution_count": 2,
   "metadata": {
    "collapsed": false
   },
   "outputs": [],
   "source": [
    "## Aldehyde & Ketone\n",
    "\n",
    "METAL = AllChem.ReactionFromSmarts('[C:1]=[O:2].[C,c:3][Mg+,Li:4]>>[*:3][C:1][O:2]')\n",
    "\n",
    "RED = AllChem.ReactionFromSmarts('[C:1]=[O:2]>>[C:1][O:2]')\n",
    "RRED = AllChem.ReactionFromSmarts('[C:1]=[O:2]>>[C:1]') # Clemmensen and Wolff-Kishner\n",
    "\n",
    "WITTIG = AllChem.ReactionFromSmarts('[C:1]=[O:2].[C:3][P+:4]>>[C:1]=[C:3]')\n",
    "_YLIDE = AllChem.ReactionFromSmarts('[C:1]=[O:2]>>[C:1][P+](c1ccccc1)(c1ccccc1)(c1ccccc1)')\n",
    "\n",
    "HYD = AllChem.ReactionFromSmarts('[C:1]=[O:2].[O:3]>>[C:1]([O:2])[O:3]')\n",
    "CYAN = AllChem.ReactionFromSmarts('[C:1]=[O:2].[C-:3]#[N:4]>>[C:1]([O:2])[C-0:3]#[N:4]')\n",
    "IMINE = AllChem.ReactionFromSmarts('[C:1]=[O:2].[NH2:3]>>[C:1]=[N:3]')\n",
    "OXIME = AllChem.ReactionFromSmarts('[C:1]=[O:2].[NH2:3][O:4]>>[C:1]=[N:3][O:4]')\n",
    "HYDRAZONE = AllChem.ReactionFromSmarts('[C:1]=[O:2].[NH2:3][N:4]>>[C:1]=[N:3][N:4]')\n",
    "\n",
    "ACETAL = AllChem.ReactionFromSmarts('[C:1]=[O:2].[O:3]>>[C:1]([O:3])[O:3]')\n",
    "ACETAL_ALT = AllChem.ReactionFromSmarts('[C:1]=[O:2].([O:3].[O:4])>>[C:1]([O:3])[O:4]')\n",
    "\n",
    "OXI = AllChem.ReactionFromSmarts('[C:1](=[O:2])[H]>>[C:1](=[O:2])O')\n",
    "\n",
    "carbonyl_reactions_list = [\n",
    "    \n",
    "    ('METAL', METAL, ['[Li]C', '[Li]CC', '[Li]CCC', '[Li]CCCC', '[Li]c1ccccc1', \\\n",
    "                '[Br-].[Mg+]C', '[Br-].[Mg+]CC', '[Br-].[Mg+]CCC', '[Br-].[Mg+]CCCC', '[Br-].[Mg+]c1ccccc1'], ['']),\n",
    "    \n",
    "    ('RED', RED, [''], ['[H-].[H-].[H-].[H-].[Al+3].[Li+]', '[Na+].[BH4-]', '[H].[H]']),\n",
    "    ('RRED', RRED, [''], ['[Hg].[Zn].Cl', 'NN.[K+].[OH-]']),\n",
    "    \n",
    "    ('WITTIG', WITTIG, [''], ['']),\n",
    "    \n",
    "    ('HYD', HYD, ['O'], ['']),\n",
    "    ('CYAN', CYAN, ['[C-]#N'], ['C#N']),\n",
    "    ('IMINE', IMINE, [''], ['Cl']),\n",
    "    ('OXIME', OXIME, ['NO'], ['Cl']),\n",
    "    ('HYDRAZONE', HYDRAZONE, ['NN', 'NNc1ccccc1', 'NNC(N)=O'], ['Cl']),\n",
    "    \n",
    "    ('ACETAL', ACETAL, ['CO.CO', 'CCO.CCO', 'CCCO.CCCO', 'CCCCO.CCCCO'], ['Cl']),\n",
    "    ('ACETAL_ALT', ACETAL_ALT, ['OCCO'], ['Cl']),\n",
    "    \n",
    "    ('OXI', OXI, [''], ['[O-][Cr](=O)(=O)O[Cr](=O)(=O)[O-].[Na+].[Na+].OS(O)(=O)=O', \\\n",
    "                             '[O-][Cr](=O)(=O)O[Cr](=O)(=O)[O-].[K+].[K+].OS(O)(=O)=O', \\\n",
    "                             '[K+].[O-][Mn](=O)(=O)=O']),\n",
    "    \n",
    "]"
   ]
  },
  {
   "cell_type": "code",
   "execution_count": 3,
   "metadata": {
    "collapsed": true
   },
   "outputs": [],
   "source": [
    "def cano(smiles): # canonicalize smiles by MolToSmiles function\n",
    "    return Chem.MolToSmiles(Chem.MolFromSmiles(smiles))\n",
    "\n",
    "def block(ch, smiles):\n",
    "    return (ch + cano(smiles)) if (smiles != '') else ''"
   ]
  },
  {
   "cell_type": "code",
   "execution_count": 4,
   "metadata": {
    "collapsed": false
   },
   "outputs": [
    {
     "name": "stdout",
     "output_type": "stream",
     "text": [
      "3398\n"
     ]
    }
   ],
   "source": [
    "with gzip.open('data/subst/ald_ket.pkl.gz', 'rb') as f:\n",
    "    ald_ket_list = cPickle.load(f)\n",
    "    \n",
    "with gzip.open('data/subst/amine_1.pkl.gz', 'rb') as f:\n",
    "    amine_1_list = cPickle.load(f)\n",
    "\n",
    "length = len(ald_ket_list)\n",
    "print(length)"
   ]
  },
  {
   "cell_type": "code",
   "execution_count": 5,
   "metadata": {
    "collapsed": false
   },
   "outputs": [
    {
     "name": "stderr",
     "output_type": "stream",
     "text": [
      "100% (3398 of 3398) |######################| Elapsed Time: 0:01:43 Time: 0:01:43\n"
     ]
    }
   ],
   "source": [
    "rxns = []\n",
    "\n",
    "bar = progressbar.ProgressBar(max_value=length)\n",
    "\n",
    "for i, carbonyl_smi in enumerate(ald_ket_list):\n",
    "    carbonyl = Chem.MolFromSmiles(carbonyl_smi)\n",
    "    \n",
    "    for reaction in carbonyl_reactions_list:\n",
    "        if reaction[0] == 'IMINE':\n",
    "            reagent_list = random.sample(amine_1_list,10)\n",
    "        elif reaction[0] == 'WITTIG':\n",
    "            ylide_smi = random.sample(ald_ket_list,10)\n",
    "            ylide_mol = [Chem.MolFromSmiles(smi) for smi in ylide_smi]\n",
    "            reagent_list = [Chem.MolToSmiles(_YLIDE.RunReactants((mol,))[0][0]) for mol in ylide_mol]\n",
    "        else: reagent_list = reaction[2]\n",
    "            \n",
    "        for reagent in reagent_list:\n",
    "            if reagent == '': products = reaction[1].RunReactants((carbonyl,))\n",
    "            else: products = reaction[1].RunReactants((carbonyl, Chem.MolFromSmiles(reagent)))\n",
    "            if len(products) == 0: continue\n",
    "            product_smi = [Chem.MolToSmiles(product) for product in products[0]]\n",
    "            if reaction[0] == 'WITTIG':\n",
    "                for halogen in ['[Cl-]', '[Br-]', '[I-]']:\n",
    "                    reagent_m = reagent + '.' + halogen\n",
    "                    rxns.append(cano(carbonyl_smi) + block('.', reagent_m) + '>>' + '.'.join(product_smi))\n",
    "            else:\n",
    "                for sub_reagent in reaction[3]:\n",
    "                    rxns.append(cano(carbonyl_smi) + block('.', reagent) + '>' + cano(sub_reagent) + '>' + '.'.join(product_smi))\n",
    "                    \n",
    "    bar.update(i)\n",
    "    \n",
    "bar.finish()"
   ]
  },
  {
   "cell_type": "code",
   "execution_count": 6,
   "metadata": {
    "collapsed": false
   },
   "outputs": [
    {
     "name": "stdout",
     "output_type": "stream",
     "text": [
      "224268\n"
     ]
    }
   ],
   "source": [
    "print(len(rxns))"
   ]
  },
  {
   "cell_type": "code",
   "execution_count": 7,
   "metadata": {
    "collapsed": true
   },
   "outputs": [],
   "source": [
    "with gzip.open('data/rxns/ald_ket.pkl.gz', 'wb') as f:\n",
    "    cPickle.dump(rxns, f, 2)"
   ]
  },
  {
   "cell_type": "code",
   "execution_count": null,
   "metadata": {
    "collapsed": true
   },
   "outputs": [],
   "source": []
  }
 ],
 "metadata": {
  "kernelspec": {
   "display_name": "Python 2",
   "language": "python",
   "name": "python2"
  },
  "language_info": {
   "codemirror_mode": {
    "name": "ipython",
    "version": 2
   },
   "file_extension": ".py",
   "mimetype": "text/x-python",
   "name": "python",
   "nbconvert_exporter": "python",
   "pygments_lexer": "ipython2",
   "version": "2.7.12"
  }
 },
 "nbformat": 4,
 "nbformat_minor": 1
}
