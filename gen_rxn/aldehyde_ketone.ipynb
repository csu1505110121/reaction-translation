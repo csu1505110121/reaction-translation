{
 "cells": [
  {
   "cell_type": "code",
   "execution_count": 1,
   "metadata": {
    "collapsed": true
   },
   "outputs": [],
   "source": [
    "from __future__ import print_function\n",
    "\n",
    "from rdkit import Chem\n",
    "from rdkit.Chem import AllChem"
   ]
  },
  {
   "cell_type": "code",
   "execution_count": 20,
   "metadata": {
    "collapsed": false
   },
   "outputs": [],
   "source": [
    "## Aldehyde & Ketone\n",
    "\n",
    "METAL = AllChem.ReactionFromSmarts('[C:1]=[O:2].[C,c:3][Mg+,Li:4]>>[*:3][C:1][O:2]')\n",
    "\n",
    "RED = AllChem.ReactionFromSmarts('[C:1]=[O:2]>>[C:1][O:2]')\n",
    "RRED = AllChem.ReactionFromSmarts('[C:1]=[O:2]>>[C:1]') # Clemmensen and Wolff-Kishner\n",
    "\n",
    "WITTIG = AllChem.ReactionFromSmarts('[C:1]=[O:2].[C:3][P+:4]>>[C:1]=[C:3]')\n",
    "_YLIDE = AllChem.ReactionFromSmarts('[C:1]=[O:2]>>[C:1][P+](c1ccccc1)(c1ccccc1)(c1ccccc1)')\n",
    "\n",
    "HYD = AllChem.ReactionFromSmarts('[C:1]=[O:2].[O:3]>>[C:1]([O:2])[O:3]')\n",
    "CYAN = AllChem.ReactionFromSmarts('[C:1]=[O:2].[C-:3]#[N:4]>>[C:1]([O:2])[C-0:3]#[N:4]')\n",
    "IMINE = AllChem.ReactionFromSmarts('[C:1]=[O:2].[NH,NH2:3]>>[C:1]=[N:3]')\n",
    "OXIME = AllChem.ReactionFromSmarts('[C:1]=[O:2].[NH2:3][O:4]>>[C:1]=[N:3][O:4]')\n",
    "HYDRAZONE = AllChem.ReactionFromSmarts('[C:1]=[O:2].[NH2:3][N:4]>>[C:1]=[N:3][N:4]')\n",
    "\n",
    "ACETAL = AllChem.ReactionFromSmarts('[C:1]=[O:2].[O:3]>>[C:1]([O:3])[O:3]')\n",
    "ACETAL_ALT = AllChem.ReactionFromSmarts('[C:1]=[O:2].([O:3].[O:4])>>[C:1]([O:3])[O:4]')\n",
    "\n",
    "\n",
    "OXI = AllChem.ReactionFromSmarts('[C:1](=[O:2])[H]>>[C:1](=[O:2])O')\n",
    "\n",
    "carbonyl_reactions_list = [\n",
    "    \n",
    "    ('METAL', METAL, ['[Li]C', '[Li]CC', '[Li]CCC', '[Li]CCCC', '[Li]c1ccccc1', \\\n",
    "                '[Br-].[Mg+]C', '[Br-].[Mg+]CC', '[Br-].[Mg+]CCC', '[Br-].[Mg+]CCCC', '[Br-].[Mg+]c1ccccc1'], ['']),\n",
    "    \n",
    "    ('RED', RED, [''], ['[H-].[H-].[H-].[H-].[Al+3].[Li+]', '[Na+].[BH4-]', '[H].[H]']),\n",
    "    ('RRED', RRED, [''], ['[Hg].[Zn].Cl', 'NN.[K+].[OH-]']),\n",
    "    \n",
    "    ('WITTIG', WITTIG, [''], ['']),\n",
    "    \n",
    "    ('HYD', HYD, ['O'], ['']),\n",
    "    ('CYAN', CYAN, ['[C-]#N'], ['C#N']),\n",
    "    ('IMINE', IMINE, [''], ['Cl']),\n",
    "    ('OXIME', OXIME, ['NO'], ['Cl']),\n",
    "    ('HYDRAZONE', HYDRAZONE, ['NN', 'NNc1ccccc1', 'NNC(N)=O'], ['Cl']),\n",
    "    \n",
    "    ('ACETAL', ACETAL, ['CO.CO', 'CCO.CCO', 'CCCO.CCCO', 'CCCCO.CCCCO'], ['Cl']),\n",
    "    ('ACETAL_ALT', ACETAL_ALT, ['OCCO'], ['Cl']),\n",
    "    \n",
    "    ('OXI', OXI, [''], ['[O-][Cr](=O)(=O)O[Cr](=O)(=O)[O-].[Na+].[Na+].OS(O)(=O)=O', \\\n",
    "                             '[O-][Cr](=O)(=O)O[Cr](=O)(=O)[O-].[K+].[K+].OS(O)(=O)=O', \\\n",
    "                             '[K+].[O-][Mn](=O)(=O)=O']),\n",
    "    \n",
    "]"
   ]
  },
  {
   "cell_type": "code",
   "execution_count": 22,
   "metadata": {
    "collapsed": false
   },
   "outputs": [
    {
     "name": "stdout",
     "output_type": "stream",
     "text": [
      "METAL\n",
      "CCC(C)CCC(C)=O.[Li]C>>CCC(C)CCC(C)(C)O\n",
      "CCC(C)CCC(C)=O.[Li]CC>>CCC(C)CCC(C)(O)CC\n",
      "CCC(C)CCC(C)=O.[Li]CCC>>CCCC(C)(O)CCC(C)CC\n",
      "CCC(C)CCC(C)=O.[Li]CCCC>>CCCCC(C)(O)CCC(C)CC\n",
      "CCC(C)CCC(C)=O.[Li]c1ccccc1>>CCC(C)CCC(C)(O)c1ccccc1\n",
      "CCC(C)CCC(C)=O.C[Mg+].[Br-]>>CCC(C)CCC(C)(C)O\n",
      "CCC(C)CCC(C)=O.CC[Mg+].[Br-]>>CCC(C)CCC(C)(O)CC\n",
      "CCC(C)CCC(C)=O.CCC[Mg+].[Br-]>>CCCC(C)(O)CCC(C)CC\n",
      "CCC(C)CCC(C)=O.CCCC[Mg+].[Br-]>>CCCCC(C)(O)CCC(C)CC\n",
      "CCC(C)CCC(C)=O.[Br-].[Mg+]c1ccccc1>>CCC(C)CCC(C)(O)c1ccccc1\n",
      "RED\n",
      "CCC(C)CCC(C)=O>[Al+3].[H-].[H-].[H-].[H-].[Li+]>CCC(C)CCC(C)O\n",
      "CCC(C)CCC(C)=O>[BH4-].[Na+]>CCC(C)CCC(C)O\n",
      "CCC(C)CCC(C)=O>[H].[H]>CCC(C)CCC(C)O\n",
      "RRED\n",
      "CCC(C)CCC(C)=O>Cl.[Hg].[Zn]>CCCCC(C)CC\n",
      "CCC(C)CCC(C)=O>NN.[K+].[OH-]>CCCCC(C)CC\n",
      "WITTIG\n",
      "CCC(C)CCC(C)=O.CC(C)[P+](c1ccccc1)(c1ccccc1)c1ccccc1.[Cl-]>NN.[K+].[OH-]>CCC(C)CCC(C)=C(C)C\n",
      "CCC(C)CCC(C)=O.CC(C)[P+](c1ccccc1)(c1ccccc1)c1ccccc1.[Br-].[Cl-]>NN.[K+].[OH-]>CCC(C)CCC(C)=C(C)C\n",
      "CCC(C)CCC(C)=O.CC(C)[P+](c1ccccc1)(c1ccccc1)c1ccccc1.[Br-].[Cl-].[I-]>NN.[K+].[OH-]>CCC(C)CCC(C)=C(C)C\n",
      "HYD\n",
      "CCC(C)CCC(C)=O.O>>CCC(C)CCC(C)(O)O\n",
      "CYAN\n",
      "CCC(C)CCC(C)=O.[C-]#N>C#N>CCC(C)CCC(C)(O)C#N\n",
      "IMINE\n",
      "CCC(C)CCC(C)=O.CCCCN>Cl>CCCCN=C(C)CCC(C)CC\n",
      "OXIME\n",
      "CCC(C)CCC(C)=O.NO>Cl>CCC(C)CCC(C)=NO\n",
      "HYDRAZONE\n",
      "CCC(C)CCC(C)=O.NN>Cl>CCC(C)CCC(C)=NN\n",
      "CCC(C)CCC(C)=O.NNc1ccccc1>Cl>CCC(C)CCC(C)=NNc1ccccc1\n",
      "CCC(C)CCC(C)=O.NNC(N)=O>Cl>CCC(C)CCC(C)=NNC(N)=O\n",
      "ACETAL\n",
      "CCC(C)CCC(C)=O.CO.CO>Cl>CCC(C)CCC(C)(OC)OC\n",
      "CCC(C)CCC(C)=O.CCO.CCO>Cl>CCOC(C)(CCC(C)CC)OCC\n",
      "CCC(C)CCC(C)=O.CCCO.CCCO>Cl>CCCOC(C)(CCC(C)CC)OCCC\n",
      "CCC(C)CCC(C)=O.CCCCO.CCCCO>Cl>CCCCOC(C)(CCC(C)CC)OCCCC\n",
      "ACETAL_ALT\n",
      "CCC(C)CCC(C)=O.OCCO>Cl>CCC(C)CCC1(C)OCCO1\n",
      "OXI\n"
     ]
    }
   ],
   "source": [
    "import random, copy\n",
    "\n",
    "def cano(smiles): # canonicalize smiles by MolToSmiles function\n",
    "    return Chem.MolToSmiles(Chem.MolFromSmiles(smiles))\n",
    "\n",
    "def block(ch, smiles):\n",
    "    return (ch + cano(smiles)) if (smiles != '') else cano(smiles)\n",
    "\n",
    "# choose carbonyl compound (tmp)\n",
    "carbonyl_smi = 'CCC(C)CCC(C)=O'\n",
    "carbonyl = Chem.MolFromSmiles(carbonyl_smi)\n",
    "\n",
    "# choose another carbonyl compound for Wittig (tmp)\n",
    "ylide_smi = 'CC(C)=O'\n",
    "ylide_mol = Chem.MolFromSmiles(ylide_smi)\n",
    "ylide_product = _YLIDE.RunReactants((ylide_mol,))\n",
    "ylide = Chem.MolToSmiles(ylide_product[0][0])\n",
    "\n",
    "# choose amine for imine formation (tmp)\n",
    "amine_smi = 'NCCCC'\n",
    "\n",
    "# general reactions\n",
    "for reaction in carbonyl_reactions_list:\n",
    "    print(reaction[0])\n",
    "    for reagent in reaction[2]:\n",
    "        if reaction[0] == 'IMINE':\n",
    "            reagent = amine_smi\n",
    "        if reaction[0] == 'WITTIG':\n",
    "            reagent = ylide\n",
    "        if reagent == '': products = reaction[1].RunReactants((carbonyl,))\n",
    "        else: products = reaction[1].RunReactants((carbonyl, Chem.MolFromSmiles(reagent)))\n",
    "        if len(products) == 0: continue\n",
    "        product_smi = [Chem.MolToSmiles(product) for product in products[0]]\n",
    "        if reaction[0] == 'WITTIG':\n",
    "            for halogen in ['[Cl-]', '[Br-]', '[I-]']:\n",
    "                reagent = reagent + '.' + halogen\n",
    "                print(cano(carbonyl_smi) + block('.', reagent) + '>' + cano(sub_reagent) + '>' + '.'.join(product_smi))\n",
    "        else:\n",
    "            for sub_reagent in reaction[3]:\n",
    "                print(cano(carbonyl_smi) + block('.', reagent) + '>' + cano(sub_reagent) + '>' + '.'.join(product_smi))"
   ]
  },
  {
   "cell_type": "code",
   "execution_count": null,
   "metadata": {
    "collapsed": true
   },
   "outputs": [],
   "source": []
  }
 ],
 "metadata": {
  "kernelspec": {
   "display_name": "Python 2",
   "language": "python",
   "name": "python2"
  },
  "language_info": {
   "codemirror_mode": {
    "name": "ipython",
    "version": 2
   },
   "file_extension": ".py",
   "mimetype": "text/x-python",
   "name": "python",
   "nbconvert_exporter": "python",
   "pygments_lexer": "ipython2",
   "version": "2.7.12"
  }
 },
 "nbformat": 4,
 "nbformat_minor": 1
}
