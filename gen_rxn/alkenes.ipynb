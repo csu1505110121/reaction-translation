{
 "cells": [
  {
   "cell_type": "code",
   "execution_count": 22,
   "metadata": {
    "collapsed": true
   },
   "outputs": [],
   "source": [
    "from __future__ import print_function\n",
    "\n",
    "from rdkit import Chem\n",
    "from rdkit.Chem import AllChem\n",
    "\n",
    "import gzip, cPickle\n",
    "import copy\n",
    "import progressbar"
   ]
  },
  {
   "cell_type": "code",
   "execution_count": 14,
   "metadata": {
    "collapsed": false
   },
   "outputs": [],
   "source": [
    "## Alkenes\n",
    "# M = markovnikov, N = anti-markovnikov\n",
    "# Requires [Si] marker for M/N or carbene reactions\n",
    "\n",
    "HX_M = AllChem.ReactionFromSmarts('[Si:1]=[C:2].[Cl,Br,I:3]>>[C:1]([*:3])[C:2]')\n",
    "HX_N = AllChem.ReactionFromSmarts('[Si:1]=[C:2].[Br:3]>>[C:2]([Br:3])[C:1]')\n",
    "\n",
    "HOH_M = AllChem.ReactionFromSmarts('[Si:1]=[C:2].[OH2:3]>>[C:1]([O:3])[C:2]')\n",
    "HOH_N = AllChem.ReactionFromSmarts('[Si:1]=[C:2].[OH2:3]>>[C:2]([O:3])[C:1]')\n",
    "\n",
    "ROH_M = AllChem.ReactionFromSmarts('[Si:1]=[C:2].[C:4][O:3]>>[C:1]([O:3][C:4])[C:2]')\n",
    "ROH_N = AllChem.ReactionFromSmarts('[Si:1]=[C:2].[C:4][O:3]>>[C:2]([O:3][C:4])[C:1]')\n",
    "\n",
    "BH3 = AllChem.ReactionFromSmarts('[Si:1]=[C:2].[B:3]>>[C:2]([B:3])[C:1]')\n",
    "\n",
    "RED = AllChem.ReactionFromSmarts('[C:1]=[C:2].[H][H]>>[C:1][C:2]')\n",
    "\n",
    "CARB_BROMO = AllChem.ReactionFromSmarts('[C:1]=[C:2].Br[C:3](Br)Br>>[C:1]1[C:3](Br)(Br)[C:2]1')\n",
    "\n",
    "X2_H2O = AllChem.ReactionFromSmarts('[Si:1]=[C:2].[Cl,Br,I:3][Cl,Br,I:4]>>[C:1](O)[C:2]([*:3])')\n",
    "X2 = AllChem.ReactionFromSmarts('[C:1]=[C:2].[Cl,Br,I:3][Cl,Br,I:4]>>[C:1]([*:3])[C:2]([*:4])')\n",
    "\n",
    "EPOXI = AllChem.ReactionFromSmarts('[C:1]=[C:2]>>[C:1]1O[C:2]1')\n",
    "\n",
    "OX = AllChem.ReactionFromSmarts('[C:1]=[C:2]>>[C:1](O)[C:2](O)')\n",
    "\n",
    "OZONE_OX = AllChem.ReactionFromSmarts('[C:1]=[C:2].O~O~O>>[C:1](=O).[C:2](=O)')\n",
    "OZONE_RED = AllChem.ReactionFromSmarts('[C:1]=[C:2].O~O~O>>[C:1](=O).[C:2](=O)')\n",
    "\n",
    "OX_ALDEHYDE = AllChem.ReactionFromSmarts('[C!D3:1]=[O:2]>>[C:1](O)=[O:2]') \n",
    "\n",
    "POLY = AllChem.ReactionFromSmarts('[Si:1]=[C:2].[Si:3]=[C:4]>>[C:1]=[C:2][C:3][C:4]')\n",
    "\n",
    "\n",
    "alkene_MN_reactions_list = [\n",
    "    \n",
    "    ('HX_M', HX_M, ['Cl','Br','I'], ['']),\n",
    "    ('HX_N', HX_N, ['Br'], ['CCOOCC', 'CC(=O)OOC(=O)C']),\n",
    "    \n",
    "    ('HOH_M', HOH_M, ['O'], ['OS(O)(=O)=O','[Hg+2].CC([O-])=O.CC([O-])=O.[Na+].[BH4-]']),\n",
    "    ('HOH_N', HOH_N, ['O'], ['B.C1CCOC1.OO.[Na+].[OH-]']),\n",
    "    \n",
    "    ('ROH_M', ROH_M, ['CO', 'CCO', 'CCCO'], ['[Hg+2].CC([O-])=O.[Na+].[BH4-]']),\n",
    "    ('ROH_N', ROH_N, ['CO', 'CCO', 'CCCO'], ['B.C1CCOC1.OO.[K+].[OH-]', 'B.C1CCOC1.OO.[Na+].[OH-]']),\n",
    "    \n",
    "    ('BH3', BH3, ['B'], ['C1CCOC1']),\n",
    "    \n",
    "    ('X2_H2O', X2_H2O, ['ClCl', 'BrBr', 'II'], ['O']),\n",
    "    ('POLY', POLY, ['OS(O)(=O)=O', 'Cl'], ['']),\n",
    "]\n",
    "\n",
    "alkene_reactions_list = [\n",
    "    \n",
    "    ('RED', RED, ['[H][H]'], ['[Pt]', '[Pd]', '[Ni]', '']),\n",
    "    \n",
    "    ('CARB_BROMO', CARB_BROMO, ['BrC(Br)Br'], ['[Na+].[OH-]']),\n",
    "    \n",
    "    ('X2', X2, ['ClCl','BrBr', 'II'], ['','ClCCl']),\n",
    "    \n",
    "    ('EPOXI', EPOXI, [''], ['CC(=O)OO', 'CCC(=O)OO', 'CCCC(=O)OO', 'OOC(=O)c1cccc(Cl)c1']),\n",
    "    ('OX', OX, [''], ['O=[Os](=O)(=O)=O', '[K+].[O-][Mn](=O)(=O)=O']),\n",
    "    ('OZONE_OX', OZONE_OX, ['O=[O+][O-]'], ['OO']),\n",
    "    ('OZONE_RED', OZONE_RED, ['O=[O+][O-]'], ['CSC', 'NC(=S)N', '[Zn].O']),\n",
    "]"
   ]
  },
  {
   "cell_type": "code",
   "execution_count": 26,
   "metadata": {
    "collapsed": false
   },
   "outputs": [],
   "source": [
    "def cano(smiles): # canonicalize smiles by MolToSmiles function\n",
    "    return Chem.MolToSmiles(Chem.MolFromSmiles(smiles))\n",
    "\n",
    "def block(ch, smiles):\n",
    "    return (ch + cano(smiles)) if (smiles != '') else ''"
   ]
  },
  {
   "cell_type": "code",
   "execution_count": 21,
   "metadata": {
    "collapsed": false
   },
   "outputs": [
    {
     "name": "stdout",
     "output_type": "stream",
     "text": [
      "7781\n"
     ]
    }
   ],
   "source": [
    "with gzip.open('data/subst/alkene.pkl.gz', 'rb') as f:\n",
    "    alkene_list = cPickle.load(f)\n",
    "\n",
    "length = len(alkene_list)\n",
    "print(length)"
   ]
  },
  {
   "cell_type": "code",
   "execution_count": 23,
   "metadata": {
    "collapsed": false
   },
   "outputs": [
    {
     "name": "stderr",
     "output_type": "stream",
     "text": [
      " 99% (7779 of 7781) |###################### | Elapsed Time: 0:01:30 ETA: 0:00:00"
     ]
    }
   ],
   "source": [
    "rxns = []\n",
    "\n",
    "bar = progressbar.ProgressBar(max_value=length)\n",
    "\n",
    "# choose alkene\n",
    "for i, alkene_smi in enumerate(alkene_list):\n",
    "    alkene = Chem.MolFromSmiles(alkene_smi)\n",
    "    alkene_MN = copy.deepcopy(alkene)\n",
    "\n",
    "    # mark [Si]\n",
    "    C_1, C_2 = alkene_MN.GetSubstructMatches(Chem.MolFromSmiles('C=C'))[0]\n",
    "    alkene_MN.GetAtomWithIdx((C_2 if (alkene_MN.GetAtomWithIdx(C_1).GetTotalNumHs() \\\n",
    "            > alkene_MN.GetAtomWithIdx(C_2).GetTotalNumHs()) else C_1)).SetAtomicNum(14);\n",
    "\n",
    "    # MN reactions\n",
    "    for reaction in alkene_MN_reactions_list:\n",
    "        for reagent in reaction[2]:\n",
    "            if reagent == '': products = reaction[1].RunReactants((alkene_MN,))\n",
    "            else: products = reaction[1].RunReactants((alkene_MN, Chem.MolFromSmiles(reagent)))\n",
    "            if reaction[0] == 'POLY':\n",
    "                products = reaction[1].RunReactants((alkene_MN, alkene_MN))\n",
    "            product_smi = [Chem.MolToSmiles(product) for product in products[0]]\n",
    "            for sub_reagent in reaction[3]:\n",
    "                rxns.append(cano(alkene_smi) + block('.', reagent) + '>' + cano(sub_reagent) + '>' + '.'.join(product_smi))\n",
    "\n",
    "    # general reactions\n",
    "    for reaction in alkene_reactions_list:\n",
    "        for reagent in reaction[2]:\n",
    "            if reagent == '': products = reaction[1].RunReactants((alkene,))\n",
    "            else: products = reaction[1].RunReactants((alkene, Chem.MolFromSmiles(reagent)))\n",
    "            if reaction[0] == 'OZONE_OX': \n",
    "                new_products = []\n",
    "                for product in products[0]:\n",
    "                    oxid_product = OX_ALDEHYDE.RunReactants((product,))\n",
    "                    new_products.append(oxid_product[0][0] if len(oxid_product) != 0 else product)\n",
    "                products =(new_products,)\n",
    "            product_smi = [Chem.MolToSmiles(product) for product in products[0]]\n",
    "            for sub_reagent in reaction[3]:\n",
    "                rxns.append(cano(alkene_smi) + block('.', reagent) + '>' + cano(sub_reagent) + '>' + '.'.join(product_smi))\n",
    "    \n",
    "    bar.update(i)"
   ]
  },
  {
   "cell_type": "code",
   "execution_count": 24,
   "metadata": {
    "collapsed": false
   },
   "outputs": [
    {
     "name": "stdout",
     "output_type": "stream",
     "text": [
      "342364\n"
     ]
    }
   ],
   "source": [
    "print(len(rxns))"
   ]
  },
  {
   "cell_type": "code",
   "execution_count": null,
   "metadata": {
    "collapsed": true
   },
   "outputs": [],
   "source": []
  }
 ],
 "metadata": {
  "kernelspec": {
   "display_name": "Python 2",
   "language": "python",
   "name": "python2"
  },
  "language_info": {
   "codemirror_mode": {
    "name": "ipython",
    "version": 2
   },
   "file_extension": ".py",
   "mimetype": "text/x-python",
   "name": "python",
   "nbconvert_exporter": "python",
   "pygments_lexer": "ipython2",
   "version": "2.7.12"
  }
 },
 "nbformat": 4,
 "nbformat_minor": 1
}
