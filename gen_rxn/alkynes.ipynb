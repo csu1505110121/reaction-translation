{
 "cells": [
  {
   "cell_type": "code",
   "execution_count": 1,
   "metadata": {
    "collapsed": true
   },
   "outputs": [],
   "source": [
    "from rdkit import Chem\n",
    "from rdkit.Chem import AllChem"
   ]
  },
  {
   "cell_type": "code",
   "execution_count": 13,
   "metadata": {
    "collapsed": true
   },
   "outputs": [],
   "source": [
    "## Alkynes\n",
    "# M = markovnikov, N = anti-markovnikov\n",
    "# Requires [Si] marker for M/N or carbene reactions\n",
    "\n",
    "# TODO: acetylide reactions\n",
    "\n",
    "RED = AllChem.ReactionFromSmarts('[C:1]#[C:2].[H][H]>>[C:1][C:2]')\n",
    "\n",
    "# stereochemistry not controlled by ['\\', '/']?\n",
    "RED_LIND = AllChem.ReactionFromSmarts('[C,H:1][C:2]#[C:3][C,H:4].[H][H]>>[R:1]\\[C:2]=[C:3]/[R:4]')\n",
    "RED_BIRCH = AllChem.ReactionFromSmarts('[C,H:1][C:2]#[C:3][C,H:4]>>[R:1]\\[C:2]=[C:3]\\[R:4]')\n",
    "\n",
    "X2 = AllChem.ReactionFromSmarts('[C:1]#[C:2].[Cl,Br:3][Cl,Br:4]>>[C:1]([X:3])([X:3])[C:2]([X:4])([X:4])')\n",
    "\n",
    "HX = AllChem.ReactionFromSmarts('[Si:1]#[C:2].[Cl,Br,I:3]>>[C:1]([X:3])([X:3])[C:2]')\n",
    "\n",
    "H2O = AllChem.ReactionFromSmarts('[Si:1]#[C:2][H:3].[O:4]>>[C:1](=[O:4])[C:2][H:3]')\n",
    "\n",
    "\n",
    "alkyne_MN_reactions_list = [\n",
    "    ('HX', HX, ['Cl', 'Br', 'I'], ['']),\n",
    "    ('H2O', H2O, ['O'], ['[Hg+2].[O-]S([O-])(=O)=O.OS(O)(=O)=O']),\n",
    "    \n",
    "]\n",
    "\n",
    "alkyne_reactions_list = [\n",
    "    \n",
    "    ('RED', RED, ['[H][H]'], ['[Pt]', '[Pd]', '[Ni]', '']),\n",
    "    ('RED_LIND', RED_LIND, ['[H][H]'], ['[Pd].[Ba+2].[O-]S([O-])(=O)=O']),\n",
    "    ('RED_BIRCH', RED_BIRCH, [''], ['[Na].N']),\n",
    "    \n",
    "    ('X2', X2, ['ClCl', 'BrBr'], ['', 'ClCCl']),\n",
    "]"
   ]
  },
  {
   "cell_type": "code",
   "execution_count": 15,
   "metadata": {
    "collapsed": false,
    "scrolled": true
   },
   "outputs": [
    {
     "name": "stdout",
     "output_type": "stream",
     "text": [
      "HX\n",
      "CCC#CC(C)C.Cl>>CCCC(Cl)(Cl)C(C)C\n",
      "CCC#CC(C)C.Br>>CCCC(Br)(Br)C(C)C\n",
      "CCC#CC(C)C.I>>CCCC(I)(I)C(C)C\n",
      "RED\n",
      "CCC#CC(C)C.[H][H]>[Pt]>CCCCC(C)C\n",
      "CCC#CC(C)C.[H][H]>[Pd]>CCCCC(C)C\n",
      "CCC#CC(C)C.[H][H]>[Ni]>CCCCC(C)C\n",
      "CCC#CC(C)C.[H][H]>>CCCCC(C)C\n",
      "RED_LIND\n",
      "CCC#CC(C)C.[H][H]>[Pd].[Ba+2].[O-]S([O-])(=O)=O>CCC=CC(C)C\n",
      "RED_BIRCH\n",
      "CCC#CC(C)C>[Na].N>CCC=CC(C)C\n",
      "X2\n",
      "CCC#CC(C)C.ClCl>>CCC(Cl)(Cl)C(Cl)(Cl)C(C)C\n",
      "CCC#CC(C)C.ClCl>ClCCl>CCC(Cl)(Cl)C(Cl)(Cl)C(C)C\n",
      "CCC#CC(C)C.BrBr>>CCC(Br)(Br)C(Br)(Br)C(C)C\n",
      "CCC#CC(C)C.BrBr>ClCCl>CCC(Br)(Br)C(Br)(Br)C(C)C\n"
     ]
    }
   ],
   "source": [
    "import random, copy\n",
    "\n",
    "def cano(smiles): # canonicalize smiles by MolToSmiles function\n",
    "    return Chem.MolToSmiles(Chem.MolFromSmiles(smiles))\n",
    "\n",
    "def block(ch, smiles):\n",
    "    return (ch + cano(smiles)) if (smiles != '') else cano(smiles)\n",
    "\n",
    "# choose alkyne\n",
    "alkyne_smi = 'CC(C)C#CCC'\n",
    "alkyne = Chem.MolFromSmiles(alkyne_smi)\n",
    "alkyne_MN = copy.deepcopy(alkyne)\n",
    "\n",
    "# mark [Si]\n",
    "C_1, C_2 = alkyne_MN.GetSubstructMatches(Chem.MolFromSmiles('C#C'))[0]\n",
    "alkyne_MN.GetAtomWithIdx((C_2 if (alkyne_MN.GetAtomWithIdx(C_1).GetTotalNumHs() \\\n",
    "        > alkyne_MN.GetAtomWithIdx(C_2).GetTotalNumHs()) else C_1)).SetAtomicNum(14);\n",
    "\n",
    "# MN reactions\n",
    "for reaction in alkyne_MN_reactions_list:\n",
    "    print reaction[0]\n",
    "    for reagent in reaction[2]:\n",
    "        if reagent == '': products = reaction[1].RunReactants((alkyne_MN,))\n",
    "        else: products = reaction[1].RunReactants((alkyne_MN, Chem.MolFromSmiles(reagent)))\n",
    "        product_smi = [Chem.MolToSmiles(product) for product in products[0]]\n",
    "        for sub_reagent in reaction[3]:\n",
    "            print cano(alkyne_smi) + block('.', reagent) + '>' + sub_reagent + '>' + '.'.join(product_smi)\n",
    "\n",
    "# general reactions\n",
    "for reaction in alkyne_reactions_list:\n",
    "    print reaction[0]\n",
    "    for reagent in reaction[2]:\n",
    "        if reagent == '': products = reaction[1].RunReactants((alkyne,))\n",
    "        else: products = reaction[1].RunReactants((alkyne, Chem.MolFromSmiles(reagent)))\n",
    "        product_smi = [Chem.MolToSmiles(product) for product in products[0]]\n",
    "        for sub_reagent in reaction[3]:\n",
    "            print cano(alkyne_smi) + block('.', reagent) + '>' + sub_reagent + '>' + '.'.join(product_smi)"
   ]
  },
  {
   "cell_type": "code",
   "execution_count": null,
   "metadata": {
    "collapsed": true
   },
   "outputs": [],
   "source": []
  }
 ],
 "metadata": {
  "kernelspec": {
   "display_name": "Python 2",
   "language": "python",
   "name": "python2"
  },
  "language_info": {
   "codemirror_mode": {
    "name": "ipython",
    "version": 2
   },
   "file_extension": ".py",
   "mimetype": "text/x-python",
   "name": "python",
   "nbconvert_exporter": "python",
   "pygments_lexer": "ipython2",
   "version": "2.7.12"
  }
 },
 "nbformat": 4,
 "nbformat_minor": 1
}
