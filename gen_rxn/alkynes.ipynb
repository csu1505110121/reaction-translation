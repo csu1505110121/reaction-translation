{
 "cells": [
  {
   "cell_type": "code",
   "execution_count": 20,
   "metadata": {
    "collapsed": true
   },
   "outputs": [],
   "source": [
    "from __future__ import print_function\n",
    "\n",
    "from rdkit import Chem\n",
    "from rdkit.Chem import AllChem\n",
    "\n",
    "import gzip, cPickle\n",
    "import copy\n",
    "import progressbar"
   ]
  },
  {
   "cell_type": "code",
   "execution_count": 21,
   "metadata": {
    "collapsed": false
   },
   "outputs": [],
   "source": [
    "## Alkynes\n",
    "# M = markovnikov, N = anti-markovnikov\n",
    "# Requires [Si] marker for M/N or carbene reactions\n",
    "\n",
    "RED = AllChem.ReactionFromSmarts('[C:1]#[C:2].[H][H]>>[C:1][C:2]')\n",
    "\n",
    "# stereochemistry not regarded\n",
    "RED_LIND = AllChem.ReactionFromSmarts('[C:1]#[C:2].[H][H]>>[C:1]=[C:2]')\n",
    "RED_BIRCH = AllChem.ReactionFromSmarts('[C:1]#[C:2]>>[C:1]=[C:2]')\n",
    "\n",
    "X2 = AllChem.ReactionFromSmarts('[C:1]#[C:2].[Cl,Br:3][Cl,Br:4]>>[C:1]([X:3])([X:3])[C:2]([X:4])([X:4])')\n",
    "\n",
    "HX = AllChem.ReactionFromSmarts('[Si:1]#[C:2].[Cl,Br,I:3]>>[C:1]([X:3])([X:3])[C:2]')\n",
    "H2O_M = AllChem.ReactionFromSmarts('[Si:1]#[C:2].[O:3]>>[C:1](=[O:3])[C:2]')\n",
    "H2O_N = AllChem.ReactionFromSmarts('[Si:1]#[C:2]>>[C:1][C:2](=O)')\n",
    "\n",
    "OX = AllChem.ReactionFromSmarts('[C:1]#[C:2]>>[C:1](=O)[C:2](=O)')\n",
    "OX_BASE = AllChem.ReactionFromSmarts('[C:1][C:2]#[C:3][C:4]>>[C:1][C:2](=O)O.[C:4][C:3](=O)O')\n",
    "OX_BASE_H = AllChem.ReactionFromSmarts('[C:1][C:2]#[C;H1]>>[C:1][C:2](=O)O')\n",
    "\n",
    "alkyne_MN_reactions_list = [\n",
    "    ('HX', HX, ['Cl', 'Br', 'I'], ['']),\n",
    "    \n",
    "    ('H2O_M', H2O_M, ['O'], ['[Hg+2].[O-]S([O-])(=O)=O.OS(O)(=O)=O']),\n",
    "    ('H2O_N', H2O_N, [''], ['CC(C)C(C)BC(C)C(C)C.C1CCOC1.OO.[Na+].[OH-]']),\n",
    "    \n",
    "]\n",
    "\n",
    "alkyne_reactions_list = [\n",
    "    \n",
    "    ('RED', RED, ['[H][H]'], ['[Pt]', '[Pd]', '[Ni]', '']),\n",
    "    ('RED_LIND', RED_LIND, ['[H][H]'], ['[Pd].[Ba+2].[O-]S([O-])(=O)=O']),\n",
    "    ('RED_BIRCH', RED_BIRCH, [''], ['[Na].N']),\n",
    "    \n",
    "    ('X2', X2, ['ClCl', 'BrBr'], ['', 'ClCCl']),\n",
    "    ('OX', OX, [''], ['[K+].[O-][Mn](=O)(=O)=O']),\n",
    "    ('OX_BASE', OX_BASE, [''], ['[K+].[O-][Mn](=O)(=O)=O.[Na+].[OH-]', 'O=[O+][O-].O']),\n",
    "    ('OX_BASE_H', OX_BASE_H, [''], ['[K+].[O-][Mn](=O)(=O)=O.[Na+].[OH-]', 'O=[O+][O-].O']),\n",
    "    \n",
    "]"
   ]
  },
  {
   "cell_type": "code",
   "execution_count": 23,
   "metadata": {
    "collapsed": true
   },
   "outputs": [],
   "source": [
    "def cano(smiles): # canonicalize smiles by MolToSmiles function\n",
    "    return Chem.MolToSmiles(Chem.MolFromSmiles(smiles))\n",
    "\n",
    "def block(ch, smiles):\n",
    "    return (ch + cano(smiles)) if (smiles != '') else ''"
   ]
  },
  {
   "cell_type": "code",
   "execution_count": 22,
   "metadata": {
    "collapsed": false
   },
   "outputs": [
    {
     "name": "stdout",
     "output_type": "stream",
     "text": [
      "1862\n"
     ]
    }
   ],
   "source": [
    "with gzip.open('data/subst/alkyne.pkl.gz', 'rb') as f:\n",
    "    alkyne_list = cPickle.load(f)\n",
    "\n",
    "length = len(alkyne_list)\n",
    "print(length)"
   ]
  },
  {
   "cell_type": "code",
   "execution_count": 26,
   "metadata": {
    "collapsed": false,
    "scrolled": true
   },
   "outputs": [
    {
     "name": "stderr",
     "output_type": "stream",
     "text": [
      " 99% (1861 of 1862) |###################### | Elapsed Time: 0:00:08 ETA: 0:00:00"
     ]
    }
   ],
   "source": [
    "rxns = []\n",
    "\n",
    "bar = progressbar.ProgressBar(max_value=length)\n",
    "\n",
    "# choose alkene\n",
    "for i, alkyne_smi in enumerate(alkyne_list):\n",
    "    alkyne = Chem.MolFromSmiles(alkyne_smi)\n",
    "    alkyne_MN = copy.deepcopy(alkyne)\n",
    "\n",
    "    # mark [Si]\n",
    "    C_1, C_2 = alkyne_MN.GetSubstructMatches(Chem.MolFromSmiles('C#C'))[0]\n",
    "    alkyne_MN.GetAtomWithIdx((C_2 if (alkyne_MN.GetAtomWithIdx(C_1).GetTotalNumHs() \\\n",
    "            > alkyne_MN.GetAtomWithIdx(C_2).GetTotalNumHs()) else C_1)).SetAtomicNum(14);\n",
    "\n",
    "    # MN reactions\n",
    "    for reaction in alkyne_MN_reactions_list:\n",
    "        for reagent in reaction[2]:\n",
    "            if reagent == '': products = reaction[1].RunReactants((alkyne_MN,))\n",
    "            else: products = reaction[1].RunReactants((alkyne_MN, Chem.MolFromSmiles(reagent)))\n",
    "            if len(products) == 0: continue\n",
    "            product_smi = [Chem.MolToSmiles(product) for product in products[0]]\n",
    "            for sub_reagent in reaction[3]:\n",
    "                rxns.append(cano(alkyne_smi) + block('.', reagent) + '>' + cano(sub_reagent) + '>' + '.'.join(product_smi))\n",
    "\n",
    "    # general reactions\n",
    "    for reaction in alkyne_reactions_list:\n",
    "        for reagent in reaction[2]:\n",
    "            if reagent == '': products = reaction[1].RunReactants((alkyne,))\n",
    "            else: products = reaction[1].RunReactants((alkyne, Chem.MolFromSmiles(reagent)))\n",
    "            if len(products) == 0: continue\n",
    "            product_smi = [Chem.MolToSmiles(product) for product in products[0]]\n",
    "            for sub_reagent in reaction[3]:\n",
    "                rxns.append(cano(alkyne_smi) + block('.', reagent) + '>' + cano(sub_reagent) + '>' + '.'.join(product_smi))\n",
    "                \n",
    "    bar.update(i)"
   ]
  },
  {
   "cell_type": "code",
   "execution_count": 27,
   "metadata": {
    "collapsed": false
   },
   "outputs": [
    {
     "name": "stdout",
     "output_type": "stream",
     "text": [
      "33468\n"
     ]
    }
   ],
   "source": [
    "print(len(rxns))"
   ]
  },
  {
   "cell_type": "code",
   "execution_count": 28,
   "metadata": {
    "collapsed": false
   },
   "outputs": [
    {
     "data": {
      "text/plain": [
       "['C#CC(C)C.Br>>CC(C)C(C)(Br)Br',\n",
       " 'C#CC(C)C.I>>CC(C)C(C)(I)I',\n",
       " 'C#CC(C)C.O>O=S(=O)(O)O.O=S(=O)([O-])[O-].[Hg+2]>CC(=O)C(C)C',\n",
       " 'C#CC(C)C>C1CCOC1.CC(C)C(C)BC(C)C(C)C.OO.[Na+].[OH-]>CC(C)CC=O',\n",
       " 'C#CC(C)C.[H][H]>[Pt]>CCC(C)C',\n",
       " 'C#CC(C)C.[H][H]>[Pd]>CCC(C)C',\n",
       " 'C#CC(C)C.[H][H]>[Ni]>CCC(C)C',\n",
       " 'C#CC(C)C.[H][H]>>CCC(C)C',\n",
       " 'C#CC(C)C.[H][H]>O=S(=O)([O-])[O-].[Ba+2].[Pd]>C=CC(C)C',\n",
       " 'C#CC(C)C>N.[Na]>C=CC(C)C',\n",
       " 'C#CC(C)C.ClCl>>CC(C)C(Cl)(Cl)C(Cl)Cl',\n",
       " 'C#CC(C)C.ClCl>ClCCl>CC(C)C(Cl)(Cl)C(Cl)Cl',\n",
       " 'C#CC(C)C.BrBr>>CC(C)C(Br)(Br)C(Br)Br',\n",
       " 'C#CC(C)C.BrBr>ClCCl>CC(C)C(Br)(Br)C(Br)Br',\n",
       " 'C#CC(C)C>O=[Mn](=O)(=O)[O-].[K+]>CC(C)C(=O)C=O',\n",
       " 'C#CC(C)C>O=[Mn](=O)(=O)[O-].[K+].[Na+].[OH-]>CC(C)C(=O)O',\n",
       " 'C#CC(C)C>O.O=[O+][O-]>CC(C)C(=O)O',\n",
       " 'C#CCCC.Cl>>CCCC(C)(Cl)Cl',\n",
       " 'C#CCCC.Br>>CCCC(C)(Br)Br',\n",
       " 'C#CCCC.I>>CCCC(C)(I)I',\n",
       " 'C#CCCC.O>O=S(=O)(O)O.O=S(=O)([O-])[O-].[Hg+2]>CCCC(C)=O',\n",
       " 'C#CCCC>C1CCOC1.CC(C)C(C)BC(C)C(C)C.OO.[Na+].[OH-]>CCCCC=O',\n",
       " 'C#CCCC.[H][H]>[Pt]>CCCCC',\n",
       " 'C#CCCC.[H][H]>[Pd]>CCCCC',\n",
       " 'C#CCCC.[H][H]>[Ni]>CCCCC',\n",
       " 'C#CCCC.[H][H]>>CCCCC',\n",
       " 'C#CCCC.[H][H]>O=S(=O)([O-])[O-].[Ba+2].[Pd]>C=CCCC',\n",
       " 'C#CCCC>N.[Na]>C=CCCC',\n",
       " 'C#CCCC.ClCl>>CCCC(Cl)(Cl)C(Cl)Cl',\n",
       " 'C#CCCC.ClCl>ClCCl>CCCC(Cl)(Cl)C(Cl)Cl',\n",
       " 'C#CCCC.BrBr>>CCCC(Br)(Br)C(Br)Br',\n",
       " 'C#CCCC.BrBr>ClCCl>CCCC(Br)(Br)C(Br)Br',\n",
       " 'C#CCCC>O=[Mn](=O)(=O)[O-].[K+]>CCCC(=O)C=O',\n",
       " 'C#CCCC>O=[Mn](=O)(=O)[O-].[K+].[Na+].[OH-]>CCCC(=O)O',\n",
       " 'C#CCCC>O.O=[O+][O-]>CCCC(=O)O',\n",
       " 'CC#CCC.Cl>>CCCC(C)(Cl)Cl',\n",
       " 'CC#CCC.Br>>CCCC(C)(Br)Br',\n",
       " 'CC#CCC.I>>CCCC(C)(I)I',\n",
       " 'CC#CCC.O>O=S(=O)(O)O.O=S(=O)([O-])[O-].[Hg+2]>CCCC(C)=O',\n",
       " 'CC#CCC>C1CCOC1.CC(C)C(C)BC(C)C(C)C.OO.[Na+].[OH-]>CCC(=O)CC',\n",
       " 'CC#CCC.[H][H]>[Pt]>CCCCC',\n",
       " 'CC#CCC.[H][H]>[Pd]>CCCCC',\n",
       " 'CC#CCC.[H][H]>[Ni]>CCCCC',\n",
       " 'CC#CCC.[H][H]>>CCCCC',\n",
       " 'CC#CCC.[H][H]>O=S(=O)([O-])[O-].[Ba+2].[Pd]>CC=CCC',\n",
       " 'CC#CCC>N.[Na]>CC=CCC',\n",
       " 'CC#CCC.ClCl>>CCC(Cl)(Cl)C(C)(Cl)Cl',\n",
       " 'CC#CCC.ClCl>ClCCl>CCC(Cl)(Cl)C(C)(Cl)Cl',\n",
       " 'CC#CCC.BrBr>>CCC(Br)(Br)C(C)(Br)Br',\n",
       " 'CC#CCC.BrBr>ClCCl>CCC(Br)(Br)C(C)(Br)Br',\n",
       " 'CC#CCC>O=[Mn](=O)(=O)[O-].[K+]>CCC(=O)C(C)=O',\n",
       " 'CC#CCC>O=[Mn](=O)(=O)[O-].[K+].[Na+].[OH-]>CC(=O)O.CCC(=O)O',\n",
       " 'CC#CCC>O.O=[O+][O-]>CC(=O)O.CCC(=O)O',\n",
       " 'C#CC1CC1.Cl>>CC(Cl)(Cl)C1CC1',\n",
       " 'C#CC1CC1.Br>>CC(Br)(Br)C1CC1',\n",
       " 'C#CC1CC1.I>>CC(I)(I)C1CC1',\n",
       " 'C#CC1CC1.O>O=S(=O)(O)O.O=S(=O)([O-])[O-].[Hg+2]>CC(=O)C1CC1',\n",
       " 'C#CC1CC1>C1CCOC1.CC(C)C(C)BC(C)C(C)C.OO.[Na+].[OH-]>O=CCC1CC1',\n",
       " 'C#CC1CC1.[H][H]>[Pt]>CCC1CC1',\n",
       " 'C#CC1CC1.[H][H]>[Pd]>CCC1CC1',\n",
       " 'C#CC1CC1.[H][H]>[Ni]>CCC1CC1',\n",
       " 'C#CC1CC1.[H][H]>>CCC1CC1',\n",
       " 'C#CC1CC1.[H][H]>O=S(=O)([O-])[O-].[Ba+2].[Pd]>C=CC1CC1',\n",
       " 'C#CC1CC1>N.[Na]>C=CC1CC1',\n",
       " 'C#CC1CC1.ClCl>>ClC(Cl)C(Cl)(Cl)C1CC1',\n",
       " 'C#CC1CC1.ClCl>ClCCl>ClC(Cl)C(Cl)(Cl)C1CC1',\n",
       " 'C#CC1CC1.BrBr>>BrC(Br)C(Br)(Br)C1CC1',\n",
       " 'C#CC1CC1.BrBr>ClCCl>BrC(Br)C(Br)(Br)C1CC1',\n",
       " 'C#CC1CC1>O=[Mn](=O)(=O)[O-].[K+]>O=CC(=O)C1CC1',\n",
       " 'C#CC1CC1>O=[Mn](=O)(=O)[O-].[K+].[Na+].[OH-]>O=C(O)C1CC1',\n",
       " 'C#CC1CC1>O.O=[O+][O-]>O=C(O)C1CC1',\n",
       " 'C#C.Cl>>CC(Cl)Cl',\n",
       " 'C#C.Br>>CC(Br)Br',\n",
       " 'C#C.I>>CC(I)I',\n",
       " 'C#C.O>O=S(=O)(O)O.O=S(=O)([O-])[O-].[Hg+2]>CC=O',\n",
       " 'C#C>C1CCOC1.CC(C)C(C)BC(C)C(C)C.OO.[Na+].[OH-]>CC=O',\n",
       " 'C#C.[H][H]>[Pt]>CC',\n",
       " 'C#C.[H][H]>[Pd]>CC',\n",
       " 'C#C.[H][H]>[Ni]>CC',\n",
       " 'C#C.[H][H]>>CC',\n",
       " 'C#C.[H][H]>O=S(=O)([O-])[O-].[Ba+2].[Pd]>C=C',\n",
       " 'C#C>N.[Na]>C=C',\n",
       " 'C#C.ClCl>>ClC(Cl)C(Cl)Cl',\n",
       " 'C#C.ClCl>ClCCl>ClC(Cl)C(Cl)Cl',\n",
       " 'C#C.BrBr>>BrC(Br)C(Br)Br',\n",
       " 'C#C.BrBr>ClCCl>BrC(Br)C(Br)Br',\n",
       " 'C#C>O=[Mn](=O)(=O)[O-].[K+]>O=CC=O',\n",
       " 'C#CCC(C)(C)C.Cl>>CC(C)(C)CC(C)(Cl)Cl',\n",
       " 'C#CCC(C)(C)C.Br>>CC(C)(C)CC(C)(Br)Br',\n",
       " 'C#CCC(C)(C)C.I>>CC(C)(C)CC(C)(I)I',\n",
       " 'C#CCC(C)(C)C.O>O=S(=O)(O)O.O=S(=O)([O-])[O-].[Hg+2]>CC(=O)CC(C)(C)C',\n",
       " 'C#CCC(C)(C)C>C1CCOC1.CC(C)C(C)BC(C)C(C)C.OO.[Na+].[OH-]>CC(C)(C)CCC=O',\n",
       " 'C#CCC(C)(C)C.[H][H]>[Pt]>CCCC(C)(C)C',\n",
       " 'C#CCC(C)(C)C.[H][H]>[Pd]>CCCC(C)(C)C',\n",
       " 'C#CCC(C)(C)C.[H][H]>[Ni]>CCCC(C)(C)C',\n",
       " 'C#CCC(C)(C)C.[H][H]>>CCCC(C)(C)C',\n",
       " 'C#CCC(C)(C)C.[H][H]>O=S(=O)([O-])[O-].[Ba+2].[Pd]>C=CCC(C)(C)C',\n",
       " 'C#CCC(C)(C)C>N.[Na]>C=CCC(C)(C)C',\n",
       " 'C#CCC(C)(C)C.ClCl>>CC(C)(C)CC(Cl)(Cl)C(Cl)Cl']"
      ]
     },
     "execution_count": 28,
     "metadata": {},
     "output_type": "execute_result"
    }
   ],
   "source": [
    "rxns[1:100]"
   ]
  },
  {
   "cell_type": "code",
   "execution_count": null,
   "metadata": {
    "collapsed": true
   },
   "outputs": [],
   "source": []
  }
 ],
 "metadata": {
  "kernelspec": {
   "display_name": "Python 2",
   "language": "python",
   "name": "python2"
  },
  "language_info": {
   "codemirror_mode": {
    "name": "ipython",
    "version": 2
   },
   "file_extension": ".py",
   "mimetype": "text/x-python",
   "name": "python",
   "nbconvert_exporter": "python",
   "pygments_lexer": "ipython2",
   "version": "2.7.12"
  }
 },
 "nbformat": 4,
 "nbformat_minor": 1
}
