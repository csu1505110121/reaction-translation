{
 "cells": [
  {
   "cell_type": "code",
   "execution_count": 20,
   "metadata": {
    "collapsed": true
   },
   "outputs": [],
   "source": [
    "from __future__ import print_function\n",
    "\n",
    "from rdkit import Chem\n",
    "from rdkit.Chem import AllChem"
   ]
  },
  {
   "cell_type": "code",
   "execution_count": 27,
   "metadata": {
    "collapsed": false
   },
   "outputs": [],
   "source": [
    "## Alkynes\n",
    "# M = markovnikov, N = anti-markovnikov\n",
    "# Requires [Si] marker for M/N or carbene reactions\n",
    "\n",
    "# TODO: acetylide reactions\n",
    "\n",
    "RED = AllChem.ReactionFromSmarts('[C:1]#[C:2].[H][H]>>[C:1][C:2]')\n",
    "\n",
    "# stereochemistry not controlled by ['\\', '/']?\n",
    "RED_LIND = AllChem.ReactionFromSmarts('[C:1]#[C:2].[H][H]>>[H]\\[C:1]=[C:2]/[H]')\n",
    "RED_BIRCH = AllChem.ReactionFromSmarts('[C:1]#[C:2]>>[H]\\[C:1]=[C:2]\\[H]')\n",
    "\n",
    "X2 = AllChem.ReactionFromSmarts('[C:1]#[C:2].[Cl,Br:3][Cl,Br:4]>>[C:1]([X:3])([X:3])[C:2]([X:4])([X:4])')\n",
    "\n",
    "HX = AllChem.ReactionFromSmarts('[Si:1]#[C:2].[Cl,Br,I:3]>>[C:1]([X:3])([X:3])[C:2]')\n",
    "H2O_M = AllChem.ReactionFromSmarts('[Si:1]#[C:2].[O:3]>>[C:1](=[O:3])[C:2]')\n",
    "H2O_N = AllChem.ReactionFromSmarts('[Si:1]#[C:2]>>[C:1][C:2](=O)')\n",
    "\n",
    "OX = AllChem.ReactionFromSmarts('[C:1]#[C:2]>>[C:1](=O)[C:2](=O)')\n",
    "OX_BASE = AllChem.ReactionFromSmarts('[C:1][C:2]#[C:3][C:4]>>[C:1][C:2](=O)O.[C:4][C:3](=O)O')\n",
    "OX_BASE_H = AllChem.ReactionFromSmarts('[C:1][C:2]#[C;H1]>>[C:1][C:2](=O)O')\n",
    "\n",
    "alkyne_MN_reactions_list = [\n",
    "    ('HX', HX, ['Cl', 'Br', 'I'], ['']),\n",
    "    \n",
    "    ('H2O_M', H2O_M, ['O'], ['[Hg+2].[O-]S([O-])(=O)=O.OS(O)(=O)=O']),\n",
    "    ('H2O_N', H2O_N, [''], ['CC(C)C(C)BC(C)C(C)C.C1CCOC1.OO.[Na+].[OH-]']),\n",
    "    \n",
    "]\n",
    "\n",
    "alkyne_reactions_list = [\n",
    "    \n",
    "    ('RED', RED, ['[H][H]'], ['[Pt]', '[Pd]', '[Ni]', '']),\n",
    "    ('RED_LIND', RED_LIND, ['[H][H]'], ['[Pd].[Ba+2].[O-]S([O-])(=O)=O']),\n",
    "    ('RED_BIRCH', RED_BIRCH, [''], ['[Na].N']),\n",
    "    \n",
    "    ('X2', X2, ['ClCl', 'BrBr'], ['', 'ClCCl']),\n",
    "    ('OX', OX, [''], ['[K+].[O-][Mn](=O)(=O)=O']),\n",
    "    ('OX_BASE', OX_BASE, [''], ['[K+].[O-][Mn](=O)(=O)=O.[Na+].[OH-]', 'O=[O+][O-].O']),\n",
    "    ('OX_BASE_H', OX_BASE_H, [''], ['[K+].[O-][Mn](=O)(=O)=O.[Na+].[OH-]', 'O=[O+][O-].O']),\n",
    "    \n",
    "]"
   ]
  },
  {
   "cell_type": "code",
   "execution_count": 28,
   "metadata": {
    "collapsed": false,
    "scrolled": true
   },
   "outputs": [
    {
     "name": "stdout",
     "output_type": "stream",
     "text": [
      "HX\n",
      "CC#CC(C)C.Cl>>CCC(Cl)(Cl)C(C)C\n",
      "CC#CC(C)C.Br>>CCC(Br)(Br)C(C)C\n",
      "CC#CC(C)C.I>>CCC(I)(I)C(C)C\n",
      "H2O_M\n",
      "CC#CC(C)C.O>[Hg+2].[O-]S([O-])(=O)=O.OS(O)(=O)=O>CCC(=O)C(C)C\n",
      "H2O_N\n",
      "CC#CC(C)C>CC(C)C(C)BC(C)C(C)C.C1CCOC1.OO.[Na+].[OH-]>CC(=O)CC(C)C\n",
      "RED\n",
      "CC#CC(C)C.[H][H]>[Pt]>CCCC(C)C\n",
      "CC#CC(C)C.[H][H]>[Pd]>CCCC(C)C\n",
      "CC#CC(C)C.[H][H]>[Ni]>CCCC(C)C\n",
      "CC#CC(C)C.[H][H]>>CCCC(C)C\n",
      "RED_LIND\n",
      "CC#CC(C)C.[H][H]>[Pd].[Ba+2].[O-]S([O-])(=O)=O>[H]C(C)=C([H])C(C)C\n",
      "RED_BIRCH\n",
      "CC#CC(C)C>[Na].N>[H]C(C)=C([H])C(C)C\n",
      "X2\n",
      "CC#CC(C)C.ClCl>>CC(C)C(Cl)(Cl)C(C)(Cl)Cl\n",
      "CC#CC(C)C.ClCl>ClCCl>CC(C)C(Cl)(Cl)C(C)(Cl)Cl\n",
      "CC#CC(C)C.BrBr>>CC(C)C(Br)(Br)C(C)(Br)Br\n",
      "CC#CC(C)C.BrBr>ClCCl>CC(C)C(Br)(Br)C(C)(Br)Br\n",
      "OX\n",
      "CC#CC(C)C>[K+].[O-][Mn](=O)(=O)=O>CC(=O)C(=O)C(C)C\n",
      "OX_BASE\n",
      "CC#CC(C)C>[K+].[O-][Mn](=O)(=O)=O.[Na+].[OH-]>CC(C)C(=O)O.CC(=O)O\n",
      "CC#CC(C)C>O=[O+][O-].O>CC(C)C(=O)O.CC(=O)O\n",
      "OX_BASE_H\n"
     ]
    }
   ],
   "source": [
    "import random, copy\n",
    "\n",
    "def cano(smiles): # canonicalize smiles by MolToSmiles function\n",
    "    return Chem.MolToSmiles(Chem.MolFromSmiles(smiles))\n",
    "\n",
    "def block(ch, smiles):\n",
    "    return (ch + cano(smiles)) if (smiles != '') else cano(smiles)\n",
    "\n",
    "# choose alkyne\n",
    "alkyne_smi = 'CC(C)C#CC'\n",
    "alkyne = Chem.MolFromSmiles(alkyne_smi)\n",
    "alkyne_MN = copy.deepcopy(alkyne)\n",
    "\n",
    "# mark [Si]\n",
    "C_1, C_2 = alkyne_MN.GetSubstructMatches(Chem.MolFromSmiles('C#C'))[0]\n",
    "alkyne_MN.GetAtomWithIdx((C_2 if (alkyne_MN.GetAtomWithIdx(C_1).GetTotalNumHs() \\\n",
    "        > alkyne_MN.GetAtomWithIdx(C_2).GetTotalNumHs()) else C_1)).SetAtomicNum(14);\n",
    "\n",
    "# MN reactions\n",
    "for reaction in alkyne_MN_reactions_list:\n",
    "    print(reaction[0])\n",
    "    for reagent in reaction[2]:\n",
    "        if reagent == '': products = reaction[1].RunReactants((alkyne_MN,))\n",
    "        else: products = reaction[1].RunReactants((alkyne_MN, Chem.MolFromSmiles(reagent)))\n",
    "        if len(products) == 0: continue\n",
    "        product_smi = [Chem.MolToSmiles(product) for product in products[0]]\n",
    "        for sub_reagent in reaction[3]:\n",
    "            print(cano(alkyne_smi) + block('.', reagent) + '>' + sub_reagent + '>' + '.'.join(product_smi))\n",
    "\n",
    "# general reactions\n",
    "for reaction in alkyne_reactions_list:\n",
    "    print(reaction[0])\n",
    "    for reagent in reaction[2]:\n",
    "        if reagent == '': products = reaction[1].RunReactants((alkyne,))\n",
    "        else: products = reaction[1].RunReactants((alkyne, Chem.MolFromSmiles(reagent)))\n",
    "        if len(products) == 0: continue\n",
    "        product_smi = [Chem.MolToSmiles(product) for product in products[0]]\n",
    "        for sub_reagent in reaction[3]:\n",
    "            print(cano(alkyne_smi) + block('.', reagent) + '>' + sub_reagent + '>' + '.'.join(product_smi))"
   ]
  },
  {
   "cell_type": "code",
   "execution_count": null,
   "metadata": {
    "collapsed": true
   },
   "outputs": [],
   "source": []
  }
 ],
 "metadata": {
  "kernelspec": {
   "display_name": "Python 2",
   "language": "python",
   "name": "python2"
  },
  "language_info": {
   "codemirror_mode": {
    "name": "ipython",
    "version": 2
   },
   "file_extension": ".py",
   "mimetype": "text/x-python",
   "name": "python",
   "nbconvert_exporter": "python",
   "pygments_lexer": "ipython2",
   "version": "2.7.12"
  }
 },
 "nbformat": 4,
 "nbformat_minor": 1
}
