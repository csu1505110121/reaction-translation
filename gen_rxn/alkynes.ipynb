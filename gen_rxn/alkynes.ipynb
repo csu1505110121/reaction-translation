{
 "cells": [
  {
   "cell_type": "code",
   "execution_count": 1,
   "metadata": {
    "collapsed": true
   },
   "outputs": [],
   "source": [
    "from __future__ import print_function\n",
    "\n",
    "from rdkit import Chem\n",
    "from rdkit.Chem import AllChem\n",
    "\n",
    "import gzip, cPickle\n",
    "import copy\n",
    "import progressbar"
   ]
  },
  {
   "cell_type": "code",
   "execution_count": 3,
   "metadata": {
    "collapsed": false
   },
   "outputs": [],
   "source": [
    "## Alkynes\n",
    "# M = markovnikov, N = anti-markovnikov\n",
    "# Requires [Si] marker for M/N or carbene reactions\n",
    "\n",
    "RED = AllChem.ReactionFromSmarts('[C:1]#[C:2].[H][H]>>[C:1][C:2]')\n",
    "\n",
    "# stereochemistry not regarded\n",
    "RED_LIND = AllChem.ReactionFromSmarts('[C:1]#[C:2].[H][H]>>[C:1]=[C:2]')\n",
    "RED_BIRCH = AllChem.ReactionFromSmarts('[C:1]#[C:2]>>[C:1]=[C:2]')\n",
    "\n",
    "X2 = AllChem.ReactionFromSmarts('[C:1]#[C:2].[Cl,Br:3][Cl,Br:4]>>[C:1]([X:3])([X:3])[C:2]([X:4])([X:4])')\n",
    "\n",
    "HX = AllChem.ReactionFromSmarts('[Si:1]#[C:2].[Cl,Br,I:3]>>[C:1]([X:3])([X:3])[C:2]')\n",
    "H2O_M = AllChem.ReactionFromSmarts('[Si:1]#[C:2].[O:3]>>[C:1](=[O:3])[C:2]')\n",
    "H2O_N = AllChem.ReactionFromSmarts('[Si:1]#[C:2]>>[C:1][C:2](=O)')\n",
    "\n",
    "OX = AllChem.ReactionFromSmarts('[C:1]#[C:2]>>[C:1](=O)[C:2](=O)')\n",
    "OX_BASE = AllChem.ReactionFromSmarts('[C:1][C:2]#[C:3][C:4]>>([C:1][C:2](=O)O.[C:4][C:3](=O)O)')\n",
    "OX_BASE_H = AllChem.ReactionFromSmarts('[C:1][C:2]#[C;H1]>>[C:1][C:2](=O)O')\n",
    "\n",
    "alkyne_MN_reactions_list = [\n",
    "    ('HX', HX, ['Cl', 'Br', 'I'], ['']),\n",
    "    \n",
    "    ('H2O_M', H2O_M, ['O'], ['[Hg+2].[O-]S([O-])(=O)=O.OS(O)(=O)=O']),\n",
    "    ('H2O_N', H2O_N, [''], ['CC(C)C(C)BC(C)C(C)C.C1CCOC1.OO.[Na+].[OH-]']),\n",
    "    \n",
    "]\n",
    "\n",
    "alkyne_reactions_list = [\n",
    "    \n",
    "    ('RED', RED, ['[H][H]'], ['[Pt]', '[Pd]', '[Ni]', '']),\n",
    "    ('RED_LIND', RED_LIND, ['[H][H]'], ['[Pd].[Ba+2].[O-]S([O-])(=O)=O']),\n",
    "    ('RED_BIRCH', RED_BIRCH, [''], ['[Na].N']),\n",
    "    \n",
    "    ('X2', X2, ['ClCl', 'BrBr'], ['', 'ClCCl']),\n",
    "    ('OX', OX, [''], ['[K+].[O-][Mn](=O)(=O)=O']),\n",
    "    ('OX_BASE', OX_BASE, [''], ['[K+].[O-][Mn](=O)(=O)=O.[Na+].[OH-]', 'O=[O+][O-].O']),\n",
    "    ('OX_BASE_H', OX_BASE_H, [''], ['[K+].[O-][Mn](=O)(=O)=O.[Na+].[OH-]', 'O=[O+][O-].O']),\n",
    "    \n",
    "]"
   ]
  },
  {
   "cell_type": "code",
   "execution_count": 4,
   "metadata": {
    "collapsed": true
   },
   "outputs": [],
   "source": [
    "def cano(smiles): # canonicalize smiles by MolToSmiles function\n",
    "    return Chem.MolToSmiles(Chem.MolFromSmiles(smiles))\n",
    "\n",
    "def block(ch, smiles):\n",
    "    return (ch + cano(smiles)) if (smiles != '') else ''"
   ]
  },
  {
   "cell_type": "code",
   "execution_count": 5,
   "metadata": {
    "collapsed": false
   },
   "outputs": [
    {
     "name": "stdout",
     "output_type": "stream",
     "text": [
      "1862\n"
     ]
    }
   ],
   "source": [
    "with gzip.open('data/subst/alkyne.pkl.gz', 'rb') as f:\n",
    "    alkyne_list = cPickle.load(f)\n",
    "\n",
    "length = len(alkyne_list)\n",
    "print(length)"
   ]
  },
  {
   "cell_type": "code",
   "execution_count": 6,
   "metadata": {
    "collapsed": false,
    "scrolled": true
   },
   "outputs": [
    {
     "name": "stderr",
     "output_type": "stream",
     "text": [
      "100% (1862 of 1862) |######################| Elapsed Time: 0:00:08 Time: 0:00:08\n"
     ]
    }
   ],
   "source": [
    "rxns = []\n",
    "\n",
    "bar = progressbar.ProgressBar(max_value=length)\n",
    "\n",
    "# choose alkene\n",
    "for i, alkyne_smi in enumerate(alkyne_list):\n",
    "    alkyne = Chem.MolFromSmiles(alkyne_smi)\n",
    "    alkyne_MN = copy.deepcopy(alkyne)\n",
    "\n",
    "    # mark [Si]\n",
    "    C_1, C_2 = alkyne_MN.GetSubstructMatches(Chem.MolFromSmiles('C#C'))[0]\n",
    "    alkyne_MN.GetAtomWithIdx((C_2 if (alkyne_MN.GetAtomWithIdx(C_1).GetTotalNumHs() \\\n",
    "            > alkyne_MN.GetAtomWithIdx(C_2).GetTotalNumHs()) else C_1)).SetAtomicNum(14);\n",
    "\n",
    "    # MN reactions\n",
    "    for reaction in alkyne_MN_reactions_list:\n",
    "        for reagent in reaction[2]:\n",
    "            if reagent == '': products = reaction[1].RunReactants((alkyne_MN,))\n",
    "            else: products = reaction[1].RunReactants((alkyne_MN, Chem.MolFromSmiles(reagent)))\n",
    "            if len(products) == 0: continue\n",
    "            product_smi = [Chem.MolToSmiles(product) for product in products[0]]\n",
    "            for sub_reagent in reaction[3]:\n",
    "                rxns.append(cano(alkyne_smi) + block('.', reagent) + '>' + cano(sub_reagent) + '>' + '.'.join(product_smi))\n",
    "\n",
    "    # general reactions\n",
    "    for reaction in alkyne_reactions_list:\n",
    "        for reagent in reaction[2]:\n",
    "            if reagent == '': products = reaction[1].RunReactants((alkyne,))\n",
    "            else: products = reaction[1].RunReactants((alkyne, Chem.MolFromSmiles(reagent)))\n",
    "            if len(products) == 0: continue\n",
    "            product_smi = [Chem.MolToSmiles(product) for product in products[0]]\n",
    "            for sub_reagent in reaction[3]:\n",
    "                rxns.append(cano(alkyne_smi) + block('.', reagent) + '>' + cano(sub_reagent) + '>' + '.'.join(product_smi))\n",
    "                \n",
    "    bar.update(i)\n",
    "    \n",
    "bar.finish()"
   ]
  },
  {
   "cell_type": "code",
   "execution_count": 7,
   "metadata": {
    "collapsed": false
   },
   "outputs": [
    {
     "name": "stdout",
     "output_type": "stream",
     "text": [
      "33468\n"
     ]
    }
   ],
   "source": [
    "print(len(rxns))"
   ]
  },
  {
   "cell_type": "code",
   "execution_count": 8,
   "metadata": {
    "collapsed": true
   },
   "outputs": [],
   "source": [
    "with gzip.open('data/rxns/alkyne.pkl.gz', 'wb') as f:\n",
    "    cPickle.dump(rxns, f, 2)"
   ]
  },
  {
   "cell_type": "code",
   "execution_count": null,
   "metadata": {
    "collapsed": true
   },
   "outputs": [],
   "source": []
  }
 ],
 "metadata": {
  "kernelspec": {
   "display_name": "Python 2",
   "language": "python",
   "name": "python2"
  },
  "language_info": {
   "codemirror_mode": {
    "name": "ipython",
    "version": 2
   },
   "file_extension": ".py",
   "mimetype": "text/x-python",
   "name": "python",
   "nbconvert_exporter": "python",
   "pygments_lexer": "ipython2",
   "version": "2.7.12"
  }
 },
 "nbformat": 4,
 "nbformat_minor": 1
}
