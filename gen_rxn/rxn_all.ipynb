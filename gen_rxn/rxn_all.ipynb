{
 "cells": [
  {
   "cell_type": "code",
   "execution_count": 5,
   "metadata": {
    "collapsed": true
   },
   "outputs": [],
   "source": [
    "from __future__ import print_function\n",
    "\n",
    "import glob\n",
    "import gzip, cPickle\n",
    "\n",
    "import random\n",
    "from rdkit import Chem\n",
    "from rdkit.Chem import AllChem, Lipinski"
   ]
  },
  {
   "cell_type": "code",
   "execution_count": 4,
   "metadata": {
    "collapsed": false
   },
   "outputs": [
    {
     "name": "stdout",
     "output_type": "stream",
     "text": [
      "data/rxns/alkene.pkl.gz 342364\n",
      "data/rxns/acid.pkl.gz 105205\n",
      "data/rxns/ald_ket.pkl.gz 224268\n",
      "data/rxns/alkyne.pkl.gz 33468\n",
      "data/rxns/alcohol.pkl.gz 159813\n",
      "all: 865118\n"
     ]
    }
   ],
   "source": [
    "rxn_all = []\n",
    "\n",
    "for rxn_file in glob.iglob(\"data/rxns/*.pkl.gz\"):\n",
    "    with gzip.open(rxn_file, 'rb') as f:\n",
    "        rxns = cPickle.load(f)\n",
    "        print(rxn_file, len(rxns))\n",
    "        rxn_all += rxns\n",
    "\n",
    "print('all:', len(rxn_all))"
   ]
  },
  {
   "cell_type": "code",
   "execution_count": 6,
   "metadata": {
    "collapsed": true
   },
   "outputs": [],
   "source": [
    "random.shuffle(rxn_all)"
   ]
  },
  {
   "cell_type": "code",
   "execution_count": 7,
   "metadata": {
    "collapsed": false
   },
   "outputs": [],
   "source": [
    "with gzip.open('data/all_rxns.pkl.gz', 'wb') as f:\n",
    "    cPickle.dump(rxn_all, f, 2)"
   ]
  },
  {
   "cell_type": "code",
   "execution_count": null,
   "metadata": {
    "collapsed": true
   },
   "outputs": [],
   "source": []
  }
 ],
 "metadata": {
  "kernelspec": {
   "display_name": "Python 2",
   "language": "python",
   "name": "python2"
  },
  "language_info": {
   "codemirror_mode": {
    "name": "ipython",
    "version": 2
   },
   "file_extension": ".py",
   "mimetype": "text/x-python",
   "name": "python",
   "nbconvert_exporter": "python",
   "pygments_lexer": "ipython2",
   "version": "2.7.12"
  }
 },
 "nbformat": 4,
 "nbformat_minor": 1
}
