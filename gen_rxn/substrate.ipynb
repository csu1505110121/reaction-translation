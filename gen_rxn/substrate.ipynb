{
 "cells": [
  {
   "cell_type": "code",
   "execution_count": 61,
   "metadata": {
    "collapsed": false
   },
   "outputs": [],
   "source": [
    "from __future__ import print_function\n",
    "\n",
    "import glob\n",
    "\n",
    "from rdkit import Chem\n",
    "from rdkit.Chem import AllChem, Lipinski"
   ]
  },
  {
   "cell_type": "code",
   "execution_count": 33,
   "metadata": {
    "collapsed": false
   },
   "outputs": [
    {
     "name": "stdout",
     "output_type": "stream",
     "text": [
      "data/gdb11/gdb11_size05.smi\n",
      "data/gdb11/gdb11_size02.smi\n",
      "data/gdb11/gdb11_size07.smi\n",
      "data/gdb11/gdb11_size03.smi\n",
      "data/gdb11/gdb11_size04.smi\n",
      "data/gdb11/gdb11_size08.smi\n",
      "data/gdb11/gdb11_size10.smi\n",
      "data/gdb11/gdb11_size06.smi\n",
      "data/gdb11/gdb11_size01.smi\n",
      "data/gdb11/gdb11_size09.smi\n"
     ]
    }
   ],
   "source": [
    "alkene = []\n",
    "alkyne = []\n",
    "alcohol_1 = []\n",
    "alcohol = []\n",
    "ald_ket = []\n",
    "amine_1 = []\n",
    "acid = []\n",
    "ester = []\n",
    "amide_1 = []\n",
    "amide = []\n",
    "nitrile = []\n",
    "halide = []\n",
    "\n",
    "# excluded sterically hindered structures (e.g. neopentyl, tertiary carbon)\n",
    "s_alkene = Chem.MolFromSmarts('[CX3]=[CX3]')\n",
    "s_alkyne = Chem.MolFromSmarts('[CX2]#[CX2]')\n",
    "s_alcohol = Chem.MolFromSmarts('[OX2H1][CX4]')\n",
    "s_alcohol_1 = Chem.MolFromSmarts('[OX2H1][CX4H2][c,C&!H0]')\n",
    "s_ketone = Chem.MolFromSmarts('[#6][CX3](=O)[#6]')\n",
    "s_aldehyde = Chem.MolFromSmarts('[CX3H1](=O)[#6]')\n",
    "s_amine_1 = Chem.MolFromSmarts('[NX3H2][CX4H2][c,C&!H0]') # primary amine, N linked to primary carbon\n",
    "s_acid = Chem.MolFromSmarts('[CX3](=O)[OX2H1]')\n",
    "s_ester = Chem.MolFromSmarts('[c,C&!H0][CX3](=O)[OX2H0][c,C&!H0]')\n",
    "s_amide = Chem.MolFromSmarts('[NX3][CX3](=[OX1])[c,C&!H0]')\n",
    "s_amide_1 = Chem.MolFromSmarts('[NX3H2][CX3](=[OX1])[c,C&!H0]')\n",
    "s_nitrile = Chem.MolFromSmarts('[NX1]#[CX2][c,C&!H0]')\n",
    "s_halide = Chem.MolFromSmarts('[CX4][F,Cl,Br,I]') # but only fluoride in GDB\n",
    "\n",
    "\n",
    "for file in glob.iglob(\"data/gdb11/*.smi\"): # excluded size 11\n",
    "    print(file)\n",
    "    with open(file) as f:\n",
    "        for line in f:\n",
    "            mol = Chem.MolFromSmiles(line.split()[0])\n",
    "            smi = Chem.MolToSmiles(mol)\n",
    "            cnt_hetatm = Lipinski.NumHeteroatoms(mol)\n",
    "            \n",
    "            double = len(mol.GetSubstructMatches(s_alkene))\n",
    "            triple = len(mol.GetSubstructMatches(s_alkyne))\n",
    "            \n",
    "            if double == 0 and triple == 0:\n",
    "                if cnt_hetatm == 2:\n",
    "                    if mol.HasSubstructMatch(s_acid):\n",
    "                        acid.append(smi)\n",
    "                    elif mol.HasSubstructMatch(s_ester):\n",
    "                        ester.append(smi)\n",
    "                    elif mol.HasSubstructMatch(s_amide):\n",
    "                        if mol.HasSubstructMatch(s_amide_1):\n",
    "                            amide_1.append(smi)\n",
    "                        amide.append(smi)\n",
    "\n",
    "                elif cnt_hetatm == 1:\n",
    "                    if mol.HasSubstructMatch(s_alcohol):\n",
    "                        if mol.HasSubstructMatch(s_alcohol_1):\n",
    "                            alcohol_1.append(smi)\n",
    "                        alcohol.append(smi)\n",
    "                    elif mol.HasSubstructMatch(s_aldehyde):\n",
    "                        ald_ket.append(smi)\n",
    "                    elif mol.HasSubstructMatch(s_ketone):\n",
    "                        ald_ket.append(smi)\n",
    "                    elif mol.HasSubstructMatch(s_amine_1):\n",
    "                        amine_1.append(smi)\n",
    "                    elif mol.HasSubstructMatch(s_nitrile):\n",
    "                        nitrile.append(smi)\n",
    "                    elif mol.HasSubstructMatch(s_halide):\n",
    "                        halide.append(smi)\n",
    "            \n",
    "            elif cnt_hetatm == 0:\n",
    "                if double == 1 and triple == 0: alkene.append(smi)\n",
    "                if double == 0 and triple == 1: alkyne.append(smi)"
   ]
  },
  {
   "cell_type": "code",
   "execution_count": 34,
   "metadata": {
    "collapsed": false
   },
   "outputs": [
    {
     "name": "stdout",
     "output_type": "stream",
     "text": [
      "alkene     \t7781\n",
      "ald_ket     \t3398\n",
      "alcohol_1     \t1026\n",
      "nitrile     \t997\n",
      "acid     \t357\n",
      "amide_1     \t274\n",
      "alcohol     \t6097\n",
      "amide     \t2479\n",
      "alkyne     \t1862\n",
      "halide     \t6097\n",
      "ester     \t1036\n",
      "amine_1     \t1026\n"
     ]
    }
   ],
   "source": [
    "subst_dict = {\n",
    "    'alkene': alkene,\n",
    "    'alkyne': alkyne,\n",
    "    'alcohol_1': alcohol_1,\n",
    "    'alcohol': alcohol,\n",
    "    'ald_ket': ald_ket,\n",
    "    'amine_1': amine_1,\n",
    "    'acid': acid,\n",
    "    'ester': ester,\n",
    "    'amide_1': amide_1,\n",
    "    'amide': amide,\n",
    "    'nitrile': nitrile, \n",
    "    'halide': halide\n",
    "}\n",
    "\n",
    "for name, subst in subst_dict.iteritems():\n",
    "    print(name, len(subst), sep='     \\t')"
   ]
  },
  {
   "cell_type": "code",
   "execution_count": 60,
   "metadata": {
    "collapsed": false
   },
   "outputs": [],
   "source": [
    "import cPickle, gzip\n",
    "\n",
    "file_handles = []\n",
    "\n",
    "for name, subst in subst_dict.iteritems():\n",
    "    with gzip.open('data/subst/'+name+'.pkl.gz', 'wb') as f:\n",
    "        cPickle.dump(subst, f, 2)"
   ]
  },
  {
   "cell_type": "code",
   "execution_count": 73,
   "metadata": {
    "collapsed": false
   },
   "outputs": [
    {
     "name": "stdout",
     "output_type": "stream",
     "text": [
      "3078\n"
     ]
    }
   ],
   "source": [
    "_CHLORO = AllChem.ReactionFromSmarts('[F:1]>>[Cl:1]')\n",
    "_BROMO = AllChem.ReactionFromSmarts('[F:1]>>[Br:1]')\n",
    "_IODO = AllChem.ReactionFromSmarts('[F:1]>>[I:1]')\n",
    "\n",
    "halide_1 = []\n",
    "\n",
    "for halide_smi in halide:\n",
    "    _F = Chem.MolFromSmiles(halide_smi)\n",
    "    \n",
    "    if _F.HasSubstructMatch(Chem.MolFromSmarts('[F][CX4H2][c,C&!H0]')):\n",
    "        _Cl = Chem.MolToSmiles(_CHLORO.RunReactants((_F,))[0][0])\n",
    "        _Br = Chem.MolToSmiles(_BROMO.RunReactants((_F,))[0][0])\n",
    "        _I = Chem.MolToSmiles(_IODO.RunReactants((_F,))[0][0])\n",
    "        halide_1 += [_Cl, _Br, _I]\n",
    "\n",
    "print(len(halide_1))"
   ]
  },
  {
   "cell_type": "code",
   "execution_count": 74,
   "metadata": {
    "collapsed": false
   },
   "outputs": [],
   "source": [
    "with gzip.open('data/subst/halide_1.pkl.gz', 'wb') as f:\n",
    "    cPickle.dump(halide_1, f, 2)"
   ]
  },
  {
   "cell_type": "code",
   "execution_count": null,
   "metadata": {
    "collapsed": true
   },
   "outputs": [],
   "source": []
  }
 ],
 "metadata": {
  "kernelspec": {
   "display_name": "Python 2",
   "language": "python",
   "name": "python2"
  },
  "language_info": {
   "codemirror_mode": {
    "name": "ipython",
    "version": 2
   },
   "file_extension": ".py",
   "mimetype": "text/x-python",
   "name": "python",
   "nbconvert_exporter": "python",
   "pygments_lexer": "ipython2",
   "version": "2.7.12"
  }
 },
 "nbformat": 4,
 "nbformat_minor": 1
}
