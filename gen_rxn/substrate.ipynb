{
 "cells": [
  {
   "cell_type": "code",
   "execution_count": 6,
   "metadata": {
    "collapsed": false
   },
   "outputs": [],
   "source": [
    "from __future__ import print_function\n",
    "\n",
    "import glob\n",
    "\n",
    "from rdkit import Chem\n",
    "from rdkit.Chem import Lipinski"
   ]
  },
  {
   "cell_type": "code",
   "execution_count": 33,
   "metadata": {
    "collapsed": false
   },
   "outputs": [
    {
     "name": "stdout",
     "output_type": "stream",
     "text": [
      "data/gdb11/gdb11_size05.smi\n",
      "data/gdb11/gdb11_size02.smi\n",
      "data/gdb11/gdb11_size07.smi\n",
      "data/gdb11/gdb11_size03.smi\n",
      "data/gdb11/gdb11_size04.smi\n",
      "data/gdb11/gdb11_size08.smi\n",
      "data/gdb11/gdb11_size10.smi\n",
      "data/gdb11/gdb11_size06.smi\n",
      "data/gdb11/gdb11_size01.smi\n",
      "data/gdb11/gdb11_size09.smi\n"
     ]
    }
   ],
   "source": [
    "alkene = []\n",
    "alkyne = []\n",
    "alcohol_1 = []\n",
    "alcohol = []\n",
    "ald_ket = []\n",
    "amine_1 = []\n",
    "acid = []\n",
    "ester = []\n",
    "amide_1 = []\n",
    "amide = []\n",
    "nitrile = []\n",
    "halide = []\n",
    "\n",
    "# excluded sterically hindered structures (e.g. neopentyl, tertiary carbon)\n",
    "s_alkene = Chem.MolFromSmarts('[CX3]=[CX3]')\n",
    "s_alkyne = Chem.MolFromSmarts('[CX2]#[CX2]')\n",
    "s_alcohol = Chem.MolFromSmarts('[OX2H1][CX4]')\n",
    "s_alcohol_1 = Chem.MolFromSmarts('[OX2H1][CX4H2][c,C&!H0]')\n",
    "s_ketone = Chem.MolFromSmarts('[#6][CX3](=O)[#6]')\n",
    "s_aldehyde = Chem.MolFromSmarts('[CX3H1](=O)[#6]')\n",
    "s_amine_1 = Chem.MolFromSmarts('[NX3H2][CX4H2][c,C&!H0]') # primary amine, N linked to primary carbon\n",
    "s_acid = Chem.MolFromSmarts('[CX3](=O)[OX2H1]')\n",
    "s_ester = Chem.MolFromSmarts('[c,C&!H0][CX3](=O)[OX2H0][c,C&!H0]')\n",
    "s_amide = Chem.MolFromSmarts('[NX3][CX3](=[OX1])[c,C&!H0]')\n",
    "s_amide_1 = Chem.MolFromSmarts('[NX3H2][CX3](=[OX1])[c,C&!H0]')\n",
    "s_nitrile = Chem.MolFromSmarts('[NX1]#[CX2][c,C&!H0]')\n",
    "s_halide = Chem.MolFromSmarts('[CX4][F,Cl,Br,I]') # only fluoride in GDB\n",
    "\n",
    "\n",
    "for file in glob.iglob(\"data/gdb11/*.smi\"): # excluded size 11\n",
    "    print(file)\n",
    "    with open(file) as f:\n",
    "        for line in f:\n",
    "            mol = Chem.MolFromSmiles(line.split()[0])\n",
    "            smi = Chem.MolToSmiles(mol)\n",
    "            cnt_hetatm = Lipinski.NumHeteroatoms(mol)\n",
    "            \n",
    "            double = len(mol.GetSubstructMatches(s_alkene))\n",
    "            triple = len(mol.GetSubstructMatches(s_alkyne))\n",
    "            \n",
    "            if double == 0 and triple == 0:\n",
    "                if cnt_hetatm == 2:\n",
    "                    if mol.HasSubstructMatch(s_acid):\n",
    "                        acid.append(smi)\n",
    "                    elif mol.HasSubstructMatch(s_ester):\n",
    "                        ester.append(smi)\n",
    "                    elif mol.HasSubstructMatch(s_amide):\n",
    "                        if mol.HasSubstructMatch(s_amide_1):\n",
    "                            amide_1.append(smi)\n",
    "                        amide.append(smi)\n",
    "\n",
    "                elif cnt_hetatm == 1:\n",
    "                    if mol.HasSubstructMatch(s_alcohol):\n",
    "                        if mol.HasSubstructMatch(s_alcohol_1):\n",
    "                            alcohol_1.append(smi)\n",
    "                        alcohol.append(smi)\n",
    "                    elif mol.HasSubstructMatch(s_aldehyde):\n",
    "                        ald_ket.append(smi)\n",
    "                    elif mol.HasSubstructMatch(s_ketone):\n",
    "                        ald_ket.append(smi)\n",
    "                    elif mol.HasSubstructMatch(s_amine_1):\n",
    "                        amine_1.append(smi)\n",
    "                    elif mol.HasSubstructMatch(s_nitrile):\n",
    "                        nitrile.append(smi)\n",
    "                    elif mol.HasSubstructMatch(s_halide):\n",
    "                        halide.append(smi)\n",
    "            \n",
    "            elif cnt_hetatm == 0:\n",
    "                if double == 1 and triple == 0: alkene.append(smi)\n",
    "                if double == 0 and triple == 1: alkyne.append(smi)"
   ]
  },
  {
   "cell_type": "code",
   "execution_count": 34,
   "metadata": {
    "collapsed": false
   },
   "outputs": [
    {
     "name": "stdout",
     "output_type": "stream",
     "text": [
      "alkene     \t7781\n",
      "ald_ket     \t3398\n",
      "alcohol_1     \t1026\n",
      "nitrile     \t997\n",
      "acid     \t357\n",
      "amide_1     \t274\n",
      "alcohol     \t6097\n",
      "amide     \t2479\n",
      "alkyne     \t1862\n",
      "halide     \t6097\n",
      "ester     \t1036\n",
      "amine_1     \t1026\n"
     ]
    }
   ],
   "source": [
    "subst_dict = {\n",
    "    'alkene': alkene,\n",
    "    'alkyne': alkyne,\n",
    "    'alcohol_1': alcohol_1,\n",
    "    'alcohol': alcohol,\n",
    "    'ald_ket': ald_ket,\n",
    "    'amine_1': amine_1,\n",
    "    'acid': acid,\n",
    "    'ester': ester,\n",
    "    'amide_1': amide_1,\n",
    "    'amide': amide,\n",
    "    'nitrile': nitrile, \n",
    "    'halide': halide\n",
    "}\n",
    "\n",
    "for name, subst in subst_dict.iteritems():\n",
    "    print(name, len(subst), sep='     \\t')"
   ]
  },
  {
   "cell_type": "code",
   "execution_count": 35,
   "metadata": {
    "collapsed": false
   },
   "outputs": [],
   "source": [
    "import cPickle, gzip\n",
    "\n",
    "file_handles = []\n",
    "\n",
    "for name, subst in subst_dict.iteritems():\n",
    "    with gzip.open('data/subst/'+name+'.pkl.gz', 'wb') as f:\n",
    "        cPickle.dump(subst, f, 2)"
   ]
  },
  {
   "cell_type": "code",
   "execution_count": 37,
   "metadata": {
    "collapsed": false
   },
   "outputs": [
    {
     "name": "stdout",
     "output_type": "stream",
     "text": [
      "['COC(C)=O', 'O=C1CCO1', 'CC(=O)OC(C)C', 'CCCOC(C)=O', 'CCCC(=O)OC', 'CCOC(=O)CC', 'COC(=O)C(C)C', 'CC1COC(=O)C1', 'CC1CCC(=O)O1', 'CCC1CC(=O)O1', 'CC(=O)OC1CC1', 'O=C1CCCCO1', 'CC1CCOC1=O', 'CC1OC(=O)C1C', 'O=C1CC2CC2O1', 'O=C1OC2CC1C2', 'CCC1COC1=O', 'COC(=O)C1CC1', 'O=C1OCC2CC12', 'CC(=O)OCC(C)C', 'CC1(C)COC(=O)C1', 'CCC(C)OC(C)=O', 'COC(=O)CC(C)C', 'CCC(=O)OC(C)C', 'CCCCOC(C)=O', 'CCCC(=O)OCC', 'CCOC(=O)C(C)C', 'CC(C)C1CC(=O)O1', 'CC1CCOC(=O)C1', 'CC1CCCC(=O)O1', 'CC(=O)OC1CC1C', 'CC1CC(=O)OC1C', 'CC1CC(C)C(=O)O1', 'CC12CC(=O)OC1C2', 'CC(=O)OC1CCC1', 'CCCC1CC(=O)O1', 'O=C1CC2CC(C2)O1', 'CCC(C)C(=O)OC', 'CCCCC(=O)OC', 'CCCOC(=O)CC', 'CC1CCC(=O)OC1', 'CC12COC(=O)C1C2', 'CCC1COC(=O)C1', 'CCC1CCC(=O)O1', 'COC(=O)CC1CC1', 'CCC(=O)OC1CC1', 'CC(=O)OCC1CC1', 'O=C1CC2(CC2)CO1', 'CCC1OC(=O)C1C', 'CC1CCCOC1=O', 'O=C1CCCCCO1', 'CC1COC(=O)C1C', 'CCCC1COC1=O', 'COC(=O)C1CCC1', 'CC(C)C1COC1=O', 'COC(=O)C1CC1C', 'CC1C2CC(=O)OC12', 'O=C1CC2CCC2O1', 'CCC1CCOC1=O', 'CCOC(=O)C1CC1', 'CCC1C(=O)OC1C', 'O=C1OCC2CC1C2', 'CC1C(=O)OC2CC21', 'CC1C2CC1C(=O)O2', 'CC1OC(=O)C2CC12', 'O=C1CC2CC2CO1', 'O=C1CCC2CC2O1', 'O=C1OC2CCC1C2', 'O=C1CC(C2CC2)O1', 'O=C1OCC2CCC12', 'O=C1OC2CCCC12', 'CC1C2COC(=O)C12', 'O=C1OCCC2CC12', 'O=C1OCC1C1CC1', 'CC(=O)OCCC(C)(C)C', 'CCOC(=O)CC(C)(C)C', 'CC(=O)OC(C)C(C)(C)C', 'CC1OC(=O)C1C(C)(C)C', 'CC(C)(C)CC1CC(=O)O1', 'CC(=O)OC1CC(C)(C)C1', 'CC1CC(C)(C)CC(=O)O1', 'CC(=O)OC(C)CC(C)C', 'CC(C)CC(=O)OC(C)C', 'COC(=O)C(C)C(C)(C)C', 'COC(=O)CCC(C)(C)C', 'CCC(=O)OCC(C)(C)C', 'CCC(C)(C)CC(=O)OC', 'CCC(C)(C)COC(C)=O', 'CC1C(=O)OC1C(C)(C)C', 'CC(C)(C)CC1COC1=O', 'CC(=O)OCCCC(C)C', 'CC1COC(=O)CC1(C)C', 'CC(=O)OCC1CC1(C)C', 'CC1(C)CCCOC(=O)C1', 'CC(=O)OC1C(C)C1(C)C', 'CCC1OC(=O)CC1(C)C', 'CC(=O)OC1CCC1(C)C', 'CCCCC(C)OC(C)=O', 'CCCOC(=O)CC(C)C', 'CCCCC(=O)OC(C)C']\n"
     ]
    }
   ],
   "source": [
    "print(ester[:100])"
   ]
  },
  {
   "cell_type": "code",
   "execution_count": null,
   "metadata": {
    "collapsed": true
   },
   "outputs": [],
   "source": []
  }
 ],
 "metadata": {
  "kernelspec": {
   "display_name": "Python 2",
   "language": "python",
   "name": "python2"
  },
  "language_info": {
   "codemirror_mode": {
    "name": "ipython",
    "version": 2
   },
   "file_extension": ".py",
   "mimetype": "text/x-python",
   "name": "python",
   "nbconvert_exporter": "python",
   "pygments_lexer": "ipython2",
   "version": "2.7.12"
  }
 },
 "nbformat": 4,
 "nbformat_minor": 1
}
