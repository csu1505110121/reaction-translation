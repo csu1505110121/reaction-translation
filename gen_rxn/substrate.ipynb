{
 "cells": [
  {
   "cell_type": "code",
   "execution_count": 61,
   "metadata": {
    "collapsed": false
   },
   "outputs": [],
   "source": [
    "from __future__ import print_function\n",
    "\n",
    "import glob\n",
    "\n",
    "from rdkit import Chem\n",
    "from rdkit.Chem import AllChem, Lipinski"
   ]
  },
  {
   "cell_type": "code",
   "execution_count": 33,
   "metadata": {
    "collapsed": false
   },
   "outputs": [
    {
     "name": "stdout",
     "output_type": "stream",
     "text": [
      "data/gdb11/gdb11_size05.smi\n",
      "data/gdb11/gdb11_size02.smi\n",
      "data/gdb11/gdb11_size07.smi\n",
      "data/gdb11/gdb11_size03.smi\n",
      "data/gdb11/gdb11_size04.smi\n",
      "data/gdb11/gdb11_size08.smi\n",
      "data/gdb11/gdb11_size10.smi\n",
      "data/gdb11/gdb11_size06.smi\n",
      "data/gdb11/gdb11_size01.smi\n",
      "data/gdb11/gdb11_size09.smi\n"
     ]
    }
   ],
   "source": [
    "alkene = []\n",
    "alkyne = []\n",
    "alcohol_1 = []\n",
    "alcohol = []\n",
    "ald_ket = []\n",
    "amine_1 = []\n",
    "acid = []\n",
    "ester = []\n",
    "amide_1 = []\n",
    "amide = []\n",
    "nitrile = []\n",
    "halide = []\n",
    "\n",
    "# excluded sterically hindered structures (e.g. neopentyl, tertiary carbon)\n",
    "s_alkene = Chem.MolFromSmarts('[CX3]=[CX3]')\n",
    "s_alkyne = Chem.MolFromSmarts('[CX2]#[CX2]')\n",
    "s_alcohol = Chem.MolFromSmarts('[OX2H1][CX4]')\n",
    "s_alcohol_1 = Chem.MolFromSmarts('[OX2H1][CX4H2][c,C&!H0]')\n",
    "s_ketone = Chem.MolFromSmarts('[#6][CX3](=O)[#6]')\n",
    "s_aldehyde = Chem.MolFromSmarts('[CX3H1](=O)[#6]')\n",
    "s_amine_1 = Chem.MolFromSmarts('[NX3H2][CX4H2][c,C&!H0]') # primary amine, N linked to primary carbon\n",
    "s_acid = Chem.MolFromSmarts('[CX3](=O)[OX2H1]')\n",
    "s_ester = Chem.MolFromSmarts('[c,C&!H0][CX3](=O)[OX2H0][c,C&!H0]')\n",
    "s_amide = Chem.MolFromSmarts('[NX3][CX3](=[OX1])[c,C&!H0]')\n",
    "s_amide_1 = Chem.MolFromSmarts('[NX3H2][CX3](=[OX1])[c,C&!H0]')\n",
    "s_nitrile = Chem.MolFromSmarts('[NX1]#[CX2][c,C&!H0]')\n",
    "s_halide = Chem.MolFromSmarts('[CX4][F,Cl,Br,I]') # only fluoride in GDB\n",
    "\n",
    "\n",
    "for file in glob.iglob(\"data/gdb11/*.smi\"): # excluded size 11\n",
    "    print(file)\n",
    "    with open(file) as f:\n",
    "        for line in f:\n",
    "            mol = Chem.MolFromSmiles(line.split()[0])\n",
    "            smi = Chem.MolToSmiles(mol)\n",
    "            cnt_hetatm = Lipinski.NumHeteroatoms(mol)\n",
    "            \n",
    "            double = len(mol.GetSubstructMatches(s_alkene))\n",
    "            triple = len(mol.GetSubstructMatches(s_alkyne))\n",
    "            \n",
    "            if double == 0 and triple == 0:\n",
    "                if cnt_hetatm == 2:\n",
    "                    if mol.HasSubstructMatch(s_acid):\n",
    "                        acid.append(smi)\n",
    "                    elif mol.HasSubstructMatch(s_ester):\n",
    "                        ester.append(smi)\n",
    "                    elif mol.HasSubstructMatch(s_amide):\n",
    "                        if mol.HasSubstructMatch(s_amide_1):\n",
    "                            amide_1.append(smi)\n",
    "                        amide.append(smi)\n",
    "\n",
    "                elif cnt_hetatm == 1:\n",
    "                    if mol.HasSubstructMatch(s_alcohol):\n",
    "                        if mol.HasSubstructMatch(s_alcohol_1):\n",
    "                            alcohol_1.append(smi)\n",
    "                        alcohol.append(smi)\n",
    "                    elif mol.HasSubstructMatch(s_aldehyde):\n",
    "                        ald_ket.append(smi)\n",
    "                    elif mol.HasSubstructMatch(s_ketone):\n",
    "                        ald_ket.append(smi)\n",
    "                    elif mol.HasSubstructMatch(s_amine_1):\n",
    "                        amine_1.append(smi)\n",
    "                    elif mol.HasSubstructMatch(s_nitrile):\n",
    "                        nitrile.append(smi)\n",
    "                    elif mol.HasSubstructMatch(s_halide):\n",
    "                        halide.append(smi)\n",
    "            \n",
    "            elif cnt_hetatm == 0:\n",
    "                if double == 1 and triple == 0: alkene.append(smi)\n",
    "                if double == 0 and triple == 1: alkyne.append(smi)"
   ]
  },
  {
   "cell_type": "code",
   "execution_count": 34,
   "metadata": {
    "collapsed": false
   },
   "outputs": [
    {
     "name": "stdout",
     "output_type": "stream",
     "text": [
      "alkene     \t7781\n",
      "ald_ket     \t3398\n",
      "alcohol_1     \t1026\n",
      "nitrile     \t997\n",
      "acid     \t357\n",
      "amide_1     \t274\n",
      "alcohol     \t6097\n",
      "amide     \t2479\n",
      "alkyne     \t1862\n",
      "halide     \t6097\n",
      "ester     \t1036\n",
      "amine_1     \t1026\n"
     ]
    }
   ],
   "source": [
    "subst_dict = {\n",
    "    'alkene': alkene,\n",
    "    'alkyne': alkyne,\n",
    "    'alcohol_1': alcohol_1,\n",
    "    'alcohol': alcohol,\n",
    "    'ald_ket': ald_ket,\n",
    "    'amine_1': amine_1,\n",
    "    'acid': acid,\n",
    "    'ester': ester,\n",
    "    'amide_1': amide_1,\n",
    "    'amide': amide,\n",
    "    'nitrile': nitrile, \n",
    "    'halide': halide\n",
    "}\n",
    "\n",
    "for name, subst in subst_dict.iteritems():\n",
    "    print(name, len(subst), sep='     \\t')"
   ]
  },
  {
   "cell_type": "code",
   "execution_count": 60,
   "metadata": {
    "collapsed": false
   },
   "outputs": [],
   "source": [
    "import cPickle, gzip\n",
    "\n",
    "file_handles = []\n",
    "\n",
    "for name, subst in subst_dict.iteritems():\n",
    "    with gzip.open('data/subst/'+name+'.pkl.gz', 'wb') as f:\n",
    "        cPickle.dump(subst, f, 2)"
   ]
  },
  {
   "cell_type": "code",
   "execution_count": 73,
   "metadata": {
    "collapsed": false
   },
   "outputs": [
    {
     "name": "stdout",
     "output_type": "stream",
     "text": [
      "3078\n"
     ]
    }
   ],
   "source": [
    "_CHLORO = AllChem.ReactionFromSmarts('[F:1]>>[Cl:1]')\n",
    "_BROMO = AllChem.ReactionFromSmarts('[F:1]>>[Br:1]')\n",
    "_IODO = AllChem.ReactionFromSmarts('[F:1]>>[I:1]')\n",
    "\n",
    "halide_1 = []\n",
    "\n",
    "for halide_smi in halide:\n",
    "    _F = Chem.MolFromSmiles(halide_smi)\n",
    "    \n",
    "    if _F.HasSubstructMatch(Chem.MolFromSmarts('[F][CX4H2][c,C&!H0]')):\n",
    "        _Cl = Chem.MolToSmiles(_CHLORO.RunReactants((_F,))[0][0])\n",
    "        _Br = Chem.MolToSmiles(_BROMO.RunReactants((_F,))[0][0])\n",
    "        _I = Chem.MolToSmiles(_IODO.RunReactants((_F,))[0][0])\n",
    "        halide_1 += [_Cl, _Br, _I]\n",
    "\n",
    "print(len(halide_1))"
   ]
  },
  {
   "cell_type": "code",
   "execution_count": 74,
   "metadata": {
    "collapsed": false
   },
   "outputs": [],
   "source": [
    "with gzip.open('data/subst/halide_1.pkl.gz', 'wb') as f:\n",
    "    cPickle.dump(halide_1, f, 2)"
   ]
  },
  {
   "cell_type": "code",
   "execution_count": 75,
   "metadata": {
    "collapsed": false
   },
   "outputs": [
    {
     "data": {
      "text/plain": [
       "['CC1C2CC(CBr)CC12C',\n",
       " 'CC1C2CC(CI)CC12C',\n",
       " 'CC1C2CC(CCl)C1(C)C2',\n",
       " 'CC1C2CC(CBr)C1(C)C2',\n",
       " 'CC1C2CC(CI)C1(C)C2',\n",
       " 'CC12CCC1CC(CCl)C2',\n",
       " 'CC12CCC1CC(CBr)C2',\n",
       " 'CC12CCC1CC(CI)C2',\n",
       " 'CC1CC(CCl)C2(C)CC12',\n",
       " 'CC1CC(CBr)C2(C)CC12',\n",
       " 'CC1CC(CI)C2(C)CC12',\n",
       " 'CC1CCC2(C)C(CCl)C12',\n",
       " 'CC1CCC2(C)C(CBr)C12',\n",
       " 'CC1CCC2(C)C(CI)C12',\n",
       " 'CC12CCC(CC1CCl)C2',\n",
       " 'CC12CCC(CC1CBr)C2',\n",
       " 'CC12CCC(CC1CI)C2',\n",
       " 'CC1CC(C(C)CCl)C1C',\n",
       " 'CC1CC(C(C)CBr)C1C',\n",
       " 'CC1CC(C(C)CI)C1C',\n",
       " 'CC(CCl)CC1CCC1C',\n",
       " 'CC(CBr)CC1CCC1C',\n",
       " 'CC(CI)CC1CCC1C',\n",
       " 'CC(C)C(C)C1CC1CCl',\n",
       " 'CC(C)C(C)C1CC1CBr',\n",
       " 'CC(C)C(C)C1CC1CI',\n",
       " 'CC(CCl)CC1CCCC1',\n",
       " 'CC(CBr)CC1CCCC1',\n",
       " 'CC(CI)CC1CCCC1',\n",
       " 'CC(C)C1CC1C(C)CCl',\n",
       " 'CC(C)C1CC1C(C)CBr',\n",
       " 'CC(C)C1CC1C(C)CI',\n",
       " 'CC1CCC(C1)C(C)CCl',\n",
       " 'CC1CCC(C1)C(C)CBr',\n",
       " 'CC1CCC(C1)C(C)CI',\n",
       " 'CC1CCC(CCCCl)C1',\n",
       " 'CC1CCC(CCCBr)C1',\n",
       " 'CC1CCC(CCCI)C1',\n",
       " 'ClCC1CC2(CCCC2)C1',\n",
       " 'BrCC1CC2(CCCC2)C1',\n",
       " 'ICC1CC2(CCCC2)C1',\n",
       " 'CC(CCl)C12CCC(C1)C2',\n",
       " 'CC(CBr)C12CCC(C1)C2',\n",
       " 'CC(CI)C12CCC(C1)C2',\n",
       " 'ClCCCC12CCC(C1)C2',\n",
       " 'BrCCCC12CCC(C1)C2',\n",
       " 'ICCCC12CCC(C1)C2',\n",
       " 'CC1CCC2(C1)CC2CCl',\n",
       " 'CC1CCC2(C1)CC2CBr',\n",
       " 'CC1CCC2(C1)CC2CI',\n",
       " 'CC(C)C1CC(C)C1CCl',\n",
       " 'CC(C)C1CC(C)C1CBr',\n",
       " 'CC(C)C1CC(C)C1CI',\n",
       " 'CC1CCC(C)C(CCl)C1',\n",
       " 'CC1CCC(C)C(CBr)C1',\n",
       " 'CC1CCC(C)C(CI)C1',\n",
       " 'C=c1ccc(=C)c(c1)CCl',\n",
       " 'C=c1ccc(=C)c(c1)CBr',\n",
       " 'C=c1ccc(=C)c(c1)CI',\n",
       " 'Cc1ccc(C)c(c1)CCl',\n",
       " 'Cc1ccc(C)c(c1)CBr',\n",
       " 'Cc1ccc(C)c(c1)CI',\n",
       " 'CCC1CC(CCCCl)C1',\n",
       " 'CCC1CC(CCCBr)C1',\n",
       " 'CCC1CC(CCCI)C1',\n",
       " 'CCCCC1CC(CCl)C1',\n",
       " 'CCCCC1CC(CBr)C1',\n",
       " 'CCCCC1CC(CI)C1',\n",
       " 'CC(C)CCC1CC1CCl',\n",
       " 'CC(C)CCC1CC1CBr',\n",
       " 'CC(C)CCC1CC1CI',\n",
       " 'CC1CCCCC(CCl)C1',\n",
       " 'CC1CCCCC(CBr)C1',\n",
       " 'CC1CCCCC(CI)C1',\n",
       " 'CC(CCCCl)CC1CC1',\n",
       " 'CC(CCCBr)CC1CC1',\n",
       " 'CC(CCCI)CC1CC1',\n",
       " 'CC(C)CC1C(C)C1CCl',\n",
       " 'CC(C)CC1C(C)C1CBr',\n",
       " 'CC(C)CC1C(C)C1CI',\n",
       " 'CCC1CC(C)CC1CCl',\n",
       " 'CCC1CC(C)CC1CBr',\n",
       " 'CCC1CC(C)CC1CI',\n",
       " 'CC(C)CC1CCC1CCl',\n",
       " 'CC(C)CC1CCC1CBr',\n",
       " 'CC(C)CC1CCC1CI',\n",
       " 'CC(C)CC(CCl)C1CC1',\n",
       " 'CC(C)CC(CBr)C1CC1',\n",
       " 'CC(C)CC(CI)C1CC1',\n",
       " 'CCC12CC(CC1CCl)C2',\n",
       " 'CCC12CC(CC1CBr)C2',\n",
       " 'CCC12CC(CC1CI)C2',\n",
       " 'CC1CC(CCl)C2(CC2)C1',\n",
       " 'CC1CC(CBr)C2(CC2)C1',\n",
       " 'CC1CC(CI)C2(CC2)C1',\n",
       " 'CC1(C)CCC2C(CCl)C21',\n",
       " 'CC1(C)CCC2C(CBr)C21',\n",
       " 'CC1(C)CCC2C(CI)C21',\n",
       " 'CC1(C)CC1C1CC1CCl',\n",
       " 'CC1(C)CC1C1CC1CBr']"
      ]
     },
     "execution_count": 75,
     "metadata": {},
     "output_type": "execute_result"
    }
   ],
   "source": [
    "halide_1[1000:1100]"
   ]
  },
  {
   "cell_type": "code",
   "execution_count": null,
   "metadata": {
    "collapsed": true
   },
   "outputs": [],
   "source": []
  }
 ],
 "metadata": {
  "kernelspec": {
   "display_name": "Python 2",
   "language": "python",
   "name": "python2"
  },
  "language_info": {
   "codemirror_mode": {
    "name": "ipython",
    "version": 2
   },
   "file_extension": ".py",
   "mimetype": "text/x-python",
   "name": "python",
   "nbconvert_exporter": "python",
   "pygments_lexer": "ipython2",
   "version": "2.7.12"
  }
 },
 "nbformat": 4,
 "nbformat_minor": 1
}
