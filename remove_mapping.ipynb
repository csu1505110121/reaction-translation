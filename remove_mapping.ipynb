{
 "cells": [
  {
   "cell_type": "code",
   "execution_count": 2,
   "metadata": {
    "collapsed": true
   },
   "outputs": [],
   "source": [
    "from __future__ import print_function\n",
    "\n",
    "import os, sys\n",
    "import re\n",
    "import cPickle, gzip\n",
    "import progressbar\n",
    "from rdkit.Chem import AllChem\n",
    "\n",
    "data_directory = 'data'\n",
    "data_filename = '2001-2013_USPTOapplications_reactionSmiles_feb2014filters.rsmi'\n",
    "removed_mapping_filename = '2001-2013_rsmi_filtered_removed_mapping.pkl.gz'\n",
    "length_data_filename = 'length_data.pkl.gz'\n",
    "\n",
    "data_filepath = os.path.join(data_directory, data_filename)\n",
    "removed_mapping_filepath = os.path.join(data_directory, removed_mapping_filename)\n",
    "length_data_filepath = length_data_filename"
   ]
  },
  {
   "cell_type": "markdown",
   "metadata": {},
   "source": [
    "Remove reaction atom mapping in reaction SMILES string"
   ]
  },
  {
   "cell_type": "code",
   "execution_count": 1,
   "metadata": {
    "collapsed": false
   },
   "outputs": [
    {
     "name": "stderr",
     "output_type": "stream",
     "text": [
      " 99% (1196008 of 1196165) |################ | Elapsed Time: 0:08:28 ETA: 0:00:00"
     ]
    }
   ],
   "source": [
    "length_list = [] # list of tuple (reactants length, products length)\n",
    "num_lines = sum(1 for line in open(data_filepath, 'r')) # total lines\n",
    "bar = progressbar.ProgressBar(redirect_stdout=True, max_value=num_lines)\n",
    "\n",
    "with open(data_filepath, 'r') as data_file:\n",
    "    with gzip.open(removed_mapping_filepath, 'wb+') as output_file:\n",
    "        for i, line in enumerate(data_file):\n",
    "            rsmi = re.split(re.compile(r'[ \\t]'), line)\n",
    "            rxn = AllChem.ReactionFromSmarts(rsmi[0], useSmiles=True)\n",
    "            AllChem.RemoveMappingNumbersFromReactions(rxn)\n",
    "            output_smiles = AllChem.ReactionToSmiles(rxn)\n",
    "            length_list.append((output_smiles.rfind('>'), \\\n",
    "                                len(output_smiles)-output_smiles.rfind('>')-1))\n",
    "            cPickle.dump((output_smiles, rsmi[2]+rsmi[1]), output_file, 2)\n",
    "            bar.update(i)\n",
    "\n",
    "# save length tuple list for later use\n",
    "with open(length_data_filename, 'wb+') as f:\n",
    "    cPickle.dump(length_list, f, 2)"
   ]
  },
  {
   "cell_type": "markdown",
   "metadata": {},
   "source": [
    "Plot products length by reactants length"
   ]
  },
  {
   "cell_type": "code",
   "execution_count": 13,
   "metadata": {
    "collapsed": false
   },
   "outputs": [
    {
     "data": {
      "image/png": "[encoded data removed]",
      "text/plain": [
       "<matplotlib.figure.Figure at 0x7f40ecbb33d0>"
      ]
     },
     "metadata": {},
     "output_type": "display_data"
    }
   ],
   "source": [
    "import matplotlib.pyplot as plt\n",
    "%matplotlib inline\n",
    "\n",
    "with open(length_data_filename, 'rb+') as f:\n",
    "    length_data = cPickle.load(f)\n",
    "\n",
    "plt.figure(figsize=(4,4))\n",
    "plt.scatter(*zip(*length_data), s=1, facecolor='0.5', lw=0)\n",
    "plt.xlabel('reactants length')\n",
    "plt.ylabel('products length')\n",
    "plt.xlim(0, 1200)\n",
    "plt.ylim(0, 500)\n",
    "plt.show()"
   ]
  },
  {
   "cell_type": "code",
   "execution_count": null,
   "metadata": {
    "collapsed": false
   },
   "outputs": [],
   "source": [
    "import numpy as np\n",
    "\n",
    "values, base = np.histogram(zip(*length_data)[0], bins=40)\n",
    "cumulative = np.cumsum(values)\n",
    "plt.figure(figsize=(5,4))\n",
    "plt.plot(base[:-1], cumulative, c='blue') # reactants_length is blue\n",
    "values, base = np.histogram(zip(*length_data)[1], bins=40)\n",
    "cumulative = np.cumsum(values)\n",
    "plt.plot(base[:-1], cumulative, c='green') # products_length is green\n",
    "\n",
    "plt.xlim(0, 300)\n",
    "plt.show()"
   ]
  },
  {
   "cell_type": "code",
   "execution_count": 26,
   "metadata": {
    "collapsed": false
   },
   "outputs": [
    {
     "name": "stdout",
     "output_type": "stream",
     "text": [
      "total: 1196165\n",
      "cut: [259101, 523004, 791098, 1095631]\n"
     ]
    }
   ],
   "source": [
    "print(\"total:\", len(length_data))\n",
    "count = [0, 0, 0, 0]\n",
    "for length_tuple in length_data:\n",
    "    if(length_tuple[0] < 150 and length_tuple[1] < 80): count[3] += 1\n",
    "    if(length_tuple[0] < 90 and length_tuple[1] < 65): count[2] += 1\n",
    "    if(length_tuple[0] < 70 and length_tuple[1] < 60): count[1] += 1\n",
    "    if(length_tuple[0] < 54 and length_tuple[1] < 54): count[0] += 1\n",
    "print(\"cut:\", count)"
   ]
  },
  {
   "cell_type": "code",
   "execution_count": null,
   "metadata": {
    "collapsed": true
   },
   "outputs": [],
   "source": []
  }
 ],
 "metadata": {
  "kernelspec": {
   "display_name": "Python 2",
   "language": "python",
   "name": "python2"
  },
  "language_info": {
   "codemirror_mode": {
    "name": "ipython",
    "version": 2
   },
   "file_extension": ".py",
   "mimetype": "text/x-python",
   "name": "python",
   "nbconvert_exporter": "python",
   "pygments_lexer": "ipython2",
   "version": "2.7.12"
  }
 },
 "nbformat": 4,
 "nbformat_minor": 1
}
