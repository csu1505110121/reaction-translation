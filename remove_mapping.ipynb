{
 "cells": [
  {
   "cell_type": "code",
   "execution_count": 1,
   "metadata": {
    "collapsed": true
   },
   "outputs": [],
   "source": [
    "from __future__ import print_function\n",
    "\n",
    "import os\n",
    "import re\n",
    "import cPickle, gzip\n",
    "import progressbar\n",
    "from rdkit.Chem import AllChem\n",
    "\n",
    "data_directory = 'data'\n",
    "data_filename = '2001-2013_USPTOapplications_reactionSmiles_feb2014filters.rsmi'\n",
    "removed_mapping_filename = '2001-2013_rsmi_filtered_removed_mapping.pkl.gz'\n",
    "length_data_filename = 'length_data.pkl.gz'\n",
    "\n",
    "data_filepath = os.path.join(data_directory, data_filename)\n",
    "removed_mapping_filepath = os.path.join(data_directory, removed_mapping_filename)\n",
    "length_data_filepath = length_data_filename"
   ]
  },
  {
   "cell_type": "markdown",
   "metadata": {},
   "source": [
    "Remove reaction atom mapping in reaction SMILES string"
   ]
  },
  {
   "cell_type": "code",
   "execution_count": 53,
   "metadata": {
    "collapsed": false
   },
   "outputs": [
    {
     "name": "stderr",
     "output_type": "stream",
     "text": [
      " 99% (1196161 of 1196165) |################ | Elapsed Time: 0:08:24 ETA: 0:00:00"
     ]
    }
   ],
   "source": [
    "length_list = [] # list of tuple (reactants length, products length)\n",
    "num_lines = sum(1 for line in open(data_filepath, 'r')) # total lines\n",
    "bar = progressbar.ProgressBar(redirect_stdout=True, max_value=num_lines)\n",
    "\n",
    "with open(data_filepath, 'r') as data_file:\n",
    "    with gzip.open(removed_mapping_filepath, 'wb') as output_file:\n",
    "        for i, line in enumerate(data_file):\n",
    "            rsmi = re.split(re.compile(r'[ \\t]'), line)\n",
    "            rxn = AllChem.ReactionFromSmarts(rsmi[0], useSmiles=True)\n",
    "            AllChem.RemoveMappingNumbersFromReactions(rxn)\n",
    "            output_smiles = AllChem.ReactionToSmiles(rxn)\n",
    "            length_list.append((output_smiles.rfind('>'), \\\n",
    "                                len(output_smiles)-output_smiles.rfind('>')-1))\n",
    "            cPickle.dump((output_smiles, rsmi[2]+rsmi[1]), output_file, 2)\n",
    "            bar.update(i)\n",
    "\n",
    "# save length tuple list for later use\n",
    "with open(length_data_filename, 'wb+') as f:\n",
    "    cPickle.dump(length_list, f, 2)"
   ]
  },
  {
   "cell_type": "markdown",
   "metadata": {},
   "source": [
    "Plot products length by reactants length"
   ]
  },
  {
   "cell_type": "code",
   "execution_count": 4,
   "metadata": {
    "collapsed": false
   },
   "outputs": [
    {
     "data": {
      "image/png": "[encoded data removed]",
      "text/plain": [
       "<matplotlib.figure.Figure at 0x7fe2d0cc4a10>"
      ]
     },
     "metadata": {},
     "output_type": "display_data"
    }
   ],
   "source": [
    "import matplotlib.pyplot as plt\n",
    "%matplotlib inline\n",
    "\n",
    "with open(length_data_filename, 'rb+') as f:\n",
    "    length_data = cPickle.load(f)\n",
    "\n",
    "plt.figure(figsize=(4,4))\n",
    "plt.scatter(*zip(*length_data), s=1, facecolor='0.5', lw=0)\n",
    "plt.xlabel('reactants length')\n",
    "plt.ylabel('products length')\n",
    "plt.xlim(0, 1200)\n",
    "plt.ylim(0, 500)\n",
    "plt.show()"
   ]
  },
  {
   "cell_type": "code",
   "execution_count": 39,
   "metadata": {
    "collapsed": false
   },
   "outputs": [
    {
     "data": {
      "image/png": "[encoded data removed]",
      "text/plain": [
       "<matplotlib.figure.Figure at 0x7f40eca0b950>"
      ]
     },
     "metadata": {},
     "output_type": "display_data"
    }
   ],
   "source": [
    "import numpy as np\n",
    "\n",
    "values, base = np.histogram(zip(*length_data)[0], bins=40)\n",
    "cumulative = np.cumsum(values)\n",
    "plt.figure(figsize=(5,4))\n",
    "plt.plot(base[:-1], cumulative, c='blue') # reactants_length is blue\n",
    "values, base = np.histogram(zip(*length_data)[1], bins=40)\n",
    "cumulative = np.cumsum(values)\n",
    "plt.plot(base[:-1], cumulative, c='green') # products_length is green\n",
    "\n",
    "plt.xlim(0, 300)\n",
    "plt.xlabel('string length')\n",
    "plt.ylabel('cumulative count')\n",
    "plt.show()"
   ]
  },
  {
   "cell_type": "markdown",
   "metadata": {},
   "source": [
    "Bucket size determination"
   ]
  },
  {
   "cell_type": "code",
   "execution_count": 5,
   "metadata": {
    "collapsed": false
   },
   "outputs": [
    {
     "name": "stdout",
     "output_type": "stream",
     "text": [
      "total: 1196165\n",
      "cut: [259101, 523004, 791098, 1095631]\n",
      "long reactants: 37\n",
      "long products: 0\n"
     ]
    }
   ],
   "source": [
    "print(\"total:\", len(length_data))\n",
    "count = [0, 0, 0, 0]\n",
    "long_reactants = long_products = 0\n",
    "list_long_reactants = [] # no list_long_products because long_products was 0\n",
    "for i, length_tuple in enumerate(length_data):\n",
    "    if(length_tuple[0] < 150 and length_tuple[1] < 80):\n",
    "        count[3] += 1\n",
    "        if(length_tuple[0] < 90 and length_tuple[1] < 65):\n",
    "            count[2] += 1\n",
    "            if(length_tuple[0] < 70 and length_tuple[1] < 60):\n",
    "                count[1] += 1\n",
    "                if(length_tuple[0] < 54 and length_tuple[1] < 54):\n",
    "                    count[0] += 1\n",
    "        if(length_tuple[0] > (10 * length_tuple[1])):\n",
    "            long_reactants += 1\n",
    "            list_long_reactants.append(i)\n",
    "        if((length_tuple[0] * 10) < length_tuple[1]):\n",
    "            long_products += 1\n",
    "print(\"cut:\", count)\n",
    "print(\"long reactants:\", long_reactants)\n",
    "print(\"long products:\", long_products)"
   ]
  },
  {
   "cell_type": "markdown",
   "metadata": {},
   "source": [
    "RSMIs that length_reactants is >10x longer than length_products"
   ]
  },
  {
   "cell_type": "code",
   "execution_count": 6,
   "metadata": {
    "collapsed": false
   },
   "outputs": [
    {
     "name": "stdout",
     "output_type": "stream",
     "text": [
      "   9431 | CC(C)CC(N)C(=O)O.CC(C)C[C@H](N)C(=O)O.Cl.O=C(O)CC(O)(CC(=O)O)C(=O)O.O=C([O-])CC(O)(CC(=O)[O-])C(=O)[O-].O=C([O-])CC(O)(CC(=O)[O-])C(=O)[O-].[Cl-].[Cl-].[Na+].[Na+].[Na+].[Na+].[OH-].[Zn+2]>O>O=C([O-])CC(O)(CC(=O)[O-])C(=O)[O-].[Zn]\n",
      "  18690 | CCOC(=O)CBr.NC1CCCc2ccccc21.NCCc1ccccc1.O=C(O)CN1CCC(N2C(=O)Nc3ccccc32)CC1.O=C1Nc2ccccc2N1C1CCNCC1>CC#N>CCOC(=O)CN1CCC(N2C(=O)Nc3ccccc32)CC1\n",
      "  22154 | C=CCOC(=O)Cl.CC(C)(C)OC(=O)C(N)CCCCN>CCN(C(C)C)C(C)C.ClCCl>C=CCOC(=O)C(N)CCCCN\n",
      "  41014 | Cc1ccc(S(=O)(=O)Cl)cc1.Cc1ccc2c(c1)C=CC(C)(C)[NH+]2[O-]>CC(Cl)Cl>Cc1ccc2nc(CCl)ccc2c1\n",
      "  45021 | CCCCCCCCCCCCN(C)C.O=C=NCCCl>CN(C)C=O>CCCCCCCCCCCC[NH+](C)C.CCNC(N)=O\n",
      "  78680 | CCCCCCCCCCCCOS(=O)(=O)[O-].Cc1cc(C(C)(C)C)c(O)c(C(C)(C)C)c1.[Na+]>>CCCCCCCCCCCC\n",
      "  95717 | CCN(CC)CC.COC(=O)[C@H](Cc1ccc(O)cc1)NC(=O)OC(C)(C)C.CS(=O)(=O)Cl>Cc1ccccc1>COC(=O)[C@H](Cc1ccc(OS(C)(=O)=O)cc1)NC(=O)OC(C)(C)C\n",
      " 110961 | CC(=O)N[C@@H](CS)C(=O)O.[Na+].[OH-]>O>CC(=O)N[C@@H](CS)C(=O)[O-].[Na+]\n",
      " 124914 | COC(=O)c1ccc(I)cc1N.COC(=O)c1ccc(I)cc1NS(=O)(=O)c1cccc2nccnc12.O=S(=O)(Cl)c1cccc2nccnc12.c1ccncc1>ClCCl>O=C(c1ccc(I)cc1NS(=O)(=O)c1cccc2nccnc12)N1CCCCC1\n",
      " 126862 | O=C(O[N+](=O)[O-])c1ccccc1>CCOC(C)=O.ClCCl>NOC(=O)c1ccccc1\n",
      " 134391 | CC(C)(C)OC(=O)N1CCNC(=O)CC1.Cc1cc(OCCCI)ccc1C=O.Cc1cc(OCCCN2CCNCCC2=O)ccc1-c1nc2c(C)cc(Cl)cc2[nH]1.[H-].[Na+]>CN(C)C=O.O>Cc1cc(OCCCN2CCN(C(=O)OC(C)(C)C)CCC2=O)ccc1C=O\n",
      " 144949 | CCCn1cncc1CSc1ccc(N)cc1.OO>ClCCl>CCCn1cncc1CS(=O)c1ccc(N)cc1\n",
      " 236571 | C#C[Si](C)(C)C.CC(C)NC(C)C.CC(C)c1nnc2ccc(Br)cn12>C1CCOC1.I[Cu]I>CC(C)c1nnc2ccc(C#C[Si](C)(C)C)cn12\n",
      " 268359 | C[Si](C)(C)[N-][Si](C)(C)C.Cc1ccc(CC#N)cc1.ClC[C@H]1CO1.[Na+]>C1CCOC1>Cc1ccc([C@]2(C#N)C[C@H]2CO)cc1\n",
      " 286344 | CC(C)(C)[O-].CC(C)[Si](S)(C(C)C)C(C)C.CN(Cc1ccccc1I)C(=O)OC(C)(C)C.[Na+].c1ccc(P(c2ccccc2)c2ccccc2Oc2ccccc2P(c2ccccc2)c2ccccc2)cc1>Cc1ccccc1.O=C(/C=C/c1ccccc1)/C=C/c1ccccc1.O=C(/C=C/c1ccccc1)/C=C/c1ccccc1.O=C(/C=C/c1ccccc1)/C=C/c1ccccc1.[Pd].[Pd]>CC(C)[Si](Sc1ccccc1CN(C)C(=O)OC(C)(C)C)(C(C)C)C(C)C\n",
      " 408864 | O=C(O[N+](=O)[O-])c1ccccc1>CCOC(C)=O.ClCCl>NOC(=O)c1ccccc1\n",
      " 416853 | O=C(O[N+](=O)[O-])c1ccccc1>CCOC(C)=O.ClCCl>NOC(=O)c1ccccc1\n",
      " 470202 | BrCc1ccccc1.COC(=O)c1cc(O)cc(O)c1.O=C([O-])[O-].[K+].[K+]>CN(C)C=O>COC(=O)c1cc(O)cc(OCc2ccccc2)c1\n",
      " 485163 | CCS(=O)(=O)CCC12CCC(C(=O)O)(CC1)CC2.CN(C)C=O.O=C(Cl)C(=O)Cl>ClCCl>CCS(=O)(=O)CCC12CCC(C(=O)NC3C4CC5CC(C4)CC3C5)(CC1)CC2\n",
      " 569822 | CC(C)(C)[O-].CC(C)[Si](S)(C(C)C)C(C)C.CN(Cc1ccccc1I)C(=O)OC(C)(C)C.[Na+].c1ccc(P(c2ccccc2)c2ccccc2Oc2ccccc2P(c2ccccc2)c2ccccc2)cc1>Cc1ccccc1.O=C(/C=C/c1ccccc1)/C=C/c1ccccc1.O=C(/C=C/c1ccccc1)/C=C/c1ccccc1.O=C(/C=C/c1ccccc1)/C=C/c1ccccc1.[Pd].[Pd]>CC(C)[Si](Sc1ccccc1CN(C)C(=O)OC(C)(C)C)(C(C)C)C(C)C\n",
      " 643507 | CC(C)(C)OC(=O)N1CCC(CCCOc2ccc3c(c2)CCN(S(C)(=O)=O)C3)CC1.O=C(O)C(F)(F)F>ClCCl>CS(=O)(=O)N1CCc2cc(OCCCC3CCNCC3)ccc2C1\n",
      " 677916 | CCCCCCCCCCC.Cc1cc(C)c([Mg+])c(C)c1.Clc1ccccc1.O=C([O-])C(O)C(O)C(=O)[O-].[Br-].[K+].[Na+]>C1CCOC1>Cc1cc(C)c(-c2ccccc2)c(C)c1\n",
      " 774886 | BrCCCCBr.CC(C)(C)c1cc(Br)ccc1N.[Cl-].[H-].[NH4+].[Na+]>C1CCOC1.CS(C)=O>CC(C)(C)c1cc(Br)ccc1N1CCCC1\n",
      " 809105 | COc1cccc(N)c1.Nc1ncc2c(n1)-c1ccc(I)cc1NC(=O)C2.O=P([O-])([O-])[O-].[K+].[K+].[K+]>CN1CCCC1=O>COc1cccc(Nc2ccc3c(c2)NC(=O)Cc2cnc(N)nc2-3)c1\n",
      " 891663 | CCN(C(C)C)C(C)C.O=C(Cl)Oc1ccc([N+](=O)[O-])cc1.OCCSSc1ccccn1>ClCCl>O=C(OCCSSc1ccccn1)Oc1ccc([N+](=O)[O-])cc1\n",
      " 907805 | C1COCCO1.CC(C)(C)OC(=O)OC(=O)OC(C)(C)C.NCCCCCCO.O=C([O-])[O-].[K+].[K+]>O>CC(C)(C)OC(=O)NCCCCCCO\n",
      " 952203 | CCN(C(C)C)C(C)C.O=C(Cl)Oc1ccc([N+](=O)[O-])cc1.OCCSSc1ccccn1>ClCCl>O=C(OCCSSc1ccccn1)Oc1ccc([N+](=O)[O-])cc1\n",
      " 957939 | COc1ccc(CO)cc1.O=P([O-])(O)O.O=P([O-])([O-])O.OO.[Na+].[Na+].[Na+].[Na+].[OH-]>CCCC[N+](CCCC)(CCCC)CCCC.Cc1ccccc1C.O=S(=O)([O-])O>COc1ccc(C=O)cc1\n",
      " 999327 | CC(=O)c1c(F)cccc1F.O=S(=O)(O)O.O=[N+]([O-])O>ClCCl>CC(=O)c1c(F)ccc([N+](=O)[O-])c1F\n",
      "1013804 | CCN(C(C)C)C(C)C.O=C(Cl)Oc1ccc([N+](=O)[O-])cc1.OCCSSc1ccccn1>ClCCl>O=C(OCCSSc1ccccn1)Oc1ccc([N+](=O)[O-])cc1\n",
      "1019717 | CCN(C(C)C)C(C)C.O=C(Cl)Oc1ccc([N+](=O)[O-])cc1.OCCSSc1ccccn1>ClCCl>O=C(OCCSSc1ccccn1)Oc1ccc([N+](=O)[O-])cc1\n",
      "1060879 | CO.O=C(O)C=Cc1ccccc1.O=S(=O)(O)O>>COC(=O)C=Cc1ccccc1\n",
      "1068208 | C1COCCO1.CC(C)(C)OC(=O)OC(=O)OC(C)(C)C.NCCCCCCO.O=C([O-])[O-].[K+].[K+]>O>CC(C)(C)OC(=O)NCCCCCCO\n",
      "1076880 | C=C(C)[C@@H]1CC[C@]2(NCCCN3CCCC3=O)CC[C@]3(C)[C@H](CC[C@@H]4[C@@]5(C)CC=C(c6ccc(C(=O)OC)c(F)c6)C(C)(C)[C@@H]5CC[C@]43C)[C@@H]12.[Na+].[OH-]>C1COCCO1>C=C(C)[C@@H]1CC[C@]2(NCCCN3CCCC3=O)CC[C@]3(C)[C@H](CC[C@@H]4[C@@]5(C)CC=C(c6ccc(C(=O)O)c(F)c6)C(C)(C)[C@@H]5CC[C@]43C)[C@@H]12\n",
      "1077319 | C1CCNC1.C1COCCN1.CCCCc1ccc(NS(=O)(=O)c2ccc(Br)c(C(=O)O)c2)cc1>CCOC(C)=O>COc1ccccc1Br\n",
      "1138375 | CC(C)(C)N(CCC(=O)O)C(=O)OCc1ccccc1.O=C(O)CO>O=CO>O=C(O)CCNC(=O)OCc1ccccc1.O=C(O)CO\n",
      "1165041 | CC(C)(C)OC(=O)CBr.O=C(O)CCNC(=O)OCc1ccccc1.O=C([O-])[O-].[K+].[K+]>CC(C)=O>CC(C)(C)N(CCC(=O)O)C(=O)OCc1ccccc1.O=C(O)CO\n"
     ]
    }
   ],
   "source": [
    "with gzip.open(removed_mapping_filepath, 'rb+') as data_file:\n",
    "    i = 1\n",
    "    while 1:\n",
    "        try:\n",
    "            line, _ = cPickle.load(data_file)\n",
    "            if i in list_long_reactants:\n",
    "                print(\"%7d | %s\" %(i, line))\n",
    "        except EOFError:\n",
    "            break\n",
    "        i += 1"
   ]
  },
  {
   "cell_type": "markdown",
   "metadata": {},
   "source": [
    "RSMIs' product count"
   ]
  },
  {
   "cell_type": "code",
   "execution_count": 9,
   "metadata": {
    "collapsed": false
   },
   "outputs": [
    {
     "name": "stdout",
     "output_type": "stream",
     "text": [
      "{1: 1124081, 2: 59213, 3: 10680, 4: 1628, 5: 398, 6: 82, 7: 41, 8: 7, 9: 15, 10: 2, 11: 1, 12: 11, 13: 2, 16: 3, 18: 1}\n"
     ]
    }
   ],
   "source": [
    "product_num_count = {}\n",
    "with gzip.open(removed_mapping_filepath, 'rb+') as data_file:\n",
    "    i = 1\n",
    "    while 1:\n",
    "        try:\n",
    "            line, _ = cPickle.load(data_file)\n",
    "            cnt = line.split('>')[2].count('.') + 1\n",
    "            if cnt in product_num_count:\n",
    "                product_num_count[cnt] += 1\n",
    "            else:\n",
    "                product_num_count[cnt] = 1\n",
    "        except EOFError:\n",
    "            break\n",
    "        i += 1\n",
    "        \n",
    "print(product_num_count)"
   ]
  },
  {
   "cell_type": "markdown",
   "metadata": {},
   "source": [
    "Collect reaction smiles with products_num smaller than 4\n",
    "(maybe 'smaller than 3' would make better results?)"
   ]
  },
  {
   "cell_type": "code",
   "execution_count": 12,
   "metadata": {
    "collapsed": false
   },
   "outputs": [
    {
     "name": "stderr",
     "output_type": "stream",
     "text": [
      "100% (1196165 of 1196165) |################| Elapsed Time: 0:00:32 ETA:  0:00:00"
     ]
    }
   ],
   "source": [
    "processed_data_filename = 'processed_data.pkl.gz'\n",
    "processed_data_filepath = os.path.join(data_directory, processed_data_filename)\n",
    "bar = progressbar.ProgressBar(redirect_stdout=True, max_value=len(length_data))\n",
    "\n",
    "with gzip.open(removed_mapping_filepath, 'rb+') as data_file:\n",
    "    with gzip.open(processed_data_filepath, 'wb') as processed_file:\n",
    "        i = 1\n",
    "        while 1:\n",
    "            try:\n",
    "                line, ref = cPickle.load(data_file)\n",
    "                products_num = line.split('>')[2].count('.') + 1                \n",
    "                reactants_length = line.rfind('>')\n",
    "                products_length = len(line)-line.rfind('>')-1\n",
    "                if (reactants_length < 150 and products_length < 80):\n",
    "                    if (products_num < 4):\n",
    "                        cPickle.dump((line, ref), processed_file, 2)\n",
    "            except EOFError:\n",
    "                break\n",
    "            bar.update(i)\n",
    "            i += 1"
   ]
  },
  {
   "cell_type": "markdown",
   "metadata": {},
   "source": [
    "How many strings are obtained?"
   ]
  },
  {
   "cell_type": "code",
   "execution_count": 15,
   "metadata": {
    "collapsed": false
   },
   "outputs": [
    {
     "data": {
      "text/plain": [
       "1094235"
      ]
     },
     "execution_count": 15,
     "metadata": {},
     "output_type": "execute_result"
    }
   ],
   "source": [
    "'number of processed data strings'"
   ]
  }
 ],
 "metadata": {
  "kernelspec": {
   "display_name": "Python 2",
   "language": "python",
   "name": "python2"
  },
  "language_info": {
   "codemirror_mode": {
    "name": "ipython",
    "version": 2
   },
   "file_extension": ".py",
   "mimetype": "text/x-python",
   "name": "python",
   "nbconvert_exporter": "python",
   "pygments_lexer": "ipython2",
   "version": "2.7.12"
  }
 },
 "nbformat": 4,
 "nbformat_minor": 1
}
