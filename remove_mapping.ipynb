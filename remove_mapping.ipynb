{
 "cells": [
  {
   "cell_type": "code",
   "execution_count": 1,
   "metadata": {
    "collapsed": false
   },
   "outputs": [
    {
     "name": "stderr",
     "output_type": "stream",
     "text": [
      " 99% (1196008 of 1196165) |################ | Elapsed Time: 0:08:28 ETA: 0:00:00"
     ]
    }
   ],
   "source": [
    "from __future__ import print_function\n",
    "\n",
    "import os, sys\n",
    "import re\n",
    "import cPickle, gzip\n",
    "import progressbar\n",
    "from rdkit.Chem import AllChem\n",
    "\n",
    "data_directory = 'data'\n",
    "data_filename = '2001-2013_USPTOapplications_reactionSmiles_feb2014filters.rsmi'\n",
    "removed_mapping_filename = '2001-2013_rsmi_filtered_removed_mapping.pkl.gz'\n",
    "length_data_filename = 'length_data.pkl.gz'\n",
    "\n",
    "data_filepath = os.path.join(data_directory, data_filename)\n",
    "removed_mapping_filepath = os.path.join(data_directory, removed_mapping_filename)\n",
    "length_data_filepath = length_data_filename\n",
    "\n",
    "length_list = [] # list of tuple (reactants length, products length)\n",
    "num_lines = sum(1 for line in open(data_filepath, 'r')) # total lines\n",
    "bar = progressbar.ProgressBar(redirect_stdout=True, max_value=num_lines)\n",
    "\n",
    "with open(data_filepath, 'r') as data_file:\n",
    "    with gzip.open(removed_mapping_filepath, 'wb+') as output_file:\n",
    "        for i, line in enumerate(data_file):\n",
    "            rsmi = re.split(re.compile(r'[ \\t]'), line)\n",
    "            rxn = AllChem.ReactionFromSmarts(rsmi[0], useSmiles=True)\n",
    "            AllChem.RemoveMappingNumbersFromReactions(rxn)\n",
    "            output_smiles = AllChem.ReactionToSmiles(rxn)\n",
    "            length_list.append((output_smiles.rfind('>'), \\\n",
    "                                len(output_smiles)-output_smiles.rfind('>')-1))\n",
    "            cPickle.dump((output_smiles, rsmi[2]+rsmi[1]), output_file, 2)\n",
    "            bar.update(i)\n",
    "\n",
    "# save length tuple list for later use\n",
    "with open(length_data_filename, 'wb+') as f:\n",
    "    cPickle.dump(length_list, f, 2)"
   ]
  },
  {
   "cell_type": "code",
   "execution_count": null,
   "metadata": {
    "collapsed": true
   },
   "outputs": [],
   "source": []
  }
 ],
 "metadata": {
  "kernelspec": {
   "display_name": "Python 2",
   "language": "python",
   "name": "python2"
  },
  "language_info": {
   "codemirror_mode": {
    "name": "ipython",
    "version": 2
   },
   "file_extension": ".py",
   "mimetype": "text/x-python",
   "name": "python",
   "nbconvert_exporter": "python",
   "pygments_lexer": "ipython2",
   "version": "2.7.12"
  }
 },
 "nbformat": 4,
 "nbformat_minor": 1
}
