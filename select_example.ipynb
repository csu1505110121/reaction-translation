{
 "cells": [
  {
   "cell_type": "code",
   "execution_count": 2,
   "metadata": {
    "collapsed": true
   },
   "outputs": [],
   "source": [
    "from __future__ import print_function\n",
    "\n",
    "import os\n",
    "import re\n",
    "import cPickle, gzip\n",
    "import random"
   ]
  },
  {
   "cell_type": "code",
   "execution_count": 3,
   "metadata": {
    "collapsed": false
   },
   "outputs": [],
   "source": [
    "# rsmi data reloader\n",
    "\n",
    "data_directory = 'data'\n",
    "processed_data_filename = 'processed_data.pkl.gz'\n",
    "processed_data_filepath = os.path.join(data_directory, processed_data_filename)\n",
    "rsmi_data = []\n",
    "\n",
    "with gzip.open(processed_data_filepath, 'rb') as data_file:\n",
    "    while 1:\n",
    "        try:\n",
    "            line, ref = cPickle.load(data_file)\n",
    "            rsmi_data.append((line, ref))\n",
    "        except EOFError:\n",
    "            break"
   ]
  },
  {
   "cell_type": "code",
   "execution_count": 21,
   "metadata": {
    "collapsed": false
   },
   "outputs": [
    {
     "name": "stdout",
     "output_type": "stream",
     "text": [
      "('CC1(C)CC=C(c2cc(C(C)(C)CO[Si](C)(C)C(C)(C)C)ccc2NC(=O)c2nc(C#N)cn2COCC[Si](C)(C)C)CC1.CCCC[N+](CCCC)(CCCC)CCCC.CCOC(C)=O.O.[F-]>C1CCOC1>CC1(C)CC=C(c2cc(C(C)(C)CO)ccc2NC(=O)c2nc(C#N)c[nH]2)CC1', 'US20070249649A1|f:1.2.3|')\n"
     ]
    }
   ],
   "source": [
    "print(random.choice(rsmi_data))"
   ]
  },
  {
   "cell_type": "code",
   "execution_count": null,
   "metadata": {
    "collapsed": true
   },
   "outputs": [],
   "source": []
  },
  {
   "cell_type": "code",
   "execution_count": null,
   "metadata": {
    "collapsed": true
   },
   "outputs": [],
   "source": []
  }
 ],
 "metadata": {
  "kernelspec": {
   "display_name": "Python 2",
   "language": "python",
   "name": "python2"
  },
  "language_info": {
   "codemirror_mode": {
    "name": "ipython",
    "version": 2
   },
   "file_extension": ".py",
   "mimetype": "text/x-python",
   "name": "python",
   "nbconvert_exporter": "python",
   "pygments_lexer": "ipython2",
   "version": "2.7.12"
  }
 },
 "nbformat": 4,
 "nbformat_minor": 1
}
